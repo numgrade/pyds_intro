{
 "cells": [
  {
   "cell_type": "markdown",
   "metadata": {
    "slideshow": {
     "slide_type": "slide"
    }
   },
   "source": [
    "![](Images/numgrade-bigger.jpg)\n",
    "\n",
    "\n",
    "# Manipuler, analyser et visualiser des données grâce aux modules Python de Data Science\n",
    "\n",
    "\n",
    "![](Images/python-logo-master-v3-TM.png)\n",
    "![image alt <](Images/numpy.jpg)\n",
    "![image alt >](Images/pandas_logo.png)\n",
    "![image alt <](Images/matplotlib_logo2.jpg)\n",
    "![image alt >](Images/seaborn_logo_reduced.png)\n",
    "![](Images/plotly_logo_reduced.png)"
   ]
  },
  {
   "cell_type": "markdown",
   "metadata": {},
   "source": [
    "## Programme de la formation\n",
    "\n",
    "   - **Introduction** : présentation de l'écosystème Python pour l'analyse de données et installation de packages (jour 1)\n",
    "    \n",
    "   - **Manipulation et analyse de données** : utilisation des packages **NumPy** (jour 1) et **pandas** (jours 2 & 3) \n",
    "    \n",
    "   - **Visualisation des données** : visualiser les données avec **matplotlib**, **seaborn** et **plotly** (jours 3 & 4)"
   ]
  },
  {
   "cell_type": "markdown",
   "metadata": {
    "slideshow": {
     "slide_type": "slide"
    }
   },
   "source": [
    "## Certification"
   ]
  },
  {
   "cell_type": "markdown",
   "metadata": {
    "slideshow": {
     "slide_type": "slide"
    }
   },
   "source": [
    "### Inscription à la certification\n",
    "\n",
    "Si vous partcipez à une formation financée avec votre CPF (Compte Personnel de Formation), vous vous êtes engagé à passer la certification (pas de coût supplémentaire pour vous car votre inscription à cette formation couvre les frais d'inscription à la certification).\n",
    "\n",
    "Si vous participez à la formation dans le cadre d'un autre financement, nous vous invitons également à passer la certification (même si ce n'est pas oligatoire). De plus, votre inscription couvre les frais d'inscription à la certification."
   ]
  },
  {
   "cell_type": "markdown",
   "metadata": {},
   "source": [
    "Vous devez effectuer quelques démarches pour valider votre inscription auprès de l'organisme certificateur (API Society) :\n",
    "\n",
    "- 1er jour de la formation : \n",
    "    \n",
    "    - Dans vos emails, vous avez dû recevoir un lien (https://certman.api-society.com/...) à partir duquel vous pourrez procéder à l'inscription.\n",
    "    \n",
    "    - A la suite de l'inscription, vous recevrez de la part de l'organisme certificateur 2 PDFs : le contenu du cours et le cahier d'exercices.\n",
    "    \n",
    "    - C'est lors de cette étape que vous aurez besoin de la copie de votre pièce d'identité au format PDF.\n",
    "    \n",
    "- Le lendemain du dernier jour de la formation :\n",
    "\n",
    "    - L'organisme certificateur vous enverra 2 tickets (un ticket pour l'épreuve théorique et un ticket pour l'épreuve pratique) par email pour passer la certification.\n",
    "    \n",
    "    - Vous devez passer la certification dans un délai d'un mois après la fin de la formation."
   ]
  },
  {
   "cell_type": "markdown",
   "metadata": {},
   "source": [
    "### Conditions et déroulement de la certification"
   ]
  },
  {
   "cell_type": "markdown",
   "metadata": {},
   "source": [
    "La certification se déroule à distance et pour passer la certification vous devrez :\n",
    "\n",
    "- installer le logiciel de certification téléchargeable à partir de cet adresse : [https://www.api-society.com/fr/logiciel](https://www.api-society.com/fr/logiciel)\n",
    "    \n",
    "- utiliser un ordinateur avec une webcam. Le logiciel enregistre le son ambiant, l'image de votre webcam et la capture écran de votre ordinateur. Téléversées sur les serveurs du certificateur, ces captations sont analysées afin de garantir l'absence de fraudes grâce au contrôle de votre identité et à la surveillance des captations des épreuves.\n",
    "\n",
    "- prévoir environ 2h30 dans un environnement calme."
   ]
  },
  {
   "cell_type": "markdown",
   "metadata": {},
   "source": [
    "Déroulement de l'épreuve :\n",
    "\n",
    "- L'épreuve se déroule en 2 étapes :\n",
    "\n",
    "   - Une épreuve théorique (QCM, QCU, questions à trou, vrai / faux) d'une durée de 20 minutes (40 questions). Validation à partir de 24 réponses justes.\n",
    "   \n",
    "   - Une épreuve pratique (5 exercices sur les fonctions et classes) d'une durée de 120 minutes.\n",
    "   \n",
    "- Pendant l'épreuve, vous n'aurez pas accès à une aide externe. Si par exemple, vous tentez de vous connecter sur un site web pour chercher de l'aide en ligne, le logiciel de certification le détectera et mettra un terme au passage de la certification.\n",
    "\n",
    "- Pendant l'épreuve théorique, vous n'avez accès à aucune aide.\n",
    "\n",
    "- Pendant l'épreuve pratique, vous programmerez dans un environnement Jupyter Notebook. Dans cet environnement, vous pourrez utiliser les \"raccourcis Jupyter\" et accéder à l'aide \"habituel\" dans un environnement de programmation Python (ce sujet de l'accès à l'aide sera abordé pendant la formation)"
   ]
  },
  {
   "cell_type": "markdown",
   "metadata": {},
   "source": [
    "Autres informations :\n",
    "\n",
    "- Votre formateur est lui aussi certifié avec la mention Expert ou Instructeur.\n",
    "\n",
    "- La certification est inscrite au Répertoire Spécifique de France Compétences sous le numéro RS6763 : [https://www.francecompetences.fr/recherche/rs/6763/](https://www.francecompetences.fr/recherche/rs/6763/). Vous trouverez sur cette page la liste des compétences attestées. En bas de cette page, vous pourrez également télécharger le \"Référentiel d'activités, de compétences et d'évaluation\" sur lequel vous trouverez le lien entre le référentiel de compétences et le référentiel d'évaluation."
   ]
  },
  {
   "cell_type": "markdown",
   "metadata": {
    "slideshow": {
     "slide_type": "slide"
    }
   },
   "source": [
    "![image alt >](Images/numgrade.png)\n",
    "\n",
    "Introduction\n",
    "======================\n",
    "\n",
    "![](Images/python-logo-master-v3-TM.png)"
   ]
  },
  {
   "cell_type": "markdown",
   "metadata": {
    "slideshow": {
     "slide_type": "slide"
    }
   },
   "source": [
    "![image alt >](Images/numgrade.png)\n",
    "\n",
    "#### Philosophie du langage Python :\n",
    "\n",
    "   - langage intuitif et facile à apprendre\n",
    "    \n",
    "   - open source, tout le monde peut contribuer à son développement\n",
    "    \n",
    "   - code lisible qui facilite la lecture et la compréhension\n",
    "    \n",
    "   - approprié pour la plupart des tâches informatiques tout en permettant un développement rapide\n",
    "\n",
    "\n",
    "   - *\"Je voulais que Python soit un peu différent des autres, et montrer qu’il n’y a rien de mal à être différent.  A l’époque, la clarté n’était pas au cœur de la philosophie des langages ...\"*\n",
    "\n",
    "   - *\"Dans la philosophie de Python, le temps d’exécution n’est pas aussi important que le temps nécessaire à l’écriture du code\"*\n",
    "\n",
    "\n",
    "__Guido van Rossum__ - *Le Monde, 25.07.2018*"
   ]
  },
  {
   "cell_type": "markdown",
   "metadata": {
    "slideshow": {
     "slide_type": "fragment"
    }
   },
   "source": [
    "#### Caractéristiques du langage Python :\n",
    "\n",
    "   - langage de programmation orientée objet\n",
    "   \n",
    "   - langage interprété*\n",
    "   \n",
    "   - gestion automatique de la mémoire\n",
    "   \n",
    "   - \"batteries included\" avec la bibliothèque standard**\n",
    "   \n",
    "   - système de gestion d'exceptions\n",
    "   \n",
    "   - portable"
   ]
  },
  {
   "cell_type": "markdown",
   "metadata": {
    "slideshow": {
     "slide_type": "-"
    }
   },
   "source": [
    "<sub>\\* Pour un langage interprété, un interpréteur va être utilisé à chaque fois que l'on voudra faire fonctionner notre programme. Nous avons donc une exécution dynamique du programme au contraire des langages compilés qui vont passer par une étape de compilation (le code source est traduit une seule fois en code dit objet). Les langages interprétés permettent donc d'éviter cette étape de compilation mais seront moins rapides à l'exécution que les langages compilés. En réalité, Python combine les 2 techniques : il y a d'abord une étape de compilation qui produit un code intermédiaire dit bytecode (fichiers .pyc) et c'est ce bytecode qui est ensuite interprété (le passage par du bytecode permet l'obtention de meilleures performances). Ces étapes de compilation/interprétation restent transparentes pour le programmeur Python. </sub>\n",
    "\n",
    "\n",
    "<sub>*Aller plus loin :*</sub>\n",
    "\n",
    "<sub> - [https://opensource.com/article/18/4/introduction-python-bytecode](https://opensource.com/article/18/4/introduction-python-bytecode)</sub>\n",
    "\n",
    "<sub> - [https://fr.wikipedia.org/wiki/Bytecode](https://fr.wikipedia.org/wiki/Bytecode)</sub>\n",
    "\n",
    "\n",
    "<sub>\\*\\* La [PEP206](https://www.python.org/dev/peps/pep-0206/) précise que ces \"batteries included\" ne seront pas forcément le meilleur choix lorsqu'il s'agira de s'attaquer à certains problèmes spécifiques. Par exemple, pour la programmation scientifique, nous nous tournerons vers les librairies NumPy, SciPy...</sub>"
   ]
  },
  {
   "cell_type": "markdown",
   "metadata": {
    "slideshow": {
     "slide_type": "slide"
    }
   },
   "source": [
    "![image alt >](Images/numgrade.png)\n",
    "\n",
    "#### Popularité\n",
    "\n",
    "##### Stack Overflow Trends : comparaison avec d'autres langages\n",
    "\n",
    "![](Images/python_trends_stackoverflow.png)"
   ]
  },
  {
   "cell_type": "markdown",
   "metadata": {},
   "source": [
    "Source : [https://insights.stackoverflow.com/trends?tags=python%2Cr%2Cc%2Cmatlab](https://insights.stackoverflow.com/trends?tags=python%2Cr%2Cc%2Cmatlab)"
   ]
  },
  {
   "cell_type": "markdown",
   "metadata": {
    "slideshow": {
     "slide_type": "subslide"
    }
   },
   "source": [
    "![image alt >](Images/numgrade.png)\n",
    "\n",
    "##### Stack Overflow Trends : les packages data science\n",
    "\n",
    "![](Images/datascience_packages_trends_stackoverflow.png)"
   ]
  },
  {
   "cell_type": "markdown",
   "metadata": {},
   "source": [
    "L'utilisation de Python dans le domaine de la data science est devenu très commun."
   ]
  },
  {
   "cell_type": "markdown",
   "metadata": {},
   "source": [
    "Source : [https://insights.stackoverflow.com/trends?tags=pandas%2Cnumpy%2Cmatplotlib](https://insights.stackoverflow.com/trends?tags=pandas%2Cnumpy%2Cmatplotlib)\n",
    "\n",
    "Étude plus complète de Stack Overflow : [https://stackoverflow.blog/2017/09/14/python-growing-quickly/](https://stackoverflow.blog/2017/09/14/python-growing-quickly/)"
   ]
  },
  {
   "cell_type": "markdown",
   "metadata": {
    "slideshow": {
     "slide_type": "subslide"
    }
   },
   "source": [
    "![image alt >](Images/numgrade.png)\n",
    "\n",
    "**Presse spécialisée** : on trouve de nombreux articles mettant en avant la popularité grandissante du langage Python :\n",
    "\n",
    " - \"[Langages de programmation : les développeurs utilisent toujours plus Python](https://www.linformaticien.com/actualites/id/51815/langages-de-programmation-les-developpeurs-utilisent-toujours-plus-python.aspx)\" - L'informaticien, 11/04/19\n",
    "\n",
    " - \"[Langages de programmation : les développeurs Python désormais plus nombreux que les développeurs Java](https://www.zdnet.fr/actualites/langages-de-programmation-les-developpeurs-python-desormais-plus-nombreux-que-les-developpeurs-java-39883507.htm)\" - ZDNet, 16/04/19\n",
    "\n",
    " - \"[Popularity Index: Python Is 2018 'Language of the Year'](https://adtmag.com/articles/2019/01/08/tiobe-jan-2019.aspx)\" - ADTmag, 08/01/19\n",
    " \n",
    " - \"[Python is eating the world: How one developer's side project became the hottest programming language on the planet](https://www.zdnet.com/google-amp/article/python-is-eating-the-world-how-one-developers-side-project-became-the-hottest-programming-language-on-the-planet/?__twitter_impression=true)\" - ZDNet, 11/07/19\n",
    " \n",
    " - \"[Pourquoi Python est le langage le plus adapté au big data](https://www.lebigdata.fr/pourquoi-python-est-le-langage-le-plus-adapte-au-big-data)\" - lebigdata.fr, 09/11/20\n",
    " \n",
    " - \"[Qu’est-ce que je peux faire avec Python ?](https://www.lebigdata.fr/ce-que-je-peux-faire-python)\" - lebigdata.fr - 29/12/21\n",
    " \n",
    " - \"[Python nommé langage de programmation de l’année 2021](https://www.blogdumoderateur.com/python-langage-programmation-2021/)\" - blog du modérateur / classement TIOBE, 04/01/22\n",
    " \n",
    " -  ...\n",
    "\n",
    "\n",
    "**Presse quotidienne** : de nombreux articles étaient également parus suite au retrait en tant que Benevolent Dictator for Life (BDFL) de Guido van Rossum en 2018 :\n",
    "\n",
    "- \"Python is becoming the world’s most popular coding language\" ([https://www.economist.com/graphic-detail/2018/07/26/python-is-becoming-the-worlds-most-popular-coding-language](https://www.economist.com/graphic-detail/2018/07/26/python-is-becoming-the-worlds-most-popular-coding-language))\n",
    "\n",
    "- \"Python has brought computer programming to a vast new audience\" ([https://www.economist.com/science-and-technology/2018/07/19/python-has-brought-computer-programming-to-a-vast-new-audience](https://www.economist.com/science-and-technology/2018/07/19/python-has-brought-computer-programming-to-a-vast-new-audience))\n",
    "\n",
    "- \"Je n’imaginais pas que le langage informatique Python connaîtrait un tel succès\" [https://www.lemonde.fr/pixels/article/2018/07/25/je-n-imaginais-pas-que-python-connaitrait-un-tel-succes_5335917_4408996.html](https://www.lemonde.fr/pixels/article/2018/07/25/je-n-imaginais-pas-que-python-connaitrait-un-tel-succes_5335917_4408996.html)\n",
    "\n",
    "\"The rate of queries has trebled since 2010, while inquiries after other programming languages have been flat or declining (Google Trends).\"\n",
    "\n",
    "\"The language’s popularity has grown not merely among professional developers ... the biggest increase in demand is from those wishing to learn Python ... covering everything from astronomy to game development.\"\n",
    "\n",
    "\"Python’s killer features—simple syntax that makes its code easy to learn and share, and its huge array of third-party packages—make it a good general-purpose language. Its versatility is shown by its range of users and uses ... covering everything from astronomy to game development.\"\n",
    "\n",
    "\"C’est un langage très facile à apprendre pour des chercheurs... c’est notamment pour cela que la communauté scientifique s’en est rapidement emparée.\"\n",
    "\n",
    "\"Déjà élu langage de l’année 2020...devenir numéro 1 de l’index \\[TIOBE\\]. Selon l’index TIOBE, la popularité de Python n’est pas prête de s’essouffler... Python a tout pour devenir le langage de programmation standard dans de nombreux domaines.\""
   ]
  },
  {
   "cell_type": "markdown",
   "metadata": {
    "slideshow": {
     "slide_type": "slide"
    }
   },
   "source": [
    "![image alt >](Images/numgrade.png)\n",
    "\n",
    "## Comment installer Python ?"
   ]
  },
  {
   "cell_type": "markdown",
   "metadata": {
    "slideshow": {
     "slide_type": "-"
    }
   },
   "source": [
    "Il existe plusieurs options pour installer Python :\n",
    "\n",
    "- La version \"officielle\" : vous pouvez facilement installer la dernière version de Python (ou même des versions plus anciennes) via le site [https://www.python.org/downloads/](https://www.python.org/downloads/)\n",
    "\n",
    "- Un autre moyen courant d'installer Python et en même temps des packages Python populaires était d'utiliser [Anaconda](https://www.anaconda.com/distribution/) : **⚠ WARNING ⚠** - au départ libre et gratuit, la société Anaconda a changé les termes de la licence pour la distribution Anaconda en 2020 et les entreprises de plus de 200 salariés doivent payer une licence. CONSEIL : si vous ne souhaitez pas payer pour la distribution Anaconda, désinstallez Anaconda.\n",
    "\n",
    "- Anaconda était très populaire dans le milieu de la Data Science et présentait un côté pratique pour la gestion des environnements, des versions de Python et des installations. Donc si vous aimez bien gérer vos environnements avec Anaconda, quelles sont vos alternatives ?\n",
    "\n",
    "    - [Miniforge](https://github.com/conda-forge/miniforge) : une alternative minimaliste de Anaconda avec conda-forge comme channel par défaut.\n",
    "       \n",
    "    - [miniconda](https://docs.anaconda.com/miniconda/miniconda-install/) : cela installe l'outil en ligne de commande qui est gratuit et open source. Mais **⚠ attention ⚠** à son utilisation ! Il ne faudra pas utiliser le \"channel par défaut\" sans avoir payé la licence anaconda. Il vous faudra utiliser des channels gratuits : on conseille souvent l'utilisation du channel [conda-forge](https://conda-forge.org/docs/). Le channel conda-forge est maintenu par une communauté gratuitement et bien qu'hébergé par la société Anaconda, [il est pour l'instant gratuit](https://conda-forge.org/blog/2020/11/20/anaconda-tos/). \n",
    "    \n",
    "    - [mamba](https://mamba.readthedocs.io/en/latest/user_guide/concepts.html) : une ré-implémentation de miniconda écrit en C++, ce qui rend mamba plus rapide que miniconda pour les installations des packages. mamba utilise aussi des channels pour les installations. Le channel par défaut est [conda-forge](https://conda-forge.org/docs/).\n",
    "    \n",
    "    - [WinPython](https://winpython.github.io/#overview) : une distribution gratuite et open-source pour les utilisateurs Windows 10/11 développée au départ par des personnes du CEA. A l'image de ce que propose Anaconda, cette distribution embarque des environnements de développement et les packages scientifiques les plus populaires. Une solution assez commode pour démarrer sans se confronter tout de suite aux installations des packages. \n",
    "    \n",
    "    - pyenv, pipx, pipenv... : plusieurs outils existent pour gérer les versions et les installations. Je vous parle d'une option à la fin du cours Python perfectionnement (Python niveau 2).\n",
    "        \n",
    "   - [python(x, y)](https://python-xy.github.io/) : logiciel basé sur une interface graphique et contenant plusieurs packages Python pour la Science.\n",
    "\n",
    "\n",
    " \n",
    " Références :\n",
    " \n",
    " - https://www.anaconda.com/blog/is-conda-free\n",
    " \n",
    " - https://docs.anaconda.com/miniconda/miniconda-install/\n",
    " \n",
    " - https://conda-forge.org/blog/2020/11/20/anaconda-tos/\n",
    " \n",
    " - https://www.datacamp.com/blog/anaconda-alternatives\n",
    " \n",
    " - https://stackoverflow.com/questions/65256884/is-an-anaconda-commerical-edition-license-required-for-conda-forge-repositories\n",
    " \n",
    " - https://medium.com/@vkmauryavk/exploring-conda-licensing-issues-and-why-mamba-is-the-best-alternative-environment-manager-571f0794ac7c "
   ]
  },
  {
   "cell_type": "markdown",
   "metadata": {
    "slideshow": {
     "slide_type": "slide"
    }
   },
   "source": [
    "![image alt >](Images/numgrade.png)\n",
    "## Python 2  vs  Python 3"
   ]
  },
  {
   "cell_type": "markdown",
   "metadata": {
    "slideshow": {
     "slide_type": "fragment"
    }
   },
   "source": [
    "**Guido van Rossum** commence l'implémentation de Python en décembre 1989.\n",
    "\n",
    "1991 : sortie de la première version\n",
    "\n",
    "2000 : Python 2 \n",
    "\n",
    "2008 : Python 3 (incompatible avec Python 2)"
   ]
  },
  {
   "cell_type": "markdown",
   "metadata": {
    "slideshow": {
     "slide_type": "fragment"
    }
   },
   "source": [
    "Les versions <= 2.6 sont maintenant obsolètes, il est donc déconseillé de les utiliser.\n",
    "\n",
    "La version 2.7 est et restera comme la dernière version de Python 2.x. Il est tout de même important de noter qu'elle n'est plus supportée depuis le 1er janvier 2020 ! [Plus de 100 projets Python populaires s'engagent à abandonner Python 2 d'ici 2020](https://python.developpez.com/actu/274807/Plus-de-100-projets-Python-populaires-s-engagent-a-abandonner-Python-2-x-d-ici-2020-l-agence-britannique-de-cybersecurite-appelle-egalement-a-arreter-de-supporter-cette-version-de-Python/) - *26/08/19, Developpez.com*\n",
    "\n",
    "La plupart des librairies importantes sont disponibles sur les 2 versions, mon conseil est donc de choisir la version 3 à moins que vous ayez besoin d'une librairie qui n'a pas été portée sous Python 3. Mais depuis le 1er janvier 2020, il est fortement déconseillé d'utiliser Python 2 car il n'y a plus de mises à jour, ni même de correctif de sécurité.\n",
    "\n",
    "La version la plus récente est la version 3.13 sortie en octobre 2024.\n",
    "\n",
    "Depuis la version 3.8, le [cycle de développement](https://endoflife.date/python) est le suivant :\n",
    " \n",
    " - sortie d'une nouvelle version en octobre,\n",
    " \n",
    " - maintenance pendant 5 ans.\n",
    " \n",
    "Par exemple pour Python 3.8 (sortie en octobre 2019), les mises à jour de sécurité se sont arrêtées en octobre 2024."
   ]
  },
  {
   "cell_type": "markdown",
   "metadata": {},
   "source": [
    "<div class=\"alert alert-block alert-info\">\n",
    "<b>Note</b>\n",
    "\n",
    "Il est possible de travailler avec plusieurs versions de Python sur un même ordinateur. conda (ou mamba, miniforge...) permet de réaliser cette opération facilement, voir l'exercice à la fin de l'introduction.\n",
    "</div>"
   ]
  },
  {
   "cell_type": "markdown",
   "metadata": {
    "slideshow": {
     "slide_type": "slide"
    }
   },
   "source": [
    "![image alt >](Images/numgrade.png)\n",
    "### L'écosystème Python"
   ]
  },
  {
   "cell_type": "markdown",
   "metadata": {},
   "source": [
    "Python est un langage généraliste sur lequel se sont greffées différentes communautés qui ont enrichi l'écosystème Python."
   ]
  },
  {
   "cell_type": "markdown",
   "metadata": {},
   "source": [
    "Lorsque l'on installe Python, Python vient avec la **[bibliothèque standard](https://docs.python.org/3/library/)** : c'est la boîte à outils pour résoudre les problématiques \"de tous les jours\" du programmeur."
   ]
  },
  {
   "cell_type": "markdown",
   "metadata": {},
   "source": [
    "[PyPI](https://pypi.org/) (Python Package Index) : plus de 600 000 packages disponibles (02/2025) ! Le nombre de packages est énorme et il est impossible de tout connaître mais certains packages sont très connus et utilisés."
   ]
  },
  {
   "cell_type": "markdown",
   "metadata": {},
   "source": [
    "Le langage Python va ainsi pouvoir être utilisé pour de nombreux usage... Et nous allons tout particulièrement nous intéresser aux packages pour la **Data Science** !"
   ]
  },
  {
   "cell_type": "markdown",
   "metadata": {
    "slideshow": {
     "slide_type": "subslide"
    }
   },
   "source": [
    "![image alt >](Images/numgrade.png)\n",
    "### L'écosystème Data Science / Scientifique"
   ]
  },
  {
   "cell_type": "markdown",
   "metadata": {},
   "source": [
    "Schéma subjectif et non exhaustif !"
   ]
  },
  {
   "cell_type": "markdown",
   "metadata": {},
   "source": [
    "![](Images/python_data_ecosystem.png)"
   ]
  },
  {
   "cell_type": "markdown",
   "metadata": {
    "slideshow": {
     "slide_type": "subslide"
    }
   },
   "source": [
    "![image alt >](Images/numgrade.png)\n",
    "\n",
    "## Comment installer des packages ?"
   ]
  },
  {
   "cell_type": "markdown",
   "metadata": {},
   "source": [
    "### Installer des packages avec pip"
   ]
  },
  {
   "cell_type": "markdown",
   "metadata": {},
   "source": [
    "Principales commandes :"
   ]
  },
  {
   "cell_type": "markdown",
   "metadata": {},
   "source": [
    "- Aide :\n",
    "    \n",
    "        $ pip --help        "
   ]
  },
  {
   "cell_type": "markdown",
   "metadata": {},
   "source": [
    "- Aide pour l'installation :\n",
    "    \n",
    "        $ pip install --help        "
   ]
  },
  {
   "cell_type": "markdown",
   "metadata": {},
   "source": [
    "- Installer un package :\n",
    "\n",
    "  - installer la dernière version :\n",
    "  \n",
    "          $ pip install <package_name>\n",
    "          \n",
    "  - installer une version spécifique :\n",
    "  \n",
    "          $ pip install <package_name>==1.7"
   ]
  },
  {
   "cell_type": "markdown",
   "metadata": {},
   "source": [
    "- Désinstaller un package :\n",
    "\n",
    "        $ pip uninstall <package_name>       "
   ]
  },
  {
   "cell_type": "markdown",
   "metadata": {},
   "source": [
    "- Mettre à jour un package :\n",
    "\n",
    "        $ pip install --upgrade <package_name>"
   ]
  },
  {
   "cell_type": "markdown",
   "metadata": {},
   "source": [
    "- Lister les packages installés :\n",
    "\n",
    "        $ pip list"
   ]
  },
  {
   "cell_type": "markdown",
   "metadata": {},
   "source": [
    "- Installer une liste de packages :\n",
    "\n",
    "        $ pip install -r requirements.txt"
   ]
  },
  {
   "cell_type": "markdown",
   "metadata": {},
   "source": [
    "Guide officiel : [https://pip.pypa.io/en/stable/installation/](https://pip.pypa.io/en/stable/installation/)"
   ]
  },
  {
   "cell_type": "markdown",
   "metadata": {},
   "source": [
    "### Installer des packages avec conda"
   ]
  },
  {
   "cell_type": "markdown",
   "metadata": {},
   "source": [
    "Principales commandes :"
   ]
  },
  {
   "cell_type": "markdown",
   "metadata": {},
   "source": [
    "- Aide :\n",
    "    \n",
    "        $ conda --help        "
   ]
  },
  {
   "cell_type": "markdown",
   "metadata": {},
   "source": [
    "- Aide pour l'installation :\n",
    "    \n",
    "        $ conda install --help        "
   ]
  },
  {
   "cell_type": "markdown",
   "metadata": {},
   "source": [
    "- Installer un package :\n",
    "\n",
    "  - installer la dernière version :\n",
    "  \n",
    "          $ conda install <package_name>\n",
    "          \n",
    "  - installer une version spécifique :\n",
    "  \n",
    "          $ conda install <package_name>=<version>"
   ]
  },
  {
   "cell_type": "markdown",
   "metadata": {},
   "source": [
    "- Désinstaller un package :\n",
    "\n",
    "        $ conda remove <package_name>        "
   ]
  },
  {
   "cell_type": "markdown",
   "metadata": {},
   "source": [
    "- Mettre à jour un package :\n",
    "\n",
    "        $ conda update <package_name>"
   ]
  },
  {
   "cell_type": "markdown",
   "metadata": {},
   "source": [
    "- Lister les packages installés :\n",
    "\n",
    "        $ conda list"
   ]
  },
  {
   "cell_type": "markdown",
   "metadata": {},
   "source": [
    "- Créer un environnement et installer une liste de packages à partir d'un fichier yaml :\n",
    "\n",
    "        $ conda env create -f environment.yml"
   ]
  },
  {
   "cell_type": "markdown",
   "metadata": {},
   "source": [
    "Guide des commandes conda : [https://docs.conda.io/projects/conda/en/stable/commands/index.html](https://docs.conda.io/projects/conda/en/stable/commands/index.html)"
   ]
  },
  {
   "cell_type": "markdown",
   "metadata": {},
   "source": [
    "<div class=\"alert alert-block alert-info\">\n",
    "    <b>NOTE</b>\n",
    "\n",
    "Il est très fortement recommandé d'installer les packages dans des **environnements virtuels** (voir exercice à la fin de l'introduction).\n",
    "</div>"
   ]
  },
  {
   "cell_type": "markdown",
   "metadata": {
    "slideshow": {
     "slide_type": "slide"
    }
   },
   "source": [
    "![image alt >](Images/numgrade.png)\n",
    "\n",
    "## Jupyter Notebook / JupyterLab  - IDE - Éditeur de texte"
   ]
  },
  {
   "cell_type": "markdown",
   "metadata": {
    "slideshow": {
     "slide_type": "-"
    }
   },
   "source": [
    "Il existe un interpréteur standard mais ses capacités sont très limitées. Une solution très populaire est d'utiliser les **notebooks Jupyter** qui sont beaucoup plus conviviaux et qui offrent beaucoup plus de possibilités :\n",
    "    \n",
    "   - Python shells (terminal ou basé sur Qt).\n",
    "   \n",
    "   - \"web-based notebooks\" avec les mêmes caractéristiques mais en plus la possibilité d'intégrer du code, texte, des expressions mathématiques, des graphiques...\n",
    "   \n",
    "   - Visualisation interactive.\n",
    "   \n",
    "   - Possibilité de sauvegarder un notebook en tant que fichier Python.\n",
    "   \n",
    "   - Possibilité de créer des présentations depuis le notebook (cette présentation provient d'un notebook).\n",
    "   \n",
    "   - Auto-complétion de la ligne de commande.\n",
    "   \n",
    "   - Langage agnostique (depuis le passage à Jupyter).\n",
    "   \n",
    "   - [nbviewer](http://nbviewer.jupyter.org/) (http://nbviewer.jupyter.org/): un service web gratuit pour partager vos notebooks. \n",
    "   \n",
    "   - Possibilité de lire les notebooks directement sur GitHub. Plus de 10 millions de notebooks Jupyter sur Github au début de l'année 2021 (2,5 millions en septembre 2018, ~200 000 en 2015).\n",
    "   \n",
    "   - Possibilité de créer des notebooks exécutables dans le \"cloud\" avec [https://mybinder.org/](https://mybinder.org/) ou [Google Colaboratory](https://colab.research.google.com/) ([https://colab.research.google.com/](https://colab.research.google.com/))\n",
    "   \n",
    "   - JupyterHub : serveur multi-utilisateur pour les notebooks Jupyter.\n",
    "   \n",
    "   - Articles scientifiques :\n",
    "       - Why Jupyter is data scientists’ computational notebook of choice (Jeffrey M. Perkel) **Nature** 563, *145-146* (2018) - [https://www.nature.com/articles/d41586-018-07196-1](https://www.nature.com/articles/d41586-018-07196-1) - \"Jupyter is a free, open-source, interactive web tool known as a computational notebook, which researchers can use to combine software code, computational output, explanatory text and multimedia resources in a single document. Computational notebooks have been around for decades, but Jupyter in particular has exploded in popularity over the past couple of years ...\"\n",
    "       - Jupyter: Thinking and Storytelling With Code and Data  (Brian E. Granger, Fernando Pérez) **Computing in Science & Engineering** ( Volume: 23, Issue: 2, 01 March-April 2021) - [https://ieeexplore.ieee.org/abstract/document/9387490/authors#authors](https://ieeexplore.ieee.org/abstract/document/9387490/authors#authors) - DOI: 10.1109/MCSE.2021.3059263 - 10ème anniversaire des Jupyter Notebook.\n",
    "   \n",
    "   - Certains journaux scientifiques incitent à partager le code, les données, et à l'image de Journal of Open Source Software, également des notebooks exécutables tels que les Jupyter notebooks.\n",
    "   \n",
    "   - [2020 EarthCube Annual Meeting](http://eartnumgradeube.org/EC2020) : les organisateurs proposent la possibilité de soumettre des abstracts sous la forme de Jupyter notebooks.\n",
    "\n",
    "Au cours de la formation, j'utiliserai principalement le notebook Jupyter pour présenter les corrections des exercices. Mais il existe de nombreux autres environnements de travail pour Python :\n",
    "\n",
    "Les **IDE (Environnement de Développement Intégré)** : PyCharm, Wing, PyDev (plug-in Eclipse), JupyterLab, Spyder...\n",
    "\n",
    "Les **éditeurs de texte** : emacs, vim, sublime text, atom, VS Code...\n",
    "\n",
    "Pour ouvrir un notebook, dans le terminal tapez (il faudra l'installer avant en faisant \"pip install notebook\") :\n",
    "\n",
    "    $ jupyter-notebook  \n",
    "\n",
    "Pour ouvrir VS Code depuis votre terminal :\n",
    "\n",
    "    $ code .\n",
    "    \n"
   ]
  },
  {
   "cell_type": "markdown",
   "metadata": {},
   "source": [
    "Avantages / désavantages des différentes solutions :\n",
    "\n",
    "   - Jupyter notebook :\n",
    "        - simple à prendre en main\n",
    "        - convivial\n",
    "        - on peut mixer code et texte\n",
    "        - très pratique pour l'analyse de données\n",
    "        - difficile de versionner les notebooks\n",
    "        - environnement moins adapté pour le développement de programmes\n",
    "    \n",
    "    \n",
    "   - IDE :\n",
    "        - environnement convivial pour développer des programmes\n",
    "        - facilité d'utilisation (debugger, aide, utilisation de la souris)\n",
    "        - dédié à un seul langage (mais pas toujours)\n",
    "        \n",
    "        \n",
    "   - Éditeurs de texte :\n",
    "        - multi-langages\n",
    "        - nombreuses extensions pour faciliter le développement\n",
    "        - très nombreux raccourcis clavier\n",
    "        - un peu moins convivial et plus difficile à prendre en main (moins vrai avec les nouveaux éditeurs de texte)"
   ]
  },
  {
   "cell_type": "markdown",
   "metadata": {
    "slideshow": {
     "slide_type": "slide"
    }
   },
   "source": [
    "![image alt >](Images/numgrade.png)\n",
    "\n",
    "## Démonstration et exercices"
   ]
  },
  {
   "cell_type": "markdown",
   "metadata": {},
   "source": [
    "**Objectifs pédagogiques** :\n",
    "\n",
    "- Apprendre à manipuler des environnements de développement pour écrire du code\n",
    "\n",
    "- Apprendre à créer des environnements virtuels\n",
    "\n",
    "- Comprendre les différences entre conda, pip et venv\n",
    "\n",
    "- Savoir installer des packages avec conda et pip"
   ]
  },
  {
   "cell_type": "markdown",
   "metadata": {},
   "source": [
    "Démonstration : présentation du Jupyter Notebook, de JupyterLab, d'un IDE et d'un éditeur de texte.\n",
    "\n",
    "1. (difficulté : ⭐) Créer des environnements virtuels de 2 manières différentes :\n",
    "\n",
    "    - avec l'utilitaire conda\n",
    "    \n",
    "    - avec le module venv\n",
    "    \n",
    "2. (difficulté : ⭐) Dans les environnements virtuels, installer un ou plusieurs packages (numpy, pandas, matplotlib...)  :\n",
    "\n",
    "    - avec l'utilitaire conda\n",
    "    \n",
    "    - avec le module venv\n",
    "    \n",
    "3. (difficulté : ⭐) Vérifier que les packages précédemment installés sont présents dans les environnements virtuels."
   ]
  }
 ],
 "metadata": {
  "anaconda-cloud": {},
  "celltoolbar": "Slideshow",
  "kernelspec": {
   "display_name": "Python 3 (ipykernel)",
   "language": "python",
   "name": "python3"
  },
  "language_info": {
   "codemirror_mode": {
    "name": "ipython",
    "version": 3
   },
   "file_extension": ".py",
   "mimetype": "text/x-python",
   "name": "python",
   "nbconvert_exporter": "python",
   "pygments_lexer": "ipython3",
   "version": "3.11.12"
  },
  "livereveal": {
   "autolaunch": false,
   "scroll": true
  },
  "widgets": {
   "state": {},
   "version": "2.0.10"
  }
 },
 "nbformat": 4,
 "nbformat_minor": 4
}

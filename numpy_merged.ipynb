{
 "cells": [
  {
   "cell_type": "markdown",
   "id": "409a40ba",
   "metadata": {
    "slideshow": {
     "slide_type": "slide"
    }
   },
   "source": [
    "![image alt <](Images/numgrade-bigger.jpg)\n",
    "![image alt >](Images/numpy.jpg)"
   ]
  },
  {
   "cell_type": "markdown",
   "id": "923fe3f1",
   "metadata": {
    "slideshow": {
     "slide_type": "subslide"
    }
   },
   "source": [
    "![image alt >](Images/numgrade.png)\n",
    "\n",
    "# NumPy : introduction"
   ]
  },
  {
   "cell_type": "markdown",
   "id": "045f82b6",
   "metadata": {},
   "source": [
    "NumPy est une librairie qui permet de manipuler des tableaux multi-dimensionnels, des matrices ainsi que de nombreuses fonctions mathématiques opérant sur ces tableaux.\n",
    "\n",
    "Le développement de NumPy a commencé dès 1995 avec le package Numeric. Un peu plus tard, Numarray, une ré-implémentation de Numeric, a été réalisée afin de gérer des tableaux plus volumineux et d'apporter de nouvelles fonctionnalités. Finalement, ces 2 packages (qui cohabitaient) ont été réunis en 2005 en un seul package : NumPy.\n",
    "\n",
    "Et maintenant presque toutes les librairies scientifiques et d'analyses de données s'appuient sur NumPy : \n",
    "\n",
    "![site NumPy](Images/numpy_scientific_domains.png)\n",
    "\n",
    "Nombreuses sont ces librairies à mimer l'utilisation des tableaux NumPy.\n",
    "\n",
    "Site web officiel : [http://www.numpy.org/](http://www.numpy.org/)\n",
    "\n",
    "Github : [https://github.com/numpy/numpy](https://github.com/numpy/numpy)\n",
    "\n",
    "Article scientifique : Harris, C.R., Millman, K.J., van der Walt, S.J. et al. *Array programming with NumPy*. Nature 585, 357–362 (2020). https://doi.org/10.1038/s41586-020-2649-2"
   ]
  },
  {
   "cell_type": "markdown",
   "id": "9e203ab9",
   "metadata": {
    "collapsed": true,
    "slideshow": {
     "slide_type": "subslide"
    }
   },
   "source": [
    "![image alt >](Images/numgrade.png)\n",
    "\n",
    "Principales caractéristiques :\n",
    "\n",
    " - tableaux n-dimensionnels \n",
    " \n",
    " - opérations complexes pour la sélection des données\n",
    " \n",
    " - outils pour intégrer du code C/C++ et fortran\n",
    " \n",
    " - algèbre linéaire, transformée de Fourier, nombres aléatoires\n",
    " \n",
    "NumPy peut également être utilisé efficacement pour le stockage multi-dimensionnel de données génériques. \n",
    "\n",
    "Des types de données arbitraires peuvent également être définis, permettant à NumPy de s'interfacer facilement avec une large variété de bases de données."
   ]
  },
  {
   "cell_type": "markdown",
   "id": "4b9deaaf",
   "metadata": {
    "slideshow": {
     "slide_type": "slide"
    }
   },
   "source": [
    "![image alt >](Images/numgrade.png)\n",
    "## Pourquoi avez-vous besoin de Numpy?   "
   ]
  },
  {
   "cell_type": "markdown",
   "id": "780af911",
   "metadata": {
    "slideshow": {
     "slide_type": "fragment"
    }
   },
   "source": [
    "Python est un langage typé dynamiquement, c'est à dire que le type des variables n'a pas à être explicitement déclaré (comme en C ou Java).\n",
    "\n",
    "Ainsi en Python, vous pouvez assigner n'importe quel type de données à une variable, ce qui serait impossible avec un langage typé statiquement :"
   ]
  },
  {
   "cell_type": "code",
   "execution_count": 1,
   "id": "30ce67c8",
   "metadata": {
    "collapsed": true,
    "slideshow": {
     "slide_type": "fragment"
    }
   },
   "outputs": [],
   "source": [
    "# Python code\n",
    "x = 1\n",
    "x = \"one\""
   ]
  },
  {
   "cell_type": "markdown",
   "id": "9b18fdad",
   "metadata": {
    "slideshow": {
     "slide_type": "fragment"
    }
   },
   "source": [
    "/\\* C code \\*/\n",
    "\n",
    "int x = 4;\n",
    "\n",
    "x = \"four\"   // It fails!"
   ]
  },
  {
   "cell_type": "markdown",
   "id": "6003d081",
   "metadata": {
    "slideshow": {
     "slide_type": "fragment"
    }
   },
   "source": [
    "Cette flexibilité signifie que les variables en Python ne sont pas uniquement leur valeur. Comparons un entier dans le langage C et dans le langage Python :"
   ]
  },
  {
   "cell_type": "markdown",
   "id": "3cca41c3",
   "metadata": {
    "slideshow": {
     "slide_type": "subslide"
    }
   },
   "source": [
    "![image alt >](Images/numgrade.png)\n",
    "![](Images/integer.png)"
   ]
  },
  {
   "cell_type": "markdown",
   "id": "277654a7",
   "metadata": {
    "slideshow": {
     "slide_type": "-"
    }
   },
   "source": [
    "### C integer:\n",
    "\n",
    "C'est essentiellement un label correspondant à la position en mémoire\n",
    "\n",
    "\n",
    "### Python integer:\n",
    "C'est un pointeur sur la position en mémoire qui va contenir :\n",
    "\n",
    "- PyObject_HEAD : \n",
    "\n",
    "    - un compteur qui va permettre à Python d'allouer ou de désallouer l'espace mémoire\n",
    "    \n",
    "    - le type de la variable\n",
    "    \n",
    "    - la taille des données\n",
    "    \n",
    "    \n",
    "- digit:\n",
    "    \n",
    "     la valeur de l'entier\n",
    "\n",
    "\n",
    "Évidemment, ce complément d'information a un coût, ce sera particulièrement le cas pour les structures (par exemple les listes) qui combinent plusieurs objets."
   ]
  },
  {
   "cell_type": "markdown",
   "id": "97e484cf",
   "metadata": {
    "slideshow": {
     "slide_type": "subslide"
    }
   },
   "source": [
    "![image alt >](Images/numgrade.png)\n",
    "#### Pourquoi utiliser les tableaux NumPy plutôt que des listes pour le calcul scientifique ?"
   ]
  },
  {
   "cell_type": "markdown",
   "id": "577e1f78",
   "metadata": {
    "slideshow": {
     "slide_type": "fragment"
    }
   },
   "source": [
    "Les listes en Python sont très flexibles : vous pouvez créer des listes d'entiers, de nombres flottants, de chaînes de caractères ou même mixer différents types de données. Exemple : "
   ]
  },
  {
   "cell_type": "code",
   "execution_count": 5,
   "id": "e79c58fa",
   "metadata": {
    "slideshow": {
     "slide_type": "fragment"
    }
   },
   "outputs": [
    {
     "data": {
      "text/plain": [
       "[bool, str, int, float]"
      ]
     },
     "execution_count": 5,
     "metadata": {},
     "output_type": "execute_result"
    }
   ],
   "source": [
    "items = [True, \"hello\", 1, 2.0]\n",
    "[type(item) for item in items]"
   ]
  },
  {
   "cell_type": "markdown",
   "id": "68e5080a",
   "metadata": {
    "slideshow": {
     "slide_type": "fragment"
    }
   },
   "source": [
    "Cette flexibilité a évidemment un coût, chaque élément dans la liste est un objet Python et il contient donc les informations associées (compteur, type, taille...).\n",
    "\n",
    "Si nous avons besoin de données qui auront toutes le même type, alors la plupart des informations associées sont redondantes et il serait bien plus efficace de stocker les données dans un tableau avec un type de données fixé."
   ]
  },
  {
   "cell_type": "markdown",
   "id": "50bcbcff",
   "metadata": {
    "slideshow": {
     "slide_type": "subslide"
    }
   },
   "source": [
    "![image alt >](Images/numgrade.png)\n",
    "Différence entre un tableau NumPy et une liste Python :   "
   ]
  },
  {
   "cell_type": "markdown",
   "id": "b898a111",
   "metadata": {
    "slideshow": {
     "slide_type": "fragment"
    }
   },
   "source": [
    "![](Images/lists_vs_array.png)"
   ]
  },
  {
   "cell_type": "markdown",
   "id": "18a5485b",
   "metadata": {
    "slideshow": {
     "slide_type": "subslide"
    }
   },
   "source": [
    "![image alt >](Images/numgrade.png)\n",
    "- Tableau Numpy :\n",
    "\n",
    "    -- il contient essentiellement un pointeur vers bloc continu de données.\n",
    "\n",
    "\n",
    "- Liste Python :\n",
    "\n",
    "    -- elle contient un pointeur vers un bloc de pointeur\n",
    "  \n",
    "    -- et chaque pointeur pointe vers un objet Python."
   ]
  },
  {
   "cell_type": "markdown",
   "id": "8d3a5b89",
   "metadata": {
    "slideshow": {
     "slide_type": "fragment"
    }
   },
   "source": [
    "Les tableaux NumPy n'ont pas la flexibilité des listes Python (type fixé Vs type variable) mais ils seront beaucoup plus efficaces pour le stockage et la manipulation des données."
   ]
  },
  {
   "cell_type": "code",
   "execution_count": 2,
   "id": "c74514ba",
   "metadata": {
    "slideshow": {
     "slide_type": "fragment"
    }
   },
   "outputs": [],
   "source": [
    "# Performance test - Comparing Python and Numpy\n",
    "import random\n",
    "import sys\n",
    "\n",
    "import numpy as np\n",
    "\n",
    "\n",
    "n = 1000000\n",
    "list1 = [random.random() for i in range(n)]\n",
    "list2 = [random.random() for i in range(n)]\n",
    "arr1 = np.array(list1)\n",
    "arr2 = np.array(list2)"
   ]
  },
  {
   "cell_type": "markdown",
   "id": "2d7dc1fe",
   "metadata": {
    "slideshow": {
     "slide_type": "subslide"
    }
   },
   "source": [
    "![image alt >](Images/numgrade.png)\n",
    "Comparons la performance lorsqu'on ajoute le contenu des 2 listes ou des 2 tableaux NumPy :"
   ]
  },
  {
   "cell_type": "code",
   "execution_count": 8,
   "id": "67d3003a",
   "metadata": {
    "slideshow": {
     "slide_type": "fragment"
    }
   },
   "outputs": [
    {
     "name": "stdout",
     "output_type": "stream",
     "text": [
      "95.3 ms ± 1.71 ms per loop (mean ± std. dev. of 7 runs, 10 loops each)\n"
     ]
    }
   ],
   "source": [
    "%timeit l3 = [x+y for x, y in zip(list1, list2)] "
   ]
  },
  {
   "cell_type": "code",
   "execution_count": 9,
   "id": "39d799db",
   "metadata": {
    "slideshow": {
     "slide_type": "fragment"
    }
   },
   "outputs": [
    {
     "name": "stdout",
     "output_type": "stream",
     "text": [
      "1.97 ms ± 175 µs per loop (mean ± std. dev. of 7 runs, 100 loops each)\n"
     ]
    }
   ],
   "source": [
    "%timeit a3 = arr1 + arr2"
   ]
  },
  {
   "cell_type": "markdown",
   "id": "05399bf7",
   "metadata": {
    "slideshow": {
     "slide_type": "fragment"
    }
   },
   "source": [
    "Usage mémoire :"
   ]
  },
  {
   "cell_type": "code",
   "execution_count": 10,
   "id": "7eef7a26",
   "metadata": {
    "slideshow": {
     "slide_type": "fragment"
    }
   },
   "outputs": [
    {
     "name": "stdout",
     "output_type": "stream",
     "text": [
      "Size per element in a list of floats: 24 bytes.\n",
      "Size per element in a NumPy array of floats: 8 bytes.\n"
     ]
    }
   ],
   "source": [
    "print(f'Size per element in a list of floats: {sys.getsizeof(list1[1])} bytes.')\n",
    "print(f'Size per element in a NumPy array of floats: {arr1.itemsize} bytes.')"
   ]
  },
  {
   "cell_type": "markdown",
   "id": "316ebf8c",
   "metadata": {
    "slideshow": {
     "slide_type": "fragment"
    }
   },
   "source": [
    "NOTE :\n",
    "\n",
    "Depuis Python 3.3, Python possède un module nommé *array*. Bien que ce module propose un stockage efficace des données, l'utilisation de NumPy est toujours bien plus avantageuse car la librairie NumPy contient de nombreuses opérations pour manipuler et travailler sur les tableaux."
   ]
  },
  {
   "cell_type": "code",
   "execution_count": 11,
   "id": "98bcc39a",
   "metadata": {
    "slideshow": {
     "slide_type": "fragment"
    }
   },
   "outputs": [
    {
     "data": {
      "text/plain": [
       "array('i', [0, 1, 2, 3, 4])"
      ]
     },
     "execution_count": 11,
     "metadata": {},
     "output_type": "execute_result"
    }
   ],
   "source": [
    "# Python built-in array module\n",
    "import array\n",
    "\n",
    "numbers = list(range(5))\n",
    "arr = array.array('i', numbers)   # 'i' is for integer\n",
    "arr"
   ]
  },
  {
   "cell_type": "markdown",
   "id": "cd86efc8",
   "metadata": {
    "slideshow": {
     "slide_type": "subslide"
    }
   },
   "source": [
    "![image alt >](Images/numgrade.png)\n",
    "## Pourquoi des tableaux ?    "
   ]
  },
  {
   "cell_type": "markdown",
   "id": "35188e5c",
   "metadata": {
    "slideshow": {
     "slide_type": "fragment"
    }
   },
   "source": [
    "Les tableaux sont les structures de données les plus \"naturelles\" pour de nombreux types de données scientifiques :\n",
    "\n",
    "- Matrices\n",
    "\n",
    "- Séries temporelles\n",
    "\n",
    "- Images\n",
    "\n",
    "- Tableaux de données"
   ]
  },
  {
   "cell_type": "markdown",
   "id": "ad435dbd",
   "metadata": {
    "slideshow": {
     "slide_type": "slide"
    }
   },
   "source": [
    "![image alt <](Images/numpy.jpg)\n",
    "![image alt >](Images/numgrade.png)"
   ]
  },
  {
   "cell_type": "markdown",
   "id": "2923cc26",
   "metadata": {},
   "source": [
    "# Créer un tableau avec NumPy"
   ]
  },
  {
   "cell_type": "markdown",
   "id": "c3953c25",
   "metadata": {
    "slideshow": {
     "slide_type": "fragment"
    }
   },
   "source": [
    "Il existe un import standard pour NumPy :"
   ]
  },
  {
   "cell_type": "code",
   "execution_count": 1,
   "id": "bfd92b6f",
   "metadata": {
    "slideshow": {
     "slide_type": "fragment"
    }
   },
   "outputs": [],
   "source": [
    "import numpy as np"
   ]
  },
  {
   "cell_type": "markdown",
   "id": "8363cdf2",
   "metadata": {
    "slideshow": {
     "slide_type": "fragment"
    }
   },
   "source": [
    "#### Créer un tableau à partir d'une liste Python:"
   ]
  },
  {
   "cell_type": "markdown",
   "id": "917fc206",
   "metadata": {
    "slideshow": {
     "slide_type": "fragment"
    }
   },
   "source": [
    "Nous pouvons utiliser la fonction *array* :"
   ]
  },
  {
   "cell_type": "code",
   "execution_count": 2,
   "id": "473528aa",
   "metadata": {
    "scrolled": true,
    "slideshow": {
     "slide_type": "fragment"
    }
   },
   "outputs": [
    {
     "data": {
      "text/plain": [
       "array([1, 2, 3, 4])"
      ]
     },
     "execution_count": 2,
     "metadata": {},
     "output_type": "execute_result"
    }
   ],
   "source": [
    "np.array([1, 2, 3, 4])"
   ]
  },
  {
   "cell_type": "markdown",
   "id": "b96416fa",
   "metadata": {
    "slideshow": {
     "slide_type": "subslide"
    }
   },
   "source": [
    "![image alt >](Images/numgrade.png)\n",
    "Notez que les tableaux NumPy doivent contenir des données de même type. Ainsi NumPy convertira automatiquement des données avec des types différents.\n",
    "\n",
    "Voyons un exemple avec des entiers et des nombres à virgule flottante :"
   ]
  },
  {
   "cell_type": "code",
   "execution_count": 3,
   "id": "14ec7c8d",
   "metadata": {
    "slideshow": {
     "slide_type": "fragment"
    }
   },
   "outputs": [
    {
     "data": {
      "text/plain": [
       "array([2.  , 2.71, 3.  ])"
      ]
     },
     "execution_count": 3,
     "metadata": {},
     "output_type": "execute_result"
    }
   ],
   "source": [
    "np.array([2, 2.71, 3])"
   ]
  },
  {
   "cell_type": "markdown",
   "id": "ff2fa5f9",
   "metadata": {
    "slideshow": {
     "slide_type": "fragment"
    }
   },
   "source": [
    "Toutes les données sont maintenant des nombres à virgule flottante."
   ]
  },
  {
   "cell_type": "markdown",
   "id": "0567eeae",
   "metadata": {
    "slideshow": {
     "slide_type": "fragment"
    }
   },
   "source": [
    "Il est aussi possible de spécifier le type de données souhaité avec le mot clé *dtype* :"
   ]
  },
  {
   "cell_type": "code",
   "execution_count": 4,
   "id": "f95791d7",
   "metadata": {
    "slideshow": {
     "slide_type": "fragment"
    }
   },
   "outputs": [
    {
     "data": {
      "text/plain": [
       "array([1., 2., 3., 4.], dtype=float32)"
      ]
     },
     "execution_count": 4,
     "metadata": {},
     "output_type": "execute_result"
    }
   ],
   "source": [
    "np.array([1, 2, 3, 4], dtype='float32')"
   ]
  },
  {
   "cell_type": "markdown",
   "id": "b39dd575",
   "metadata": {},
   "source": [
    "Nous reviendrons plus loin sur les différents types de données."
   ]
  },
  {
   "cell_type": "markdown",
   "id": "77a65696",
   "metadata": {
    "slideshow": {
     "slide_type": "subslide"
    }
   },
   "source": [
    "![image alt >](Images/numgrade.png)\n",
    "Vous pouvez créer des tableaux multi-dimensionnels à partir de listes imbriquées :"
   ]
  },
  {
   "cell_type": "code",
   "execution_count": 5,
   "id": "2bebf95a",
   "metadata": {
    "slideshow": {
     "slide_type": "fragment"
    }
   },
   "outputs": [
    {
     "data": {
      "text/plain": [
       "[[1, 2, 3, 4], [5, 6, 7, 8], [9, 10, 11, 12], [13, 14, 15, 16]]"
      ]
     },
     "execution_count": 5,
     "metadata": {},
     "output_type": "execute_result"
    }
   ],
   "source": [
    "data = [[i, i+1, i+2, i+3] for i in [1, 5, 9, 13]]\n",
    "data"
   ]
  },
  {
   "cell_type": "code",
   "execution_count": 6,
   "id": "7cdac911",
   "metadata": {
    "scrolled": true,
    "slideshow": {
     "slide_type": "fragment"
    }
   },
   "outputs": [
    {
     "data": {
      "text/plain": [
       "array([[ 1,  2,  3,  4],\n",
       "       [ 5,  6,  7,  8],\n",
       "       [ 9, 10, 11, 12],\n",
       "       [13, 14, 15, 16]])"
      ]
     },
     "execution_count": 6,
     "metadata": {},
     "output_type": "execute_result"
    }
   ],
   "source": [
    "np.array(data)"
   ]
  },
  {
   "cell_type": "markdown",
   "id": "016f76c5",
   "metadata": {
    "slideshow": {
     "slide_type": "fragment"
    }
   },
   "source": [
    "Les listes internes sont traitées comme des lignes. Le résultat est un tableau à 2 dimensions."
   ]
  },
  {
   "cell_type": "markdown",
   "id": "51e8e7af",
   "metadata": {
    "slideshow": {
     "slide_type": "fragment"
    }
   },
   "source": [
    "Note : une autre façon d'obtenir le même résultat serait d'utiliser la fonction *range*."
   ]
  },
  {
   "cell_type": "code",
   "execution_count": 7,
   "id": "dc5673e1",
   "metadata": {
    "slideshow": {
     "slide_type": "fragment"
    }
   },
   "outputs": [
    {
     "data": {
      "text/plain": [
       "array([[ 1,  2,  3,  4],\n",
       "       [ 5,  6,  7,  8],\n",
       "       [ 9, 10, 11, 12],\n",
       "       [13, 14, 15, 16]])"
      ]
     },
     "execution_count": 7,
     "metadata": {},
     "output_type": "execute_result"
    }
   ],
   "source": [
    "np.array([range(i, i + 4) for i in [1, 5, 9, 13]])"
   ]
  },
  {
   "cell_type": "markdown",
   "id": "1eae506f",
   "metadata": {
    "slideshow": {
     "slide_type": "subslide"
    }
   },
   "source": [
    "![image alt >](Images/numgrade.png)\n",
    "Une autre façon d'obtenir le même résultat serait de combiner les listes (ou *range*) avec *reshape* :"
   ]
  },
  {
   "cell_type": "code",
   "execution_count": 8,
   "id": "0899af45",
   "metadata": {
    "slideshow": {
     "slide_type": "fragment"
    }
   },
   "outputs": [
    {
     "data": {
      "text/plain": [
       "array([[ 1,  2,  3,  4],\n",
       "       [ 5,  6,  7,  8],\n",
       "       [ 9, 10, 11, 12],\n",
       "       [13, 14, 15, 16]])"
      ]
     },
     "execution_count": 8,
     "metadata": {},
     "output_type": "execute_result"
    }
   ],
   "source": [
    "np.array(range(1, 17)).reshape(4, 4)"
   ]
  },
  {
   "cell_type": "markdown",
   "id": "b7db2edc",
   "metadata": {
    "slideshow": {
     "slide_type": "subslide"
    }
   },
   "source": [
    "![image alt >](Images/numgrade.png)\n",
    "\n",
    "### Exercice (difficulté : ⭐) \n",
    "\n",
    "**Objectifs pédagogiques** :\n",
    "\n",
    "- Savoir importer NumPy\n",
    "\n",
    "- Apprendre à créer son premier tableau NumPy\n",
    "\n",
    "**Enoncé**\n",
    "\n",
    "Créez un tableau à 3 dimensions (3 x 3 x 3).    "
   ]
  },
  {
   "cell_type": "markdown",
   "id": "338deceb",
   "metadata": {
    "slideshow": {
     "slide_type": "fragment"
    }
   },
   "source": [
    "-- Une solution avec des listes imbriquées :"
   ]
  },
  {
   "cell_type": "code",
   "execution_count": 9,
   "id": "05e2b9f6",
   "metadata": {
    "scrolled": false,
    "slideshow": {
     "slide_type": "fragment"
    }
   },
   "outputs": [
    {
     "data": {
      "text/plain": [
       "[[range(1, 4), range(4, 7), range(7, 10)],\n",
       " [range(10, 13), range(13, 16), range(16, 19)],\n",
       " [range(19, 22), range(22, 25), range(25, 28)]]"
      ]
     },
     "execution_count": 9,
     "metadata": {},
     "output_type": "execute_result"
    }
   ],
   "source": [
    "data = [[range(i, i+3), range(i+3, i+6), range(i+6, i+9)] for i in [1, 10, 19]]\n",
    "data"
   ]
  },
  {
   "cell_type": "code",
   "execution_count": 10,
   "id": "dbce3f4d",
   "metadata": {
    "slideshow": {
     "slide_type": "fragment"
    }
   },
   "outputs": [
    {
     "data": {
      "text/plain": [
       "array([[[ 1,  2,  3],\n",
       "        [ 4,  5,  6],\n",
       "        [ 7,  8,  9]],\n",
       "\n",
       "       [[10, 11, 12],\n",
       "        [13, 14, 15],\n",
       "        [16, 17, 18]],\n",
       "\n",
       "       [[19, 20, 21],\n",
       "        [22, 23, 24],\n",
       "        [25, 26, 27]]])"
      ]
     },
     "execution_count": 10,
     "metadata": {},
     "output_type": "execute_result"
    }
   ],
   "source": [
    "np.array(data)"
   ]
  },
  {
   "cell_type": "markdown",
   "id": "1cea438f",
   "metadata": {
    "slideshow": {
     "slide_type": "fragment"
    }
   },
   "source": [
    "Vous avez la possibilité de vérifier la taille du tableau avec *shape* :"
   ]
  },
  {
   "cell_type": "code",
   "execution_count": 11,
   "id": "5708f5d8",
   "metadata": {
    "slideshow": {
     "slide_type": "fragment"
    }
   },
   "outputs": [
    {
     "data": {
      "text/plain": [
       "(3, 3, 3)"
      ]
     },
     "execution_count": 11,
     "metadata": {},
     "output_type": "execute_result"
    }
   ],
   "source": [
    "np.array(data).shape"
   ]
  },
  {
   "cell_type": "markdown",
   "id": "c01de230",
   "metadata": {
    "slideshow": {
     "slide_type": "subslide"
    }
   },
   "source": [
    "![image alt >](Images/numgrade.png)\n",
    "-- Une solution avec *reshape* : "
   ]
  },
  {
   "cell_type": "code",
   "execution_count": 12,
   "id": "3bc42810",
   "metadata": {
    "slideshow": {
     "slide_type": "fragment"
    }
   },
   "outputs": [
    {
     "data": {
      "text/plain": [
       "array([[[ 1,  2,  3],\n",
       "        [ 4,  5,  6],\n",
       "        [ 7,  8,  9]],\n",
       "\n",
       "       [[10, 11, 12],\n",
       "        [13, 14, 15],\n",
       "        [16, 17, 18]],\n",
       "\n",
       "       [[19, 20, 21],\n",
       "        [22, 23, 24],\n",
       "        [25, 26, 27]]])"
      ]
     },
     "execution_count": 12,
     "metadata": {},
     "output_type": "execute_result"
    }
   ],
   "source": [
    "np.array(range(1, 28)).reshape(3, 3, 3)"
   ]
  },
  {
   "cell_type": "markdown",
   "id": "a878a706",
   "metadata": {
    "slideshow": {
     "slide_type": "subslide"
    }
   },
   "source": [
    "![image alt >](Images/numgrade.png)\n",
    "#### Créer des tableaux avec les méthodes NumPy   "
   ]
  },
  {
   "cell_type": "markdown",
   "id": "401c044b",
   "metadata": {
    "slideshow": {
     "slide_type": "fragment"
    }
   },
   "source": [
    "Pour créer un tableau, il peut parfois être plus simple d'utiliser les méthodes disponibles dans NumPy.\n",
    "\n",
    "Voyons quelques exemples :"
   ]
  },
  {
   "cell_type": "markdown",
   "id": "4303283c",
   "metadata": {
    "collapsed": true,
    "slideshow": {
     "slide_type": "fragment"
    }
   },
   "source": [
    "-- Créer un tableau rempli avec des zéros :"
   ]
  },
  {
   "cell_type": "code",
   "execution_count": 13,
   "id": "a393f6ab",
   "metadata": {
    "slideshow": {
     "slide_type": "fragment"
    }
   },
   "outputs": [
    {
     "data": {
      "text/plain": [
       "array([0., 0., 0., 0., 0., 0., 0., 0., 0., 0.])"
      ]
     },
     "execution_count": 13,
     "metadata": {},
     "output_type": "execute_result"
    }
   ],
   "source": [
    "np.zeros(10)"
   ]
  },
  {
   "cell_type": "markdown",
   "id": "d7f38099",
   "metadata": {
    "collapsed": true,
    "slideshow": {
     "slide_type": "fragment"
    }
   },
   "source": [
    "-- Il est possible de spécifier les dimensions et le type des données :"
   ]
  },
  {
   "cell_type": "code",
   "execution_count": 14,
   "id": "8c26f200",
   "metadata": {
    "slideshow": {
     "slide_type": "fragment"
    }
   },
   "outputs": [
    {
     "data": {
      "text/plain": [
       "array([[0, 0, 0, 0, 0],\n",
       "       [0, 0, 0, 0, 0],\n",
       "       [0, 0, 0, 0, 0],\n",
       "       [0, 0, 0, 0, 0],\n",
       "       [0, 0, 0, 0, 0]])"
      ]
     },
     "execution_count": 14,
     "metadata": {},
     "output_type": "execute_result"
    }
   ],
   "source": [
    "np.zeros((5, 5), dtype=int)"
   ]
  },
  {
   "cell_type": "markdown",
   "id": "3b97968b",
   "metadata": {
    "collapsed": true,
    "slideshow": {
     "slide_type": "fragment"
    }
   },
   "source": [
    "-- On peut tout aussi bien créer un tableau rempli avec des uns ou tout autre nombre :"
   ]
  },
  {
   "cell_type": "code",
   "execution_count": 15,
   "id": "21eecaef",
   "metadata": {
    "slideshow": {
     "slide_type": "fragment"
    }
   },
   "outputs": [
    {
     "data": {
      "text/plain": [
       "array([1., 1., 1.])"
      ]
     },
     "execution_count": 15,
     "metadata": {},
     "output_type": "execute_result"
    }
   ],
   "source": [
    "np.ones(3)"
   ]
  },
  {
   "cell_type": "code",
   "execution_count": 16,
   "id": "15912a63",
   "metadata": {
    "slideshow": {
     "slide_type": "fragment"
    }
   },
   "outputs": [
    {
     "data": {
      "text/plain": [
       "array([[3.14159265, 3.14159265],\n",
       "       [3.14159265, 3.14159265],\n",
       "       [3.14159265, 3.14159265]])"
      ]
     },
     "execution_count": 16,
     "metadata": {},
     "output_type": "execute_result"
    }
   ],
   "source": [
    "np.full((3, 2), np.pi)  # 3 * 2 array filled with pi"
   ]
  },
  {
   "cell_type": "markdown",
   "id": "43848218",
   "metadata": {
    "slideshow": {
     "slide_type": "subslide"
    }
   },
   "source": [
    "![image alt >](Images/numgrade.png)\n",
    "-- Création d'une séquence avec *arange* (*arange* fonctionne sur le même principe que *range*) :   "
   ]
  },
  {
   "cell_type": "code",
   "execution_count": 17,
   "id": "486f336a",
   "metadata": {
    "slideshow": {
     "slide_type": "fragment"
    }
   },
   "outputs": [
    {
     "data": {
      "text/plain": [
       "array([ 2,  5,  8, 11])"
      ]
     },
     "execution_count": 17,
     "metadata": {},
     "output_type": "execute_result"
    }
   ],
   "source": [
    "np.arange(2, 12, 3)   # start, end, step"
   ]
  },
  {
   "cell_type": "markdown",
   "id": "ad597fe5",
   "metadata": {
    "slideshow": {
     "slide_type": "fragment"
    }
   },
   "source": [
    "-- Créer un tableau de valeurs séparées linéairement ou logarithmiquement :"
   ]
  },
  {
   "cell_type": "code",
   "execution_count": 18,
   "id": "e15a5cc8",
   "metadata": {
    "slideshow": {
     "slide_type": "fragment"
    }
   },
   "outputs": [
    {
     "data": {
      "text/plain": [
       "array([0. , 0.5, 1. , 1.5, 2. ])"
      ]
     },
     "execution_count": 18,
     "metadata": {},
     "output_type": "execute_result"
    }
   ],
   "source": [
    "np.linspace(0, 2, 5)  # start, end, number of values"
   ]
  },
  {
   "cell_type": "code",
   "execution_count": 19,
   "id": "a53b87bc",
   "metadata": {
    "slideshow": {
     "slide_type": "fragment"
    }
   },
   "outputs": [
    {
     "data": {
      "text/plain": [
       "array([10. ,  1. ,  0.1])"
      ]
     },
     "execution_count": 19,
     "metadata": {},
     "output_type": "execute_result"
    }
   ],
   "source": [
    "np.logspace(1, -1, 3, base=10)  # start: base**start, end: base**end, number of values"
   ]
  },
  {
   "cell_type": "markdown",
   "id": "5f2d9857",
   "metadata": {
    "slideshow": {
     "slide_type": "subslide"
    }
   },
   "source": [
    "![image alt >](Images/numgrade.png)\n",
    "#### Valeurs aléatoires   "
   ]
  },
  {
   "cell_type": "markdown",
   "id": "946d8eb8",
   "metadata": {
    "slideshow": {
     "slide_type": "fragment"
    }
   },
   "source": [
    "-- Valeurs aléatoires distribuées uniformément entre 0 et 1 :"
   ]
  },
  {
   "cell_type": "code",
   "execution_count": 20,
   "id": "211bb0a9",
   "metadata": {
    "slideshow": {
     "slide_type": "fragment"
    }
   },
   "outputs": [
    {
     "data": {
      "text/plain": [
       "array([0.46801473, 0.52383918, 0.98827004, 0.83147445, 0.32322535])"
      ]
     },
     "execution_count": 20,
     "metadata": {},
     "output_type": "execute_result"
    }
   ],
   "source": [
    "np.random.random(5)"
   ]
  },
  {
   "cell_type": "markdown",
   "id": "2ebf42ec",
   "metadata": {
    "slideshow": {
     "slide_type": "fragment"
    }
   },
   "source": [
    "-- Valeurs distribuées selon la loi normale :"
   ]
  },
  {
   "cell_type": "code",
   "execution_count": 21,
   "id": "9d2c6be5",
   "metadata": {
    "slideshow": {
     "slide_type": "fragment"
    }
   },
   "outputs": [
    {
     "data": {
      "text/plain": [
       "array([-0.36980551,  3.06212265, -0.56462477,  0.63503923, -0.59594838,\n",
       "        4.23284238,  2.11025948,  0.76863007, -0.04155216,  1.79303872])"
      ]
     },
     "execution_count": 21,
     "metadata": {},
     "output_type": "execute_result"
    }
   ],
   "source": [
    "np.random.normal(0, 2, 10)   # mean value, standard deviation, number of values"
   ]
  },
  {
   "cell_type": "markdown",
   "id": "97297889",
   "metadata": {
    "slideshow": {
     "slide_type": "fragment"
    }
   },
   "source": [
    "-- Entiers distribués aléatoirement dans un intervalle :"
   ]
  },
  {
   "cell_type": "code",
   "execution_count": 22,
   "id": "760d28e8",
   "metadata": {
    "slideshow": {
     "slide_type": "fragment"
    }
   },
   "outputs": [
    {
     "data": {
      "text/plain": [
       "array([3, 2, 4, 3, 0, 0, 0, 0, 4, 3])"
      ]
     },
     "execution_count": 22,
     "metadata": {},
     "output_type": "execute_result"
    }
   ],
   "source": [
    "np.random.randint(0, 5, 10)   # low (inclusive), high (exclusive), number of values"
   ]
  },
  {
   "cell_type": "markdown",
   "id": "d2cd94a1",
   "metadata": {
    "slideshow": {
     "slide_type": "subslide"
    }
   },
   "source": [
    "![image alt >](Images/numgrade.png)\n",
    "#### Matrices"
   ]
  },
  {
   "cell_type": "markdown",
   "id": "56062fca",
   "metadata": {
    "slideshow": {
     "slide_type": "fragment"
    }
   },
   "source": [
    "Matrice identité :"
   ]
  },
  {
   "cell_type": "code",
   "execution_count": 23,
   "id": "5eaf2bf9",
   "metadata": {
    "slideshow": {
     "slide_type": "fragment"
    }
   },
   "outputs": [
    {
     "data": {
      "text/plain": [
       "array([[1., 0., 0., 0., 0.],\n",
       "       [0., 1., 0., 0., 0.],\n",
       "       [0., 0., 1., 0., 0.],\n",
       "       [0., 0., 0., 1., 0.],\n",
       "       [0., 0., 0., 0., 1.]])"
      ]
     },
     "execution_count": 23,
     "metadata": {},
     "output_type": "execute_result"
    }
   ],
   "source": [
    "np.eye(5)   # or np.identity(5)"
   ]
  },
  {
   "cell_type": "markdown",
   "id": "9fcf767c",
   "metadata": {
    "slideshow": {
     "slide_type": "fragment"
    }
   },
   "source": [
    "Matrice diagonale :"
   ]
  },
  {
   "cell_type": "code",
   "execution_count": 24,
   "id": "0b7e7ea1",
   "metadata": {
    "slideshow": {
     "slide_type": "fragment"
    }
   },
   "outputs": [
    {
     "data": {
      "text/plain": [
       "array([[0, 0, 0, 0, 0],\n",
       "       [0, 1, 0, 0, 0],\n",
       "       [0, 0, 2, 0, 0],\n",
       "       [0, 0, 0, 3, 0],\n",
       "       [0, 0, 0, 0, 4]])"
      ]
     },
     "execution_count": 24,
     "metadata": {},
     "output_type": "execute_result"
    }
   ],
   "source": [
    "np.diag(np.arange(5))"
   ]
  },
  {
   "cell_type": "markdown",
   "id": "a9c677a9",
   "metadata": {
    "slideshow": {
     "slide_type": "subslide"
    }
   },
   "source": [
    "![image alt >](Images/numgrade.png)\n",
    "\n",
    "<div class=\"alert alert-block alert-info\">\n",
    "    <b>NOTE</b>\n",
    "\n",
    "L'objet matrice existe dans NumPy (*np.mat*) mais il n'est [pas recommandé](https://stackoverflow.com/questions/4151128/what-are-the-differences-between-numpy-arrays-and-matrices-which-one-should-i-u) (voir aussi [https://numpy.org/devdocs/user/numpy-for-matlab-users.html#array-or-matrix-which-should-i-use](https://numpy.org/devdocs/user/numpy-for-matlab-users.html#array-or-matrix-which-should-i-use)) de l'utiliser car il peut facilement engendrer des confusions et des bugs. De plus il n'est pas nécessaire de l'utiliser car il existe déjà avec les objets *ndarray* une distinction claire entre les opérations élément par élément et les opérations d'algèbre linéaire. Par exemple, la multiplication matricielle est disponible via *np.dot( )* ou via l'opérateur @.\n",
    "    \n",
    "</div> "
   ]
  },
  {
   "cell_type": "code",
   "execution_count": 25,
   "id": "5b9d9cfc",
   "metadata": {},
   "outputs": [
    {
     "data": {
      "text/plain": [
       "array([[0, 3, 0, 0],\n",
       "       [0, 1, 0, 0],\n",
       "       [0, 0, 2, 0],\n",
       "       [0, 0, 0, 3]])"
      ]
     },
     "execution_count": 25,
     "metadata": {},
     "output_type": "execute_result"
    }
   ],
   "source": [
    "a1 = np.diag(np.arange(4))\n",
    "a1[0, 1] = 3\n",
    "a1"
   ]
  },
  {
   "cell_type": "markdown",
   "id": "a2e3d7a8",
   "metadata": {
    "slideshow": {
     "slide_type": "fragment"
    }
   },
   "source": [
    "Multiplication élément par élément :"
   ]
  },
  {
   "cell_type": "code",
   "execution_count": 26,
   "id": "032f80fd",
   "metadata": {},
   "outputs": [
    {
     "data": {
      "text/plain": [
       "array([[0, 9, 0, 0],\n",
       "       [0, 1, 0, 0],\n",
       "       [0, 0, 4, 0],\n",
       "       [0, 0, 0, 9]])"
      ]
     },
     "execution_count": 26,
     "metadata": {},
     "output_type": "execute_result"
    }
   ],
   "source": [
    "a1 * a1"
   ]
  },
  {
   "cell_type": "markdown",
   "id": "32676a4e",
   "metadata": {
    "slideshow": {
     "slide_type": "fragment"
    }
   },
   "source": [
    "Multiplication matricielle :"
   ]
  },
  {
   "cell_type": "code",
   "execution_count": 27,
   "id": "14f454ae",
   "metadata": {},
   "outputs": [
    {
     "data": {
      "text/plain": [
       "array([[0, 3, 0, 0],\n",
       "       [0, 1, 0, 0],\n",
       "       [0, 0, 4, 0],\n",
       "       [0, 0, 0, 9]])"
      ]
     },
     "execution_count": 27,
     "metadata": {},
     "output_type": "execute_result"
    }
   ],
   "source": [
    "np.dot(a1, a1)"
   ]
  },
  {
   "cell_type": "code",
   "execution_count": 28,
   "id": "152c7666",
   "metadata": {},
   "outputs": [
    {
     "data": {
      "text/plain": [
       "array([[0, 3, 0, 0],\n",
       "       [0, 1, 0, 0],\n",
       "       [0, 0, 4, 0],\n",
       "       [0, 0, 0, 9]])"
      ]
     },
     "execution_count": 28,
     "metadata": {},
     "output_type": "execute_result"
    }
   ],
   "source": [
    "a1 @ a1"
   ]
  },
  {
   "cell_type": "markdown",
   "id": "20e5e7f2",
   "metadata": {
    "slideshow": {
     "slide_type": "slide"
    }
   },
   "source": [
    "![image alt <](Images/numpy.jpg)\n",
    "![image alt >](Images/numgrade.png)"
   ]
  },
  {
   "cell_type": "markdown",
   "id": "cda6c1f5",
   "metadata": {
    "slideshow": {
     "slide_type": "-"
    }
   },
   "source": [
    "# Types de données"
   ]
  },
  {
   "cell_type": "markdown",
   "id": "2401954a",
   "metadata": {
    "collapsed": true,
    "jupyter": {
     "outputs_hidden": true
    },
    "slideshow": {
     "slide_type": "fragment"
    }
   },
   "source": [
    "*dtype* pour data type est un attribut important des *ndarrays*, il détermine la taille et la signification de chaque élément du tableau. Une liste des principaux *dtypes* :"
   ]
  },
  {
   "cell_type": "markdown",
   "id": "844984db",
   "metadata": {
    "collapsed": true,
    "jupyter": {
     "outputs_hidden": true
    },
    "slideshow": {
     "slide_type": "fragment"
    }
   },
   "source": [
    "| dtype      |  Bytes / octet   | Description                                           |\n",
    "|------------|----------|-------------------------------------------------------|    \n",
    "| bool\\_     |  1       | Boolean (True or False) data type                     |\n",
    "| int\\_      |  1       | Default integer type (alias to either int32 or int64) |\n",
    "| int8       |  1       | Integer type (from -128 to 127)                       |\n",
    "| byte       |  1       | Alias of int8                                         |\n",
    "| int16      |  2       | 16-bit integer type (from -32768 to 32767)  |\n",
    "| int32      |  4       | 32-bit integer type (from -2147483648 to 2147483647)  |\n",
    "| int64      |  8       | 64-bit integer type (from -9223372036854775808 to     |\n",
    "|            |          | 9223372036854775807)  |\n",
    "| uint8      |  1       | Unsigned integer type (from 0 to 255)                       |\n",
    "| ubyte      |  1       | Alias of uint8                                         |\n",
    "| uint16     |  2       | 16-bit unsigned integer type (from 0 to 65535)  |\n",
    "| uint32     |  4       | 32-bit unsigned integer type (from 0 to 4294967295)  |\n",
    "| uint64     |  8       | 64-bit unsigned integer type (from 0 to 18446744073709551615)  |\n",
    "| float16    |  2       | 16-bit floating-point number. Half precision float: sign bit, | \n",
    "|            |          | 5 bits exponent, 10 bits mantissa  |\n",
    "| float32    |  4       | 32-bit floating-point number. Single precision float: sign bit, 8 bits exponent, |\n",
    "|            |          | 23 bits mantissa  |\n",
    "| float64    |  8       | 64-bit floating-point number. Double precision float: sign bit, 11 bits exponent, |\n",
    "|            |          | 52 bits mantissa |\n",
    "| float128   |  16      | 128-bit floating-point number - not supported on Windows. Quadruple precision float: sign bit, | \n",
    "|            |          | 15 bits exponent, 112 bits mantissa |\n",
    "| complex64  |   8      | 64-bit complex floating-point number  |\n",
    "| complex128 |  16      | 128-bit complex floating-point number  |\n",
    "| complex256 |  32      | 256-bit complex floating-point number  |\n",
    "| str\\_      | flexible | String data type                       |\n",
    "\n",
    "Vous trouverez plus d'informations au sujet des *dtypes* en suivant ce lien: [https://numpy.org/doc/stable/reference/arrays.dtypes.html](https://numpy.org/doc/stable/reference/arrays.dtypes.html).\n"
   ]
  },
  {
   "cell_type": "markdown",
   "id": "a3043129",
   "metadata": {
    "slideshow": {
     "slide_type": "skip"
    }
   },
   "source": [
    "Deprécié depuis NumPy 2.0 :\n",
    "- np.float_ -> np.float64\n",
    "- np.uint_ (déprécié avant)\n",
    "- np.NaN -> np.nan\n",
    "- np.complex_ -> np.complex128\n",
    "- np.unicode_ -> np.str_"
   ]
  },
  {
   "cell_type": "markdown",
   "id": "4668095a",
   "metadata": {
    "slideshow": {
     "slide_type": "subslide"
    }
   },
   "source": [
    "![image alt >](Images/numgrade.png)\n",
    "Vous devez être très attentif au type de données (*dtype*) que vous pouvez être amenés à choisir. Créons 2 tableaux avec des types de données différents :"
   ]
  },
  {
   "cell_type": "code",
   "execution_count": 1,
   "id": "27170420",
   "metadata": {},
   "outputs": [],
   "source": [
    "import numpy as np\n",
    "\n",
    "\n",
    "arr32 = np.arange(33_000, dtype='int32')\n",
    "arr16 = np.arange(33_000, dtype='int16')"
   ]
  },
  {
   "cell_type": "markdown",
   "id": "ee4b7650",
   "metadata": {
    "slideshow": {
     "slide_type": "fragment"
    }
   },
   "source": [
    "Comparons maintenant leur somme :"
   ]
  },
  {
   "cell_type": "code",
   "execution_count": 2,
   "id": "10f58fd2",
   "metadata": {},
   "outputs": [
    {
     "data": {
      "text/plain": [
       "np.False_"
      ]
     },
     "execution_count": 2,
     "metadata": {},
     "output_type": "execute_result"
    }
   ],
   "source": [
    "arr32.sum() == arr16.sum()"
   ]
  },
  {
   "cell_type": "markdown",
   "id": "41b8da10",
   "metadata": {
    "slideshow": {
     "slide_type": "-"
    }
   },
   "source": [
    "Leur somme n'est pas identique! Le problème est que sur 16 bits, nous ne pouvons stocker que des nombres entre -32768 et 32767. NumPy ne va pas retourner une erreur si nous lui donnons des nombres plus grands mais retournera une \"mauvaise valeur\". Regardons par exemple le dernier élément de arr16 :"
   ]
  },
  {
   "cell_type": "code",
   "execution_count": 3,
   "id": "2b347f60",
   "metadata": {},
   "outputs": [
    {
     "data": {
      "text/plain": [
       "np.int16(-32537)"
      ]
     },
     "execution_count": 3,
     "metadata": {},
     "output_type": "execute_result"
    }
   ],
   "source": [
    "arr16[-1]"
   ]
  },
  {
   "cell_type": "markdown",
   "id": "65ef3c05",
   "metadata": {
    "slideshow": {
     "slide_type": "subslide"
    }
   },
   "source": [
    "![image alt >](Images/numgrade.png)\n",
    "Vous pouvez changer le type d'un tableau avec astype() :"
   ]
  },
  {
   "cell_type": "code",
   "execution_count": 4,
   "id": "e1b649e2",
   "metadata": {},
   "outputs": [
    {
     "data": {
      "text/plain": [
       "dtype('int64')"
      ]
     },
     "execution_count": 4,
     "metadata": {},
     "output_type": "execute_result"
    }
   ],
   "source": [
    "import numpy as np\n",
    "\n",
    "\n",
    "arr = np.arange(6)\n",
    "arr.dtype"
   ]
  },
  {
   "cell_type": "code",
   "execution_count": 5,
   "id": "f13fe7b5",
   "metadata": {},
   "outputs": [
    {
     "data": {
      "text/plain": [
       "array([0., 1., 2., 3., 4., 5.], dtype=float32)"
      ]
     },
     "execution_count": 5,
     "metadata": {},
     "output_type": "execute_result"
    }
   ],
   "source": [
    "arr.astype('float32')   # or arr.astype(np.float32)"
   ]
  },
  {
   "cell_type": "markdown",
   "id": "a73a7845",
   "metadata": {},
   "source": [
    "Notez que le tableau n'est pas directement modifié, les données dans le tableau sont toujours de type int32 :"
   ]
  },
  {
   "cell_type": "code",
   "execution_count": 6,
   "id": "f07b71e9",
   "metadata": {},
   "outputs": [
    {
     "data": {
      "text/plain": [
       "dtype('int64')"
      ]
     },
     "execution_count": 6,
     "metadata": {},
     "output_type": "execute_result"
    }
   ],
   "source": [
    "arr.dtype"
   ]
  },
  {
   "cell_type": "markdown",
   "id": "ada60156",
   "metadata": {
    "slideshow": {
     "slide_type": "subslide"
    }
   },
   "source": [
    "![image alt >](Images/numgrade.png)\n",
    "Si vous ne précisez pas le type de données (*dtype*) lorsque vous créez un tableau, NumPy sélectionnera automatiquement le *dtype* pour vous.\n",
    "\n",
    "Exemple lorsque des nombres à virgule flottante et des entiers sont mélangés :"
   ]
  },
  {
   "cell_type": "code",
   "execution_count": 7,
   "id": "51e4db6a",
   "metadata": {
    "slideshow": {
     "slide_type": "fragment"
    }
   },
   "outputs": [],
   "source": [
    "arr = np.array([1, 3.14])"
   ]
  },
  {
   "cell_type": "code",
   "execution_count": 8,
   "id": "2b8ae844",
   "metadata": {
    "slideshow": {
     "slide_type": "fragment"
    }
   },
   "outputs": [
    {
     "data": {
      "text/plain": [
       "dtype('float64')"
      ]
     },
     "execution_count": 8,
     "metadata": {},
     "output_type": "execute_result"
    }
   ],
   "source": [
    "arr.dtype   # The integer number became a floating-point number"
   ]
  },
  {
   "cell_type": "markdown",
   "id": "7ac6739f",
   "metadata": {
    "slideshow": {
     "slide_type": "fragment"
    }
   },
   "source": [
    "Ou lorsque vous mélangez un entier avec une chaîne de caractères :"
   ]
  },
  {
   "cell_type": "code",
   "execution_count": 9,
   "id": "1092e552",
   "metadata": {
    "slideshow": {
     "slide_type": "fragment"
    }
   },
   "outputs": [],
   "source": [
    "arr = np.array([1, \"b\"])"
   ]
  },
  {
   "cell_type": "code",
   "execution_count": 10,
   "id": "e1630259",
   "metadata": {
    "slideshow": {
     "slide_type": "fragment"
    }
   },
   "outputs": [
    {
     "data": {
      "text/plain": [
       "dtype('<U21')"
      ]
     },
     "execution_count": 10,
     "metadata": {},
     "output_type": "execute_result"
    }
   ],
   "source": [
    "arr.dtype    # unicode type - 21 means 21-character unicode string. \n",
    "                 # Numpy chose 21 - you can modify with dtype:\n",
    "                 # a = np.array([1, \"b\"], dtype='U1'). The memory used \n",
    "                 # is then decreased from a.itemsize = 84 to a.itemsize = 4"
   ]
  },
  {
   "cell_type": "code",
   "execution_count": 11,
   "id": "2c01b001",
   "metadata": {
    "scrolled": true,
    "slideshow": {
     "slide_type": "fragment"
    }
   },
   "outputs": [
    {
     "data": {
      "text/plain": [
       "np.str_('1')"
      ]
     },
     "execution_count": 11,
     "metadata": {},
     "output_type": "execute_result"
    }
   ],
   "source": [
    "arr[0]"
   ]
  },
  {
   "cell_type": "markdown",
   "id": "2e2403d7",
   "metadata": {
    "slideshow": {
     "slide_type": "fragment"
    }
   },
   "source": [
    "On constate que l'entier est maintenant une chaîne de caractères."
   ]
  },
  {
   "cell_type": "markdown",
   "id": "24b03b82",
   "metadata": {
    "slideshow": {
     "slide_type": "subslide"
    }
   },
   "source": [
    "![image alt >](Images/numgrade.png)\n",
    "## Les attributs"
   ]
  },
  {
   "cell_type": "markdown",
   "id": "179f1198",
   "metadata": {
    "slideshow": {
     "slide_type": "fragment"
    }
   },
   "source": [
    "Les *ndarrays* possèdent toute une liste d'attributs. Il peut être utile d'en connaître quelques-uns :"
   ]
  },
  {
   "cell_type": "code",
   "execution_count": 12,
   "id": "38594d24",
   "metadata": {
    "slideshow": {
     "slide_type": "fragment"
    }
   },
   "outputs": [],
   "source": [
    "arr = np.arange(27).reshape(3, 3, 3)"
   ]
  },
  {
   "cell_type": "code",
   "execution_count": 13,
   "id": "d2885680",
   "metadata": {
    "slideshow": {
     "slide_type": "-"
    }
   },
   "outputs": [
    {
     "name": "stdout",
     "output_type": "stream",
     "text": [
      "array ndim:  3\n",
      "array shape: (3, 3, 3)\n",
      "array size:  27\n",
      "dtype:  int64\n",
      "itemsize: 8 bytes\n",
      "nbytes: 216 bytes\n"
     ]
    }
   ],
   "source": [
    "print(\"array ndim: \", arr.ndim)              # number of dimensions\n",
    "print(\"array shape:\", arr.shape)             # the size of each dimension\n",
    "print(\"array size: \", arr.size)              # number of elements\n",
    "print(\"dtype: \", arr.dtype)                  # data type\n",
    "print(\"itemsize:\", arr.itemsize, \"bytes\")    # size in bytes of each element\n",
    "print(\"nbytes:\", arr.nbytes, \"bytes\")        # total size in bytes"
   ]
  },
  {
   "cell_type": "markdown",
   "id": "58700a46",
   "metadata": {
    "collapsed": true,
    "jupyter": {
     "outputs_hidden": true
    },
    "slideshow": {
     "slide_type": "fragment"
    }
   },
   "source": [
    "nbytes = itemsize * size"
   ]
  },
  {
   "cell_type": "markdown",
   "id": "0d67cdd4",
   "metadata": {
    "slideshow": {
     "slide_type": "subslide"
    }
   },
   "source": [
    "![image alt >](Images/numgrade.png)\n",
    "### Exercices (difficulté : ⭐) "
   ]
  },
  {
   "cell_type": "markdown",
   "id": "2487703c",
   "metadata": {},
   "source": [
    "**Objectifs pédagogiques** :\n",
    "\n",
    "- Connaître la versoin de NumPy utilisée\n",
    "\n",
    "- Créer des tableaux NumPy\n",
    "\n",
    "- Extraire des informations d'un tableau NumPy\n",
    "\n",
    "- Changer les dimensions d'un tableau NumPy"
   ]
  },
  {
   "cell_type": "markdown",
   "id": "a8702471",
   "metadata": {
    "slideshow": {
     "slide_type": "fragment"
    }
   },
   "source": [
    "**Énoncés** :\n",
    "\n",
    "1. Affichez la version de NumPy.\n",
    "\n",
    "2. Créez un vecteur nul de taille 15 (nommé \"a\").\n",
    "\n",
    "3. Pour le tableau \"a\" créé précédemment : affichez la taille mémoire de chaque élément ainsi que la taille du tableau.\n",
    "\n",
    "4. Modifiez les dimensions du tableau \"a\" afin d'obtenir un tableau de dimension 3x5.\n",
    "\n",
    "5. Créez un vecteur avec des valeurs comprises entre 10 et 20.\n",
    "\n",
    "6. Créez un tableau de dimensions 3x3 avec des valeurs aléatoires (les valeurs seront uniformément distribuées entre 0 et 1)."
   ]
  },
  {
   "cell_type": "markdown",
   "id": "bc750bbb",
   "metadata": {
    "slideshow": {
     "slide_type": "slide"
    }
   },
   "source": [
    "![image alt <](Images/numpy.jpg)\n",
    "![image alt >](Images/numgrade.png)"
   ]
  },
  {
   "cell_type": "markdown",
   "id": "087f8b08",
   "metadata": {
    "slideshow": {
     "slide_type": "-"
    }
   },
   "source": [
    "# Manipuler les tableaux NumPy  "
   ]
  },
  {
   "cell_type": "markdown",
   "id": "f61021d0",
   "metadata": {
    "collapsed": true,
    "slideshow": {
     "slide_type": "fragment"
    }
   },
   "source": [
    "## Indexation"
   ]
  },
  {
   "cell_type": "markdown",
   "id": "c78d0b76",
   "metadata": {
    "collapsed": true,
    "slideshow": {
     "slide_type": "fragment"
    }
   },
   "source": [
    "L'indexation avec NumPy est assez similaire à l'indexation des listes standards Python. Exemple : accéder à un élément dans un tableau 1-D :"
   ]
  },
  {
   "cell_type": "code",
   "execution_count": 3,
   "id": "df66b477",
   "metadata": {
    "slideshow": {
     "slide_type": "fragment"
    }
   },
   "outputs": [
    {
     "data": {
      "text/plain": [
       "array([9, 1, 5, 7, 4, 2, 6, 6, 2, 7])"
      ]
     },
     "execution_count": 3,
     "metadata": {},
     "output_type": "execute_result"
    }
   ],
   "source": [
    "arr = np.random.randint(0, 10, 10)\n",
    "arr"
   ]
  },
  {
   "cell_type": "markdown",
   "id": "b0bce2ce",
   "metadata": {
    "collapsed": true,
    "slideshow": {
     "slide_type": "-"
    }
   },
   "source": [
    "Accéder au 3ème élément du tableau se fait de cette façon (comme pour les listes, la numérotation commence à 0) :"
   ]
  },
  {
   "cell_type": "code",
   "execution_count": 4,
   "id": "7606d8ee",
   "metadata": {
    "slideshow": {
     "slide_type": "-"
    }
   },
   "outputs": [
    {
     "data": {
      "text/plain": [
       "np.int64(5)"
      ]
     },
     "execution_count": 4,
     "metadata": {},
     "output_type": "execute_result"
    }
   ],
   "source": [
    "arr[2]"
   ]
  },
  {
   "cell_type": "markdown",
   "id": "2fbf30b6",
   "metadata": {
    "collapsed": true,
    "slideshow": {
     "slide_type": "subslide"
    }
   },
   "source": [
    "![image alt >](Images/numgrade.png)\n",
    "Comme pour les listes, nous pouvons également utiliser les indices négatifs pour l'accès aux éléments du tableau à partir de la fin :"
   ]
  },
  {
   "cell_type": "code",
   "execution_count": 5,
   "id": "d9dcaedb",
   "metadata": {
    "slideshow": {
     "slide_type": "-"
    }
   },
   "outputs": [
    {
     "data": {
      "text/plain": [
       "np.int64(7)"
      ]
     },
     "execution_count": 5,
     "metadata": {},
     "output_type": "execute_result"
    }
   ],
   "source": [
    "arr[-1]     # last value"
   ]
  },
  {
   "cell_type": "code",
   "execution_count": 6,
   "id": "5eee6ae7",
   "metadata": {
    "slideshow": {
     "slide_type": "-"
    }
   },
   "outputs": [
    {
     "data": {
      "text/plain": [
       "np.int64(2)"
      ]
     },
     "execution_count": 6,
     "metadata": {},
     "output_type": "execute_result"
    }
   ],
   "source": [
    "arr[-2]     # second to last value"
   ]
  },
  {
   "cell_type": "markdown",
   "id": "afa9585b",
   "metadata": {
    "slideshow": {
     "slide_type": "subslide"
    }
   },
   "source": [
    "![image alt >](Images/numgrade.png)\n",
    "Pour les tableaux multi-dimensionnels, on utilisera plusieurs indices séparés par des virgules :"
   ]
  },
  {
   "cell_type": "code",
   "execution_count": 7,
   "id": "940563c6",
   "metadata": {
    "slideshow": {
     "slide_type": "fragment"
    }
   },
   "outputs": [
    {
     "data": {
      "text/plain": [
       "array([[7, 9, 6],\n",
       "       [4, 9, 9],\n",
       "       [2, 8, 2]])"
      ]
     },
     "execution_count": 7,
     "metadata": {},
     "output_type": "execute_result"
    }
   ],
   "source": [
    "arr = np.random.randint(0, 10, (3, 3))\n",
    "arr"
   ]
  },
  {
   "cell_type": "markdown",
   "id": "658ef5d7",
   "metadata": {
    "slideshow": {
     "slide_type": "fragment"
    }
   },
   "source": [
    "Accédons au 1er élément - 1ère ligne, 1ère colonne :"
   ]
  },
  {
   "cell_type": "code",
   "execution_count": 8,
   "id": "80be581c",
   "metadata": {
    "slideshow": {
     "slide_type": "fragment"
    }
   },
   "outputs": [
    {
     "data": {
      "text/plain": [
       "np.int64(7)"
      ]
     },
     "execution_count": 8,
     "metadata": {},
     "output_type": "execute_result"
    }
   ],
   "source": [
    "arr[0, 0]"
   ]
  },
  {
   "cell_type": "markdown",
   "id": "b44840e6",
   "metadata": {
    "slideshow": {
     "slide_type": "fragment"
    }
   },
   "source": [
    "1ère ligne, 3ème colonne :"
   ]
  },
  {
   "cell_type": "code",
   "execution_count": 9,
   "id": "c48e5af2",
   "metadata": {
    "slideshow": {
     "slide_type": "fragment"
    }
   },
   "outputs": [
    {
     "data": {
      "text/plain": [
       "np.int64(6)"
      ]
     },
     "execution_count": 9,
     "metadata": {},
     "output_type": "execute_result"
    }
   ],
   "source": [
    "arr[0, 2]     # 1st index for line, index 2 for column"
   ]
  },
  {
   "cell_type": "markdown",
   "id": "26ae534b",
   "metadata": {
    "slideshow": {
     "slide_type": "subslide"
    }
   },
   "source": [
    "![image alt >](Images/numgrade.png)\n",
    "Il est tout à fait possible d'utiliser l'indexation pour modifier la valeur d'un élément :"
   ]
  },
  {
   "cell_type": "code",
   "execution_count": 10,
   "id": "d1725cb2",
   "metadata": {
    "slideshow": {
     "slide_type": "-"
    }
   },
   "outputs": [
    {
     "data": {
      "text/plain": [
       "array([[7, 9, 6],\n",
       "       [4, 5, 9],\n",
       "       [2, 8, 2]])"
      ]
     },
     "execution_count": 10,
     "metadata": {},
     "output_type": "execute_result"
    }
   ],
   "source": [
    "arr[1, 1] = 5\n",
    "arr"
   ]
  },
  {
   "cell_type": "markdown",
   "id": "4105c4c7",
   "metadata": {
    "slideshow": {
     "slide_type": "fragment"
    }
   },
   "source": [
    "Il est important de se rappeler que les tableaux NumPy ont un type fixe. Cela implique que si vous essayez de remplacer dans le tableau précédent un \"int\" par un \"float\", le \"float\" sera automatiquement tronqué pour devenir un \"int\" :"
   ]
  },
  {
   "cell_type": "code",
   "execution_count": 11,
   "id": "c33473e5",
   "metadata": {
    "slideshow": {
     "slide_type": "-"
    }
   },
   "outputs": [
    {
     "data": {
      "text/plain": [
       "array([[7, 9, 6],\n",
       "       [4, 2, 9],\n",
       "       [2, 8, 2]])"
      ]
     },
     "execution_count": 11,
     "metadata": {},
     "output_type": "execute_result"
    }
   ],
   "source": [
    "arr[1, 1] = 2.7\n",
    "arr"
   ]
  },
  {
   "cell_type": "markdown",
   "id": "98f5e223",
   "metadata": {
    "slideshow": {
     "slide_type": "subslide"
    }
   },
   "source": [
    "![image alt >](Images/numgrade.png)\n",
    "## Slicing"
   ]
  },
  {
   "cell_type": "markdown",
   "id": "fa621512",
   "metadata": {
    "slideshow": {
     "slide_type": "fragment"
    }
   },
   "source": [
    "Comme pour l'indexation, le slicing suit la même sémantique que pour les listes Python : array[start: stop: step]. Par défaut, start=0, stop=taille du tableau, step=1."
   ]
  },
  {
   "cell_type": "code",
   "execution_count": 12,
   "id": "c7d1022c",
   "metadata": {
    "scrolled": true,
    "slideshow": {
     "slide_type": "fragment"
    }
   },
   "outputs": [
    {
     "data": {
      "text/plain": [
       "array([0, 1, 2, 3, 4, 5, 6, 7, 8, 9])"
      ]
     },
     "execution_count": 12,
     "metadata": {},
     "output_type": "execute_result"
    }
   ],
   "source": [
    "arr = np.arange(0, 10)\n",
    "arr"
   ]
  },
  {
   "cell_type": "markdown",
   "id": "935d1389",
   "metadata": {
    "slideshow": {
     "slide_type": "-"
    }
   },
   "source": [
    "Les 5 premiers éléments :"
   ]
  },
  {
   "cell_type": "code",
   "execution_count": 13,
   "id": "b6c2a7ed",
   "metadata": {
    "slideshow": {
     "slide_type": "-"
    }
   },
   "outputs": [
    {
     "data": {
      "text/plain": [
       "array([0, 1, 2, 3, 4])"
      ]
     },
     "execution_count": 13,
     "metadata": {},
     "output_type": "execute_result"
    }
   ],
   "source": [
    "arr[:5]       # equivalent to arr[0:5]"
   ]
  },
  {
   "cell_type": "markdown",
   "id": "772b51f2",
   "metadata": {
    "slideshow": {
     "slide_type": "fragment"
    }
   },
   "source": [
    "Les 5 derniers éléments :"
   ]
  },
  {
   "cell_type": "code",
   "execution_count": 14,
   "id": "600a6ca6",
   "metadata": {
    "slideshow": {
     "slide_type": "-"
    }
   },
   "outputs": [
    {
     "data": {
      "text/plain": [
       "array([5, 6, 7, 8, 9])"
      ]
     },
     "execution_count": 14,
     "metadata": {},
     "output_type": "execute_result"
    }
   ],
   "source": [
    "arr[-5:]"
   ]
  },
  {
   "cell_type": "markdown",
   "id": "a7adf3b5",
   "metadata": {
    "slideshow": {
     "slide_type": "subslide"
    }
   },
   "source": [
    "![image alt >](Images/numgrade.png)\n",
    "Un sous-tableau du tableau array([0, 1, 2, 3, 4, 5, 6, 7, 8, 9]) :"
   ]
  },
  {
   "cell_type": "code",
   "execution_count": 15,
   "id": "1bc17f31",
   "metadata": {
    "slideshow": {
     "slide_type": "-"
    }
   },
   "outputs": [
    {
     "data": {
      "text/plain": [
       "array([1, 2])"
      ]
     },
     "execution_count": 15,
     "metadata": {},
     "output_type": "execute_result"
    }
   ],
   "source": [
    "arr[1:3]"
   ]
  },
  {
   "cell_type": "markdown",
   "id": "8f0a1db6",
   "metadata": {
    "slideshow": {
     "slide_type": "fragment"
    }
   },
   "source": [
    "Les nombres aux indices pairs :"
   ]
  },
  {
   "cell_type": "code",
   "execution_count": 17,
   "id": "ad3c82b2",
   "metadata": {
    "slideshow": {
     "slide_type": "-"
    }
   },
   "outputs": [
    {
     "data": {
      "text/plain": [
       "array([0, 2, 4, 6, 8])"
      ]
     },
     "execution_count": 17,
     "metadata": {},
     "output_type": "execute_result"
    }
   ],
   "source": [
    "arr[::2]    # equivalent to arr[0::2] or arr[0:10:2]. \n",
    "               # Note that for the stop value, you can use values \n",
    "               # greater than the size of the array"
   ]
  },
  {
   "cell_type": "markdown",
   "id": "4547bcce",
   "metadata": {
    "slideshow": {
     "slide_type": "fragment"
    }
   },
   "source": [
    "Les nombres aux indices impairs :"
   ]
  },
  {
   "cell_type": "code",
   "execution_count": 18,
   "id": "f83737e5",
   "metadata": {
    "slideshow": {
     "slide_type": "-"
    }
   },
   "outputs": [
    {
     "data": {
      "text/plain": [
       "array([1, 3, 5, 7, 9])"
      ]
     },
     "execution_count": 18,
     "metadata": {},
     "output_type": "execute_result"
    }
   ],
   "source": [
    "arr[1::2]    # equivalent to arr[1:arr.size:2]"
   ]
  },
  {
   "cell_type": "markdown",
   "id": "d7a18117",
   "metadata": {
    "slideshow": {
     "slide_type": "subslide"
    }
   },
   "source": [
    "![image alt >](Images/numgrade.png)\n",
    "Le pas (step) peut être négatif. Le tableau est alors parcouru dans le sens inverse :"
   ]
  },
  {
   "cell_type": "code",
   "execution_count": 19,
   "id": "4a59edf7",
   "metadata": {
    "slideshow": {
     "slide_type": "-"
    }
   },
   "outputs": [
    {
     "data": {
      "text/plain": [
       "array([9, 8, 7, 6, 5, 4, 3, 2, 1, 0])"
      ]
     },
     "execution_count": 19,
     "metadata": {},
     "output_type": "execute_result"
    }
   ],
   "source": [
    "arr[::-1]"
   ]
  },
  {
   "cell_type": "markdown",
   "id": "bc6aa10e",
   "metadata": {
    "slideshow": {
     "slide_type": "fragment"
    }
   },
   "source": [
    "De l'indice 3 à l'indice 1 (parcours dans le sens inverse) :"
   ]
  },
  {
   "cell_type": "code",
   "execution_count": 20,
   "id": "1e286af9",
   "metadata": {
    "slideshow": {
     "slide_type": "-"
    }
   },
   "outputs": [
    {
     "data": {
      "text/plain": [
       "array([3, 2])"
      ]
     },
     "execution_count": 20,
     "metadata": {},
     "output_type": "execute_result"
    }
   ],
   "source": [
    "arr[3:1:-1]"
   ]
  },
  {
   "cell_type": "markdown",
   "id": "ccac4358",
   "metadata": {
    "slideshow": {
     "slide_type": "subslide"
    }
   },
   "source": [
    "![image alt >](Images/numgrade.png)\n",
    "Pour les tableaux multi-dimensionnels, cela fonctionne de la même façon. Les tranches successives sont séparées par des virgules :"
   ]
  },
  {
   "cell_type": "code",
   "execution_count": 2,
   "id": "8fd7e373",
   "metadata": {
    "slideshow": {
     "slide_type": "fragment"
    }
   },
   "outputs": [
    {
     "data": {
      "text/plain": [
       "array([[ 0,  1,  2,  3],\n",
       "       [ 4,  5,  6,  7],\n",
       "       [ 8,  9, 10, 11],\n",
       "       [12, 13, 14, 15]])"
      ]
     },
     "execution_count": 2,
     "metadata": {},
     "output_type": "execute_result"
    }
   ],
   "source": [
    "arr = np.arange(16).reshape(4, 4)\n",
    "arr"
   ]
  },
  {
   "cell_type": "markdown",
   "id": "a9cdef45",
   "metadata": {
    "slideshow": {
     "slide_type": "fragment"
    }
   },
   "source": [
    "La 1ère ligne :"
   ]
  },
  {
   "cell_type": "code",
   "execution_count": 11,
   "id": "4c536f5c",
   "metadata": {
    "slideshow": {
     "slide_type": "-"
    }
   },
   "outputs": [
    {
     "data": {
      "text/plain": [
       "array([0, 1, 2, 3])"
      ]
     },
     "execution_count": 11,
     "metadata": {},
     "output_type": "execute_result"
    }
   ],
   "source": [
    "arr[0]  # equivalent to arr[0, :] (1st row, all columns)"
   ]
  },
  {
   "cell_type": "markdown",
   "id": "3a20fefa",
   "metadata": {
    "slideshow": {
     "slide_type": "fragment"
    }
   },
   "source": [
    "La 1ère colonne :"
   ]
  },
  {
   "cell_type": "code",
   "execution_count": 12,
   "id": "edc5cca7",
   "metadata": {
    "slideshow": {
     "slide_type": "-"
    }
   },
   "outputs": [
    {
     "data": {
      "text/plain": [
       "array([ 0,  4,  8, 12])"
      ]
     },
     "execution_count": 12,
     "metadata": {},
     "output_type": "execute_result"
    }
   ],
   "source": [
    "arr[:, 0]  # all lines, 1st column"
   ]
  },
  {
   "cell_type": "markdown",
   "id": "7b76b928",
   "metadata": {
    "slideshow": {
     "slide_type": "subslide"
    }
   },
   "source": [
    "![image alt >](Images/numgrade.png)\n",
    "Lignes paires et colonnes impaires : "
   ]
  },
  {
   "cell_type": "code",
   "execution_count": 57,
   "id": "77f20ab6",
   "metadata": {
    "slideshow": {
     "slide_type": "-"
    }
   },
   "outputs": [
    {
     "data": {
      "text/plain": [
       "array([[ 1,  3],\n",
       "       [ 9, 11]])"
      ]
     },
     "execution_count": 57,
     "metadata": {},
     "output_type": "execute_result"
    }
   ],
   "source": [
    "arr[::2, 1::2]"
   ]
  },
  {
   "cell_type": "markdown",
   "id": "1eedde7d",
   "metadata": {
    "slideshow": {
     "slide_type": "fragment"
    }
   },
   "source": [
    "Inverser le tableau (lignes et colonnes) :"
   ]
  },
  {
   "cell_type": "code",
   "execution_count": 58,
   "id": "eaa7d7b2",
   "metadata": {
    "slideshow": {
     "slide_type": "fragment"
    }
   },
   "outputs": [
    {
     "data": {
      "text/plain": [
       "array([[15, 14, 13, 12],\n",
       "       [11, 10,  9,  8],\n",
       "       [ 7,  6,  5,  4],\n",
       "       [ 3,  2,  1,  0]])"
      ]
     },
     "execution_count": 58,
     "metadata": {},
     "output_type": "execute_result"
    }
   ],
   "source": [
    "arr[::-1, ::-1]"
   ]
  },
  {
   "cell_type": "markdown",
   "id": "49830131",
   "metadata": {
    "slideshow": {
     "slide_type": "subslide"
    }
   },
   "source": [
    "![image alt >](Images/numgrade.png)\n",
    "NOTE : Le slicing pour les tableaux NumPy diffère de celui pour les listes Python. Pour les listes Python, les tranches sont des *copies* alors pour les tableaux Numpy, les tranches sont des *vues*. Par conséquent, une modification des éléments dans un sous-tableau induira également une modification de ces éléments dans le tableau original. "
   ]
  },
  {
   "cell_type": "markdown",
   "id": "0e751b1a",
   "metadata": {
    "slideshow": {
     "slide_type": "fragment"
    }
   },
   "source": [
    "Avec les listes, on avait ceci :"
   ]
  },
  {
   "cell_type": "code",
   "execution_count": 2,
   "id": "ce3aaebe",
   "metadata": {},
   "outputs": [
    {
     "name": "stdout",
     "output_type": "stream",
     "text": [
      "[0, 1, 2, 3, 4, 5]\n",
      "[1, 2, 3, 4]\n"
     ]
    }
   ],
   "source": [
    "list1 = list(range(6))\n",
    "print(list1)\n",
    "list2 = list1[1:-1]\n",
    "print(list2)"
   ]
  },
  {
   "cell_type": "code",
   "execution_count": 60,
   "id": "fb6812e6",
   "metadata": {},
   "outputs": [
    {
     "data": {
      "text/plain": [
       "[1, 2, 3, 10]"
      ]
     },
     "execution_count": 60,
     "metadata": {},
     "output_type": "execute_result"
    }
   ],
   "source": [
    "list2[-1] = 10\n",
    "list2"
   ]
  },
  {
   "cell_type": "code",
   "execution_count": 61,
   "id": "b9703795",
   "metadata": {},
   "outputs": [
    {
     "data": {
      "text/plain": [
       "[0, 1, 2, 3, 4, 5]"
      ]
     },
     "execution_count": 61,
     "metadata": {},
     "output_type": "execute_result"
    }
   ],
   "source": [
    "list1"
   ]
  },
  {
   "cell_type": "markdown",
   "id": "b2471c32",
   "metadata": {},
   "source": [
    "list2 est une copie de list1, donc list1 n'est pas modifié."
   ]
  },
  {
   "cell_type": "markdown",
   "id": "40f68420",
   "metadata": {
    "slideshow": {
     "slide_type": "subslide"
    }
   },
   "source": [
    "![image alt >](Images/numgrade.png)\n",
    "Maintenant avec les tableaux NumPy :"
   ]
  },
  {
   "cell_type": "code",
   "execution_count": 2,
   "id": "baaa5971",
   "metadata": {
    "slideshow": {
     "slide_type": "-"
    }
   },
   "outputs": [
    {
     "data": {
      "text/plain": [
       "array([1, 2, 3, 4])"
      ]
     },
     "execution_count": 2,
     "metadata": {},
     "output_type": "execute_result"
    }
   ],
   "source": [
    "arr1 = np.arange(6)\n",
    "arr2 = arr1[1:-1]      # A view of the array arr1\n",
    "arr2"
   ]
  },
  {
   "cell_type": "code",
   "execution_count": 3,
   "id": "0f614463",
   "metadata": {
    "slideshow": {
     "slide_type": "-"
    }
   },
   "outputs": [
    {
     "data": {
      "text/plain": [
       "array([ 1,  2,  3, 10])"
      ]
     },
     "execution_count": 3,
     "metadata": {},
     "output_type": "execute_result"
    }
   ],
   "source": [
    "arr2[-1] = 10        # changing an element in arr2\n",
    "arr2"
   ]
  },
  {
   "cell_type": "code",
   "execution_count": 4,
   "id": "ec614347",
   "metadata": {
    "slideshow": {
     "slide_type": "-"
    }
   },
   "outputs": [
    {
     "data": {
      "text/plain": [
       "array([ 0,  1,  2,  3, 10,  5])"
      ]
     },
     "execution_count": 4,
     "metadata": {},
     "output_type": "execute_result"
    }
   ],
   "source": [
    "arr1                 # the previous modification also changes the element in arr1"
   ]
  },
  {
   "cell_type": "code",
   "execution_count": 65,
   "id": "efd9a495",
   "metadata": {
    "slideshow": {
     "slide_type": "skip"
    }
   },
   "outputs": [
    {
     "data": {
      "text/plain": [
       "True"
      ]
     },
     "execution_count": 65,
     "metadata": {},
     "output_type": "execute_result"
    }
   ],
   "source": [
    "arr2.base is arr1      # You can check that arr2 is a view of arr1 with the attribute base"
   ]
  },
  {
   "cell_type": "markdown",
   "id": "262a5b06",
   "metadata": {
    "slideshow": {
     "slide_type": "subslide"
    }
   },
   "source": [
    "![image alt >](Images/numgrade.png)\n",
    "## Indexation avancée"
   ]
  },
  {
   "cell_type": "markdown",
   "id": "f12243c3",
   "metadata": {},
   "source": [
    "En anglais, on parle d'advanced indexing ou parfois de fancy indexing.\n",
    "\n",
    "Références : \n",
    "\n",
    "- https://numpy.org/doc/1.21/reference/arrays.indexing.html#\n",
    "\n",
    "- https://numpy.org/doc/stable/user/basics.indexing.html#"
   ]
  },
  {
   "cell_type": "markdown",
   "id": "3974dcc2",
   "metadata": {},
   "source": [
    "#### Extraction de plusieurs valeurs d'un tableau :"
   ]
  },
  {
   "cell_type": "markdown",
   "id": "d5a09072",
   "metadata": {},
   "source": [
    "##### Tableaux à une dimension"
   ]
  },
  {
   "cell_type": "code",
   "execution_count": 21,
   "id": "ed6e2611",
   "metadata": {},
   "outputs": [],
   "source": [
    "arr = np.arange(16, 32)"
   ]
  },
  {
   "cell_type": "markdown",
   "id": "21ca151d",
   "metadata": {},
   "source": [
    "Si nous souhaitons extraire plusieurs valeurs du tableau, par exemple les valeurs aux indices 4, 8 et 12, au lieu de faire :"
   ]
  },
  {
   "cell_type": "code",
   "execution_count": 22,
   "id": "99cce919",
   "metadata": {
    "scrolled": false
   },
   "outputs": [
    {
     "data": {
      "text/plain": [
       "[np.int64(20), np.int64(24), np.int64(28)]"
      ]
     },
     "execution_count": 22,
     "metadata": {},
     "output_type": "execute_result"
    }
   ],
   "source": [
    "[arr[4], arr[8], arr[12]]"
   ]
  },
  {
   "cell_type": "markdown",
   "id": "f2f312ea",
   "metadata": {},
   "source": [
    "Nous écririons plutôt :"
   ]
  },
  {
   "cell_type": "code",
   "execution_count": 23,
   "id": "7f507425",
   "metadata": {
    "scrolled": false
   },
   "outputs": [
    {
     "data": {
      "text/plain": [
       "array([20, 24, 28])"
      ]
     },
     "execution_count": 23,
     "metadata": {},
     "output_type": "execute_result"
    }
   ],
   "source": [
    "arr[[4, 8, 12]]"
   ]
  },
  {
   "cell_type": "markdown",
   "id": "e1089bc6",
   "metadata": {},
   "source": [
    "Et si nous passons un tableau d'indices à plusieurs dimensions, le résultat correspondra aux dimensions du tableau d'indices (et non aux dimensions du tableau indexé) : "
   ]
  },
  {
   "cell_type": "code",
   "execution_count": 24,
   "id": "ec80acec",
   "metadata": {},
   "outputs": [],
   "source": [
    "index = np.array([[4, 12],\n",
    "                           [8,   0]])"
   ]
  },
  {
   "cell_type": "code",
   "execution_count": 25,
   "id": "a5cc0db3",
   "metadata": {},
   "outputs": [
    {
     "data": {
      "text/plain": [
       "array([[20, 28],\n",
       "       [24, 16]])"
      ]
     },
     "execution_count": 25,
     "metadata": {},
     "output_type": "execute_result"
    }
   ],
   "source": [
    "arr[index]"
   ]
  },
  {
   "cell_type": "markdown",
   "id": "199163b9",
   "metadata": {
    "slideshow": {
     "slide_type": "subslide"
    }
   },
   "source": [
    "![image alt >](Images/numgrade.png)\n",
    "##### Tableaux à plusieurs dimensions"
   ]
  },
  {
   "cell_type": "code",
   "execution_count": 26,
   "id": "57db12b7",
   "metadata": {
    "scrolled": true
   },
   "outputs": [
    {
     "data": {
      "text/plain": [
       "array([[16, 17, 18, 19],\n",
       "       [20, 21, 22, 23],\n",
       "       [24, 25, 26, 27],\n",
       "       [28, 29, 30, 31]])"
      ]
     },
     "execution_count": 26,
     "metadata": {},
     "output_type": "execute_result"
    }
   ],
   "source": [
    "arr = arr.reshape(4, 4)\n",
    "arr"
   ]
  },
  {
   "cell_type": "markdown",
   "id": "3bd12a05",
   "metadata": {},
   "source": [
    "Pour aller chercher les indices [0, 2] et [1, 3], on pourra faire : "
   ]
  },
  {
   "cell_type": "code",
   "execution_count": 27,
   "id": "354fc282",
   "metadata": {},
   "outputs": [
    {
     "data": {
      "text/plain": [
       "array([18, 23])"
      ]
     },
     "execution_count": 27,
     "metadata": {},
     "output_type": "execute_result"
    }
   ],
   "source": [
    "row = np.array([0, 1])\n",
    "col = np.array([2, 3])\n",
    "arr[row, col]    # 1st index refers to the rows and the 2nd index refers to the columns"
   ]
  },
  {
   "cell_type": "markdown",
   "id": "e36494c8",
   "metadata": {
    "slideshow": {
     "slide_type": "subslide"
    }
   },
   "source": [
    "![image alt >](Images/numgrade.png)\n",
    "Que se passe-t-il si nous combinons un vecteur colonne avec un vecteur ligne pour les indices?"
   ]
  },
  {
   "cell_type": "code",
   "execution_count": 28,
   "id": "5dc594de",
   "metadata": {},
   "outputs": [
    {
     "data": {
      "text/plain": [
       "array([[18, 19],\n",
       "       [22, 23]])"
      ]
     },
     "execution_count": 28,
     "metadata": {},
     "output_type": "execute_result"
    }
   ],
   "source": [
    "arr[row.reshape(2, 1), col]"
   ]
  },
  {
   "cell_type": "markdown",
   "id": "7736a550",
   "metadata": {},
   "source": [
    "Les règles d'appariement des paires d'indices suivent les règles du broadcasting Numpy ([https://docs.scipy.org/doc/numpy/user/basics.broadcasting.html](https://docs.scipy.org/doc/numpy/user/basics.broadcasting.html)) "
   ]
  },
  {
   "cell_type": "markdown",
   "id": "a3e375b7",
   "metadata": {},
   "source": [
    "![](Images/fancy_indexing_broadcasting.jpg)"
   ]
  },
  {
   "cell_type": "markdown",
   "id": "8a17efd5",
   "metadata": {},
   "source": [
    "Si nous voulions obtenir le même résultat avec tous les indices écrits explicitement, il faudrait écrire :"
   ]
  },
  {
   "cell_type": "code",
   "execution_count": 29,
   "id": "644a49b1",
   "metadata": {},
   "outputs": [],
   "source": [
    "row = np.array([0, 0, 1, 1]).reshape(2, 2)\n",
    "col = np.array([2, 3, 2, 3]).reshape(2, 2)"
   ]
  },
  {
   "cell_type": "code",
   "execution_count": 30,
   "id": "94f6299a",
   "metadata": {},
   "outputs": [
    {
     "data": {
      "text/plain": [
       "array([[18, 19],\n",
       "       [22, 23]])"
      ]
     },
     "execution_count": 30,
     "metadata": {},
     "output_type": "execute_result"
    }
   ],
   "source": [
    "arr[row, col]"
   ]
  },
  {
   "cell_type": "markdown",
   "id": "26bb94ae",
   "metadata": {
    "slideshow": {
     "slide_type": "subslide"
    }
   },
   "source": [
    "![image alt >](Images/numgrade.png)\n",
    "#### Combiner les modes d'indexation"
   ]
  },
  {
   "cell_type": "markdown",
   "id": "1140d454",
   "metadata": {},
   "source": [
    "Nous pouvons par exemple combiner l'indexation simple avec l'indexation avancée :"
   ]
  },
  {
   "cell_type": "code",
   "execution_count": 31,
   "id": "dfa525f8",
   "metadata": {},
   "outputs": [
    {
     "data": {
      "text/plain": [
       "array([[ 0,  1,  2,  3],\n",
       "       [ 4,  5,  6,  7],\n",
       "       [ 8,  9, 10, 11],\n",
       "       [12, 13, 14, 15]])"
      ]
     },
     "execution_count": 31,
     "metadata": {},
     "output_type": "execute_result"
    }
   ],
   "source": [
    "arr = np.arange(16).reshape(4, 4)\n",
    "arr"
   ]
  },
  {
   "cell_type": "code",
   "execution_count": 32,
   "id": "f490f969",
   "metadata": {},
   "outputs": [
    {
     "data": {
      "text/plain": [
       "array([7, 4])"
      ]
     },
     "execution_count": 32,
     "metadata": {},
     "output_type": "execute_result"
    }
   ],
   "source": [
    "arr[1, [-1, 0]]   # or arr[1, [3, 0]] : 2nd row + last and first column "
   ]
  },
  {
   "cell_type": "markdown",
   "id": "6a290055",
   "metadata": {},
   "source": [
    "Ou encore combiner l'indexation avancée avec le slicing :"
   ]
  },
  {
   "cell_type": "code",
   "execution_count": 33,
   "id": "63917dfc",
   "metadata": {},
   "outputs": [
    {
     "data": {
      "text/plain": [
       "array([[11,  8],\n",
       "       [15, 12]])"
      ]
     },
     "execution_count": 33,
     "metadata": {},
     "output_type": "execute_result"
    }
   ],
   "source": [
    "arr[-2:, [-1, 0]]  # or e.g. arr[2:, [3, 0]] : last 2 rows + last and first column"
   ]
  },
  {
   "cell_type": "markdown",
   "id": "9e2b47df",
   "metadata": {
    "slideshow": {
     "slide_type": "subslide"
    }
   },
   "source": [
    "![image alt >](Images/numgrade.png)\n",
    "## Copier un tableau"
   ]
  },
  {
   "cell_type": "markdown",
   "id": "12c4de4b",
   "metadata": {
    "slideshow": {
     "slide_type": "fragment"
    }
   },
   "source": [
    "Comment faire si nous souhaitons avoir une copie d'un sous-tableau (ou du tableau entier)?"
   ]
  },
  {
   "cell_type": "markdown",
   "id": "6cb42049",
   "metadata": {
    "slideshow": {
     "slide_type": "fragment"
    }
   },
   "source": [
    "Une façon de faire serait de créer un nouveau tableau avec np.array :"
   ]
  },
  {
   "cell_type": "code",
   "execution_count": 34,
   "id": "c64ac546",
   "metadata": {
    "slideshow": {
     "slide_type": "fragment"
    }
   },
   "outputs": [],
   "source": [
    "arr1 = np.arange(6)\n",
    "arr2 = np.array(arr1[1:-1])"
   ]
  },
  {
   "cell_type": "markdown",
   "id": "5e13c1af",
   "metadata": {
    "slideshow": {
     "slide_type": "fragment"
    }
   },
   "source": [
    "Et maintenant, la modification d'un élément dans le tableau arr2 n'entraînera pas de modification dans le tableau arr1 :"
   ]
  },
  {
   "cell_type": "code",
   "execution_count": 35,
   "id": "3f0a93fb",
   "metadata": {
    "slideshow": {
     "slide_type": "fragment"
    }
   },
   "outputs": [
    {
     "data": {
      "text/plain": [
       "array([0, 1, 2, 3, 4, 5])"
      ]
     },
     "execution_count": 35,
     "metadata": {},
     "output_type": "execute_result"
    }
   ],
   "source": [
    "arr2[0] = 100\n",
    "arr1"
   ]
  },
  {
   "cell_type": "markdown",
   "id": "246545f5",
   "metadata": {
    "slideshow": {
     "slide_type": "subslide"
    }
   },
   "source": [
    "![image alt >](Images/numgrade.png)\n",
    "Une autre méthode serait d'utiliser la méthode *copy* :"
   ]
  },
  {
   "cell_type": "code",
   "execution_count": 36,
   "id": "c34c493b",
   "metadata": {
    "slideshow": {
     "slide_type": "fragment"
    }
   },
   "outputs": [],
   "source": [
    "arr1 = np.arange(6)\n",
    "arr2 = arr1[1:-1].copy()"
   ]
  },
  {
   "cell_type": "markdown",
   "id": "698844fc",
   "metadata": {
    "slideshow": {
     "slide_type": "fragment"
    }
   },
   "source": [
    "Dans ce cas aussi, un changement dans le tableau arr2 n'entraînera pas de modification dans le tableau arr1 :"
   ]
  },
  {
   "cell_type": "code",
   "execution_count": 37,
   "id": "d269fc1c",
   "metadata": {
    "slideshow": {
     "slide_type": "fragment"
    }
   },
   "outputs": [
    {
     "data": {
      "text/plain": [
       "array([0, 1, 2, 3, 4, 5])"
      ]
     },
     "execution_count": 37,
     "metadata": {},
     "output_type": "execute_result"
    }
   ],
   "source": [
    "arr2[0] = 100\n",
    "arr1"
   ]
  },
  {
   "cell_type": "markdown",
   "id": "18d290f1",
   "metadata": {},
   "source": [
    "<div class=\"alert alert-block alert-info\">\n",
    "    <b>NOTE</b>\n",
    "\n",
    "Contrairement à l'indexation simple ou au slicing, l'indexation avancée retourne une [copie des données](https://numpy.org/devdocs/user/basics.indexing.html#advanced-indexing). \n",
    "</div>"
   ]
  },
  {
   "cell_type": "markdown",
   "id": "5cc86f4f",
   "metadata": {
    "slideshow": {
     "slide_type": "subslide"
    }
   },
   "source": [
    "![image alt >](Images/numgrade.png)\n",
    "## Transformer un tableau (reshaping)"
   ]
  },
  {
   "cell_type": "markdown",
   "id": "22ade004",
   "metadata": {
    "slideshow": {
     "slide_type": "fragment"
    }
   },
   "source": [
    "Il est courant de devoir convertir un tableau 1-D en une matrice 2-D ligne ou colonne. Pour cette opération, nous pouvons soit utiliser la méthode *reshape* soit le mot clé *newaxis* :"
   ]
  },
  {
   "cell_type": "code",
   "execution_count": 10,
   "id": "1f60fc3e",
   "metadata": {
    "slideshow": {
     "slide_type": "fragment"
    }
   },
   "outputs": [
    {
     "data": {
      "text/plain": [
       "array([0, 1, 2])"
      ]
     },
     "execution_count": 10,
     "metadata": {},
     "output_type": "execute_result"
    }
   ],
   "source": [
    "arr = np.arange(3)\n",
    "arr"
   ]
  },
  {
   "cell_type": "markdown",
   "id": "1f988b22",
   "metadata": {
    "slideshow": {
     "slide_type": "fragment"
    }
   },
   "source": [
    "Transformation en vecteur ligne avec *reshape* :"
   ]
  },
  {
   "cell_type": "code",
   "execution_count": 5,
   "id": "56a7ea66",
   "metadata": {
    "slideshow": {
     "slide_type": "fragment"
    }
   },
   "outputs": [
    {
     "data": {
      "text/plain": [
       "array([[0, 1, 2]])"
      ]
     },
     "execution_count": 5,
     "metadata": {},
     "output_type": "execute_result"
    }
   ],
   "source": [
    "arr.reshape((1, 3))"
   ]
  },
  {
   "cell_type": "markdown",
   "id": "7b16599a",
   "metadata": {
    "slideshow": {
     "slide_type": "fragment"
    }
   },
   "source": [
    "Le même vecteur ligne avec le mot clé *newaxis* :"
   ]
  },
  {
   "cell_type": "code",
   "execution_count": 26,
   "id": "33abf5a3",
   "metadata": {
    "slideshow": {
     "slide_type": "fragment"
    }
   },
   "outputs": [
    {
     "data": {
      "text/plain": [
       "array([[0, 1, 2]])"
      ]
     },
     "execution_count": 26,
     "metadata": {},
     "output_type": "execute_result"
    }
   ],
   "source": [
    "arr[np.newaxis, :]   # shape was (3,), it is now (1, 3)"
   ]
  },
  {
   "cell_type": "markdown",
   "id": "022eaf21",
   "metadata": {
    "slideshow": {
     "slide_type": "subslide"
    }
   },
   "source": [
    "![image alt >](Images/numgrade.png)\n",
    "Transformation en vecteur colonne avec *reshape* :"
   ]
  },
  {
   "cell_type": "code",
   "execution_count": 90,
   "id": "3a389ab3",
   "metadata": {
    "slideshow": {
     "slide_type": "fragment"
    }
   },
   "outputs": [
    {
     "data": {
      "text/plain": [
       "array([[0],\n",
       "       [1],\n",
       "       [2]])"
      ]
     },
     "execution_count": 90,
     "metadata": {},
     "output_type": "execute_result"
    }
   ],
   "source": [
    "arr.reshape((3, 1))"
   ]
  },
  {
   "cell_type": "markdown",
   "id": "2657223f",
   "metadata": {
    "slideshow": {
     "slide_type": "fragment"
    }
   },
   "source": [
    "La même opération avec *newaxis* :"
   ]
  },
  {
   "cell_type": "code",
   "execution_count": 91,
   "id": "2d116e08",
   "metadata": {
    "slideshow": {
     "slide_type": "fragment"
    }
   },
   "outputs": [
    {
     "data": {
      "text/plain": [
       "array([[0],\n",
       "       [1],\n",
       "       [2]])"
      ]
     },
     "execution_count": 91,
     "metadata": {},
     "output_type": "execute_result"
    }
   ],
   "source": [
    "arr[:, np.newaxis]"
   ]
  },
  {
   "cell_type": "markdown",
   "id": "5561b3df",
   "metadata": {
    "slideshow": {
     "slide_type": "subslide"
    }
   },
   "source": [
    "![image alt >](Images/numgrade.png)\n",
    "## Concaténation"
   ]
  },
  {
   "cell_type": "markdown",
   "id": "b2b1883e",
   "metadata": {
    "slideshow": {
     "slide_type": "fragment"
    }
   },
   "source": [
    "Concaténer (ou lier) des tableaux est parfois utile. En fonction des besoins, différentes méthodes pourront être utilisées : *concatenate*, *vstack* et *hstack*."
   ]
  },
  {
   "cell_type": "markdown",
   "id": "4a39247a",
   "metadata": {
    "slideshow": {
     "slide_type": "fragment"
    }
   },
   "source": [
    "Avec *concatenate* :"
   ]
  },
  {
   "cell_type": "code",
   "execution_count": 92,
   "id": "f27a359e",
   "metadata": {
    "slideshow": {
     "slide_type": "-"
    }
   },
   "outputs": [
    {
     "data": {
      "text/plain": [
       "array([0, 1, 2, 3, 4, 5])"
      ]
     },
     "execution_count": 92,
     "metadata": {},
     "output_type": "execute_result"
    }
   ],
   "source": [
    "arr1 = np.arange(3)\n",
    "arr2 = np.arange(3, 6)\n",
    "np.concatenate((arr1, arr2))   #the argument is a tuple or list of arrays"
   ]
  },
  {
   "cell_type": "markdown",
   "id": "55d5d90d",
   "metadata": {
    "slideshow": {
     "slide_type": "subslide"
    }
   },
   "source": [
    "![image alt >](Images/numgrade.png)\n",
    "Avec des tableaux à plusieurs dimensions, nous pouvons concaténer selon un *axe* spécifique, on utilisera le paramètre *axis*. Par exemple un tableau 2-D a 2 axes :\n",
    "\n",
    " - *axis = 0* : le premier axe permet de parcourir verticalement le tableau. On parcourt les lignes.\n",
    " \n",
    " - *axis = 1* : le second axe permet de parcourir horizontalement le tableau. On parcourt donc les colonnes."
   ]
  },
  {
   "cell_type": "code",
   "execution_count": 42,
   "id": "80821ced",
   "metadata": {
    "slideshow": {
     "slide_type": "fragment"
    }
   },
   "outputs": [],
   "source": [
    "arr1 = np.arange(6).reshape((2, 3))\n",
    "arr2 = np.arange(6, 12).reshape((2, 3))"
   ]
  },
  {
   "cell_type": "markdown",
   "id": "d87c3f37",
   "metadata": {
    "slideshow": {
     "slide_type": "fragment"
    }
   },
   "source": [
    "Concaténation le long de l'axe 0 (axis = 0 - lignes) :"
   ]
  },
  {
   "cell_type": "code",
   "execution_count": 94,
   "id": "f302a577",
   "metadata": {
    "slideshow": {
     "slide_type": "-"
    }
   },
   "outputs": [
    {
     "data": {
      "text/plain": [
       "array([[ 0,  1,  2],\n",
       "       [ 3,  4,  5],\n",
       "       [ 6,  7,  8],\n",
       "       [ 9, 10, 11]])"
      ]
     },
     "execution_count": 94,
     "metadata": {},
     "output_type": "execute_result"
    }
   ],
   "source": [
    "np.concatenate([arr1, arr2])  # np.concatenate([a1, a2], axis=0)"
   ]
  },
  {
   "cell_type": "markdown",
   "id": "d61ce97a",
   "metadata": {
    "slideshow": {
     "slide_type": "fragment"
    }
   },
   "source": [
    "Concaténation le long de l'axe 1 (axis = 1 - colonnes) :"
   ]
  },
  {
   "cell_type": "code",
   "execution_count": 95,
   "id": "b118110a",
   "metadata": {
    "slideshow": {
     "slide_type": "-"
    }
   },
   "outputs": [
    {
     "data": {
      "text/plain": [
       "array([[ 0,  1,  2,  6,  7,  8],\n",
       "       [ 3,  4,  5,  9, 10, 11]])"
      ]
     },
     "execution_count": 95,
     "metadata": {},
     "output_type": "execute_result"
    }
   ],
   "source": [
    "np.concatenate([arr1, arr2], axis=1)"
   ]
  },
  {
   "cell_type": "markdown",
   "id": "370d3b67",
   "metadata": {
    "slideshow": {
     "slide_type": "subslide"
    }
   },
   "source": [
    "![image alt >](Images/numgrade.png)\n",
    "Pour concaténer horizontalement, nous pouvons également utiliser *hstack* :"
   ]
  },
  {
   "cell_type": "code",
   "execution_count": 96,
   "id": "84b9c14a",
   "metadata": {
    "slideshow": {
     "slide_type": "-"
    }
   },
   "outputs": [
    {
     "data": {
      "text/plain": [
       "array([[ 0,  1,  2,  6,  7,  8],\n",
       "       [ 3,  4,  5,  9, 10, 11]])"
      ]
     },
     "execution_count": 96,
     "metadata": {},
     "output_type": "execute_result"
    }
   ],
   "source": [
    "np.hstack([arr1, arr2])"
   ]
  },
  {
   "cell_type": "markdown",
   "id": "8bcadb97",
   "metadata": {
    "slideshow": {
     "slide_type": "fragment"
    }
   },
   "source": [
    "Pour concaténer verticalement, nous aurons *vstack* :"
   ]
  },
  {
   "cell_type": "code",
   "execution_count": 97,
   "id": "d2205069",
   "metadata": {
    "slideshow": {
     "slide_type": "-"
    }
   },
   "outputs": [
    {
     "data": {
      "text/plain": [
       "array([[ 0,  1,  2],\n",
       "       [ 3,  4,  5],\n",
       "       [ 6,  7,  8],\n",
       "       [ 9, 10, 11]])"
      ]
     },
     "execution_count": 97,
     "metadata": {},
     "output_type": "execute_result"
    }
   ],
   "source": [
    "np.vstack([arr1, arr2])"
   ]
  },
  {
   "cell_type": "markdown",
   "id": "4e28f6a2",
   "metadata": {
    "slideshow": {
     "slide_type": "fragment"
    }
   },
   "source": [
    "Il existe également la méthode *stack*. Cette méthode va permettre d'empiler les tableaux le long d'un nouvel axe, on va donc ajouter une dimension. L'option *axis* correspondra à l'indice du nouvel axe :"
   ]
  },
  {
   "cell_type": "code",
   "execution_count": 98,
   "id": "f423b2b2",
   "metadata": {
    "slideshow": {
     "slide_type": "fragment"
    }
   },
   "outputs": [
    {
     "data": {
      "text/plain": [
       "array([[[ 0,  1,  2],\n",
       "        [ 3,  4,  5]],\n",
       "\n",
       "       [[ 6,  7,  8],\n",
       "        [ 9, 10, 11]]])"
      ]
     },
     "execution_count": 98,
     "metadata": {},
     "output_type": "execute_result"
    }
   ],
   "source": [
    "np.stack([arr1, arr2], axis=0)"
   ]
  },
  {
   "cell_type": "code",
   "execution_count": 99,
   "id": "be6fa6b1",
   "metadata": {
    "slideshow": {
     "slide_type": "-"
    }
   },
   "outputs": [
    {
     "data": {
      "text/plain": [
       "(2, 2, 3)"
      ]
     },
     "execution_count": 99,
     "metadata": {},
     "output_type": "execute_result"
    }
   ],
   "source": [
    "np.stack([arr1, arr2], axis=0).shape"
   ]
  },
  {
   "cell_type": "markdown",
   "id": "44ba2666",
   "metadata": {
    "slideshow": {
     "slide_type": "-"
    }
   },
   "source": [
    "### Exercice\n",
    "\n",
    "Testez le résultat pour axis=1 et axis=2."
   ]
  },
  {
   "cell_type": "markdown",
   "id": "8f59c5f7",
   "metadata": {
    "slideshow": {
     "slide_type": "subslide"
    }
   },
   "source": [
    "![image alt >](Images/numgrade.png)\n",
    "## Transposer un tableau"
   ]
  },
  {
   "cell_type": "markdown",
   "id": "41e89319",
   "metadata": {},
   "source": [
    "Avec des tableaux à 2 dimensions, cela correspond à la [transposée classique d'une matrice](https://en.wikipedia.org/wiki/Transpose). Pour retourner la matrice transposée, 2 possibilités :"
   ]
  },
  {
   "cell_type": "code",
   "execution_count": 44,
   "id": "cc2a5904",
   "metadata": {},
   "outputs": [
    {
     "data": {
      "text/plain": [
       "array([[0, 3],\n",
       "       [1, 4],\n",
       "       [2, 5]])"
      ]
     },
     "execution_count": 44,
     "metadata": {},
     "output_type": "execute_result"
    }
   ],
   "source": [
    "arr1.T"
   ]
  },
  {
   "cell_type": "code",
   "execution_count": 45,
   "id": "5a42256a",
   "metadata": {},
   "outputs": [
    {
     "data": {
      "text/plain": [
       "array([[0, 3],\n",
       "       [1, 4],\n",
       "       [2, 5]])"
      ]
     },
     "execution_count": 45,
     "metadata": {},
     "output_type": "execute_result"
    }
   ],
   "source": [
    "arr1.transpose()"
   ]
  },
  {
   "cell_type": "markdown",
   "id": "f05f1ef5",
   "metadata": {},
   "source": [
    "Pour des tableaux à plus de 2 dimensions, vous pourrez indiquer les axes, leur ordre indiquera comment les axes seront permutés. Voir par exemple : [https://numpy.org/devdocs/reference/generated/numpy.transpose.html](https://numpy.org/devdocs/reference/generated/numpy.transpose.html)"
   ]
  },
  {
   "cell_type": "markdown",
   "id": "78a7e08a",
   "metadata": {
    "slideshow": {
     "slide_type": "subslide"
    }
   },
   "source": [
    "![image alt >](Images/numgrade.png)\n",
    "## Découper un tableau (splitting)"
   ]
  },
  {
   "cell_type": "markdown",
   "id": "7d715283",
   "metadata": {
    "slideshow": {
     "slide_type": "fragment"
    }
   },
   "source": [
    "Nous pourrons au contraire découper un tableau avec les méthodes *split*, *hsplit* et *vsplit*. Il est possible de préciser une liste de points correspondant aux indices où le tableau sera découpé :"
   ]
  },
  {
   "cell_type": "code",
   "execution_count": 1,
   "id": "aca179e3",
   "metadata": {
    "scrolled": true,
    "slideshow": {
     "slide_type": "fragment"
    }
   },
   "outputs": [
    {
     "data": {
      "text/plain": [
       "[array([0, 1, 2]), array([3, 4, 5]), array([6, 7, 8])]"
      ]
     },
     "execution_count": 1,
     "metadata": {},
     "output_type": "execute_result"
    }
   ],
   "source": [
    "arr1 = np.arange(9)\n",
    "np.split(arr1, [3, 6])   # It returns a list of array"
   ]
  },
  {
   "cell_type": "code",
   "execution_count": 101,
   "id": "9cb3997a",
   "metadata": {
    "slideshow": {
     "slide_type": "fragment"
    }
   },
   "outputs": [
    {
     "data": {
      "text/plain": [
       "array([[0, 1, 2],\n",
       "       [3, 4, 5],\n",
       "       [6, 7, 8]])"
      ]
     },
     "execution_count": 101,
     "metadata": {},
     "output_type": "execute_result"
    }
   ],
   "source": [
    "# If you want a Numpy array instead of a list:\n",
    "np.array(np.split(arr1, [3, 6]))"
   ]
  },
  {
   "cell_type": "markdown",
   "id": "9b389baf",
   "metadata": {
    "slideshow": {
     "slide_type": "subslide"
    }
   },
   "source": [
    "![image alt >](Images/numgrade.png)\n",
    "Nous pourrons découper le tableau horizontalement avec *hsplit* :"
   ]
  },
  {
   "cell_type": "code",
   "execution_count": 103,
   "id": "344370f1",
   "metadata": {
    "slideshow": {
     "slide_type": "fragment"
    }
   },
   "outputs": [],
   "source": [
    "arr1 = np.arange(9).reshape(3, 3)\n",
    "arr2, arr3 = np.hsplit(arr1, [1])"
   ]
  },
  {
   "cell_type": "code",
   "execution_count": 104,
   "id": "d8a7cad5",
   "metadata": {
    "slideshow": {
     "slide_type": "fragment"
    }
   },
   "outputs": [
    {
     "data": {
      "text/plain": [
       "array([[0],\n",
       "       [3],\n",
       "       [6]])"
      ]
     },
     "execution_count": 104,
     "metadata": {},
     "output_type": "execute_result"
    }
   ],
   "source": [
    "arr2"
   ]
  },
  {
   "cell_type": "code",
   "execution_count": 105,
   "id": "d4834ca1",
   "metadata": {
    "slideshow": {
     "slide_type": "fragment"
    }
   },
   "outputs": [
    {
     "data": {
      "text/plain": [
       "array([[1, 2],\n",
       "       [4, 5],\n",
       "       [7, 8]])"
      ]
     },
     "execution_count": 105,
     "metadata": {},
     "output_type": "execute_result"
    }
   ],
   "source": [
    "arr3"
   ]
  },
  {
   "cell_type": "markdown",
   "id": "b7898eba",
   "metadata": {
    "slideshow": {
     "slide_type": "subslide"
    }
   },
   "source": [
    "![image alt >](Images/numgrade.png)\n",
    "Le découpage vertical se fera avec la méthode *vsplit* :"
   ]
  },
  {
   "cell_type": "code",
   "execution_count": 12,
   "id": "178d7f30",
   "metadata": {
    "slideshow": {
     "slide_type": "fragment"
    }
   },
   "outputs": [],
   "source": [
    "arr1 = np.arange(9).reshape(3, 3)\n",
    "arr2, arr3 = np.vsplit(arr1, [1])"
   ]
  },
  {
   "cell_type": "code",
   "execution_count": 107,
   "id": "51ed1fe2",
   "metadata": {
    "slideshow": {
     "slide_type": "fragment"
    }
   },
   "outputs": [
    {
     "data": {
      "text/plain": [
       "array([[0, 1, 2]])"
      ]
     },
     "execution_count": 107,
     "metadata": {},
     "output_type": "execute_result"
    }
   ],
   "source": [
    "arr2"
   ]
  },
  {
   "cell_type": "code",
   "execution_count": 108,
   "id": "990a95e6",
   "metadata": {
    "scrolled": true,
    "slideshow": {
     "slide_type": "fragment"
    }
   },
   "outputs": [
    {
     "data": {
      "text/plain": [
       "array([[3, 4, 5],\n",
       "       [6, 7, 8]])"
      ]
     },
     "execution_count": 108,
     "metadata": {},
     "output_type": "execute_result"
    }
   ],
   "source": [
    "arr3"
   ]
  },
  {
   "cell_type": "markdown",
   "id": "576d20c8",
   "metadata": {
    "slideshow": {
     "slide_type": "subslide"
    }
   },
   "source": [
    "![image alt >](Images/numgrade.png) \n",
    "### Exercices (difficulté : ⭐⭐) \n",
    "\n",
    "**Objectifs pédagogiques** :\n",
    "\n",
    "- Savoir modifier des données dans un tableau\n",
    "\n",
    "- Apprendre à utiliser l'indexation, le slicing et l'indexation avancée\n",
    "\n",
    "**Enoncés**\n",
    "\n",
    "1. Créez un vecteur nul de taille 10 sauf la 4ème valeur qui sera égale à 1.\n",
    "\n",
    "2. Créez un tableau array([0, 1, ..., 9, 10]). Afficher le tableau en ordre inverse, les valeurs paires et les valeurs impaires en utilisant l'indexation.\n",
    "\n",
    "3. Créez une matrice identité 3 x 3.\n",
    "\n",
    "4. Créez un tableau 5x5 avec des valeurs aléatoires. Afficher la 3ème ligne, et ensuite la dernière colonne.\n",
    "\n",
    "5. Créez un tableau 4x4. Afficher un tableau interne de dimensions 2x2 (par exemple les 2ème et 3ème lignes et les 2ème et 3ème colonnes).\n",
    "\n",
    "6. Créez ces 2 tableaux 2-D:\n",
    "\n",
    "[[0. 0. 0. 0. 0.]\n",
    " \n",
    " [2. 0. 0. 0. 0.]\n",
    " \n",
    " [0. 3. 0. 0. 0.]\n",
    " \n",
    " [0. 0. 4. 0. 0.]\n",
    " \n",
    " [0. 0. 0. 5. 0.]\n",
    " \n",
    " [0. 0. 0. 0. 6.]]\n",
    "\n",
    "Et:\n",
    "\n",
    "[[1 1 1 1] \n",
    "\n",
    " [1 1 1 1]\n",
    "\n",
    " [1 1 1 2]\n",
    "\n",
    "[1 6 1 1]]\n",
    "\n",
    "$\\qquad \\qquad$ **7.** En utilisant l'indexation avancée, extraire du tableau précédent les valeurs aux indices (2, 3), (2, 1), (3, 3) et (3, 1). Le résultat attendu est un tableau de dimension 2 x 2 :\n",
    "  \n",
    "[[2 1] \n",
    "\n",
    " [1 6]]"
   ]
  },
  {
   "cell_type": "markdown",
   "id": "da32e20e",
   "metadata": {
    "slideshow": {
     "slide_type": "slide"
    }
   },
   "source": [
    "![image alt <](Images/numpy.jpg)\n",
    "![image alt >](Images/numgrade.png)"
   ]
  },
  {
   "cell_type": "markdown",
   "id": "bb9fcd7d",
   "metadata": {
    "slideshow": {
     "slide_type": "-"
    }
   },
   "source": [
    "# Broadcasting"
   ]
  },
  {
   "cell_type": "markdown",
   "id": "e67de56b",
   "metadata": {},
   "source": [
    "Le *broadcasting* ([https://docs.scipy.org/doc/numpy-1.13.0/user/basics.broadcasting.html](https://docs.scipy.org/doc/numpy-1.13.0/user/basics.broadcasting.html)) est le terme utilisé pour définir la manière dont Numpy traite des tableaux de dimensions différentes lors d'opérations arithmétiques. En fonction de certains critères, les dimensions du tableau le plus petit seront étendues (\"broadcasted\") afin que les 2 tableaux aient des dimensions compatibles."
   ]
  },
  {
   "cell_type": "markdown",
   "id": "04053a89",
   "metadata": {},
   "source": [
    "##### Règles pour le broadcasting"
   ]
  },
  {
   "cell_type": "markdown",
   "id": "df7babbb",
   "metadata": {},
   "source": [
    "Numpy compare le nombre de dimensions de chaque tableau, il commence la comparaison des dimensions \"par la droite\".\n",
    "\n",
    "- 2 dimensions sont compatibles si elles sont égales ou si une dimension est égale à 1 ; et dans ce dernier cas la dimension sera étendue (\"broadcasted\"). \n",
    "\n",
    "- Si 2 tableaux n'ont pas le même nombre de dimensions, alors des dimensions seront rajoutées au tableau avec le nombre de dimensions le plus faible. "
   ]
  },
  {
   "cell_type": "markdown",
   "id": "bcb1bca6",
   "metadata": {},
   "source": [
    "##### Exemples"
   ]
  },
  {
   "cell_type": "markdown",
   "id": "cd99b909",
   "metadata": {},
   "source": [
    "Tableaux avec des dimensions (tailles) différentes :\n",
    "\n",
    "(3) × (1) → (3) × (3) → (3)"
   ]
  },
  {
   "cell_type": "code",
   "execution_count": 4,
   "id": "65de584a",
   "metadata": {},
   "outputs": [],
   "source": [
    "a = np.arange(3)\n",
    "b = np.array([1])"
   ]
  },
  {
   "cell_type": "code",
   "execution_count": 3,
   "id": "82e971c2",
   "metadata": {},
   "outputs": [
    {
     "data": {
      "text/plain": [
       "(3,)"
      ]
     },
     "execution_count": 3,
     "metadata": {},
     "output_type": "execute_result"
    }
   ],
   "source": [
    "result = a + b     # equivalent to a + 1 -> np.array([1, 1, 1])\n",
    "result.shape"
   ]
  },
  {
   "cell_type": "markdown",
   "id": "faffc63c",
   "metadata": {},
   "source": [
    "(2, 3, 1) × (1, 3, 4) → (2, 3, 4) × (2, 3, 4) → (2, 3, 4)"
   ]
  },
  {
   "cell_type": "code",
   "execution_count": 43,
   "id": "1b3fa1a2",
   "metadata": {},
   "outputs": [],
   "source": [
    "a = np.arange(6).reshape(2, 3, 1)\n",
    "b = np.arange(12).reshape(1, 3, 4)"
   ]
  },
  {
   "cell_type": "code",
   "execution_count": 45,
   "id": "bcbe5b7d",
   "metadata": {},
   "outputs": [
    {
     "data": {
      "text/plain": [
       "(2, 3, 4)"
      ]
     },
     "execution_count": 45,
     "metadata": {},
     "output_type": "execute_result"
    }
   ],
   "source": [
    "result = a + b\n",
    "result.shape"
   ]
  },
  {
   "cell_type": "markdown",
   "id": "7f078474",
   "metadata": {},
   "source": [
    "Les tableaux ont été étendus."
   ]
  },
  {
   "cell_type": "markdown",
   "id": "446e77b6",
   "metadata": {
    "slideshow": {
     "slide_type": "subslide"
    }
   },
   "source": [
    "![image alt >](Images/numgrade.png)\n",
    "Tableaux avec un nombre de dimensions différent :\n",
    "\n",
    "(1, 2, 3) × (2, 3) → (1, 2, 3) × (1, 2, 3) → (1, 2, 3)"
   ]
  },
  {
   "cell_type": "code",
   "execution_count": 8,
   "id": "d654bfe0",
   "metadata": {},
   "outputs": [],
   "source": [
    "a = np.arange(6).reshape(1, 2, 3)\n",
    "b = np.arange(6).reshape(2, 3)"
   ]
  },
  {
   "cell_type": "code",
   "execution_count": 9,
   "id": "e2aac4e7",
   "metadata": {
    "scrolled": true
   },
   "outputs": [
    {
     "data": {
      "text/plain": [
       "(1, 2, 3)"
      ]
     },
     "execution_count": 9,
     "metadata": {},
     "output_type": "execute_result"
    }
   ],
   "source": [
    "result = a + b\n",
    "result.shape"
   ]
  },
  {
   "cell_type": "markdown",
   "id": "f4f7a32a",
   "metadata": {},
   "source": [
    "Une dimension a été ajoutée au deuxième tableau. \n",
    "\n",
    "Il est aussi possible de combiner ajout de dimension et extension. Par exemple :\n",
    "\n",
    "(2, 2, 3) × (2, 3) → ajoute une dimension : (2, 2, 3) × (1, 2, 3) → étend le 2ème tableau : (2, 2, 3) × (2, 2, 3) → (2, 2, 3)"
   ]
  },
  {
   "cell_type": "code",
   "execution_count": 2,
   "id": "e42581fe",
   "metadata": {},
   "outputs": [],
   "source": [
    "a = np.arange(12).reshape(2, 2, 3)\n",
    "b = np.arange(6).reshape(2, 3)"
   ]
  },
  {
   "cell_type": "code",
   "execution_count": 3,
   "id": "67be9887",
   "metadata": {},
   "outputs": [
    {
     "data": {
      "text/plain": [
       "(2, 2, 3)"
      ]
     },
     "execution_count": 3,
     "metadata": {},
     "output_type": "execute_result"
    }
   ],
   "source": [
    "result = a + b\n",
    "result.shape"
   ]
  },
  {
   "cell_type": "markdown",
   "id": "cd4cac5a",
   "metadata": {},
   "source": [
    "Tableaux non compatibles :\n",
    "             \n",
    "(4, 3) × (2, 1) → Error"
   ]
  },
  {
   "cell_type": "code",
   "execution_count": 50,
   "id": "af673284",
   "metadata": {},
   "outputs": [],
   "source": [
    "a = np.arange(12).reshape(4, 3)\n",
    "b = np.arange(2).reshape(2, 1)"
   ]
  },
  {
   "cell_type": "code",
   "execution_count": 54,
   "id": "91d6d819",
   "metadata": {},
   "outputs": [
    {
     "ename": "ValueError",
     "evalue": "operands could not be broadcast together with shapes (4,3) (2,1) ",
     "output_type": "error",
     "traceback": [
      "\u001b[0;31m---------------------------------------------------------------------------\u001b[0m",
      "\u001b[0;31mValueError\u001b[0m                                Traceback (most recent call last)",
      "\u001b[0;32m<ipython-input-54-aae64dafde70>\u001b[0m in \u001b[0;36m<module>\u001b[0;34m()\u001b[0m\n\u001b[0;32m----> 1\u001b[0;31m \u001b[0mresult\u001b[0m \u001b[0;34m=\u001b[0m \u001b[0ma\u001b[0m \u001b[0;34m+\u001b[0m \u001b[0mb\u001b[0m\u001b[0;34m\u001b[0m\u001b[0m\n\u001b[0m",
      "\u001b[0;31mValueError\u001b[0m: operands could not be broadcast together with shapes (4,3) (2,1) "
     ]
    }
   ],
   "source": [
    "result = a + b"
   ]
  },
  {
   "cell_type": "markdown",
   "id": "4cb23b6c",
   "metadata": {},
   "source": [
    "Les dimensions avec 4 et 2 ne sont pas compatibles. Pour qu'elles aient été compatibles, il aurait fallu qu'une dimension soit égale à 1 ou que les 2 dimensions soient identiques."
   ]
  },
  {
   "cell_type": "markdown",
   "id": "2af720a2",
   "metadata": {
    "slideshow": {
     "slide_type": "slide"
    }
   },
   "source": [
    "![image alt <](Images/numpy.jpg)\n",
    "![image alt >](Images/numgrade.png)"
   ]
  },
  {
   "cell_type": "markdown",
   "id": "768d37a7",
   "metadata": {
    "slideshow": {
     "slide_type": "-"
    }
   },
   "source": [
    "# Fonctions universelles (universal functions)"
   ]
  },
  {
   "cell_type": "markdown",
   "id": "afacc8f0",
   "metadata": {
    "slideshow": {
     "slide_type": "fragment"
    }
   },
   "source": [
    "Un des grands avantages de NumPy est la possibilité de calculer facilement et efficacement sur les tableaux. Les opérations sur les tableaux NumPy sont rapides grâce à la vectorisation. Ces opérations vectorisées sont accessibles via les fonctions universelles implémentées dans NumPy (universal functions - *ufuncs*)."
   ]
  },
  {
   "cell_type": "markdown",
   "id": "1ade568a",
   "metadata": {
    "slideshow": {
     "slide_type": "fragment"
    }
   },
   "source": [
    "### Les boucles for avec NumPy : non, merci !"
   ]
  },
  {
   "cell_type": "markdown",
   "id": "065c8d15",
   "metadata": {
    "slideshow": {
     "slide_type": "fragment"
    }
   },
   "source": [
    "Les boucles for en Python sont assez lentes, il faudra donc les éviter autant que possible si vous voulez bénéficier des performances de NumPy. Par exemple, élevons au carré les valeurs d'un tableau :"
   ]
  },
  {
   "cell_type": "markdown",
   "id": "dca86364",
   "metadata": {
    "slideshow": {
     "slide_type": "fragment"
    }
   },
   "source": [
    "Solution avec un boucle *for* en Python :"
   ]
  },
  {
   "cell_type": "code",
   "execution_count": 1,
   "id": "ae52aedd",
   "metadata": {
    "slideshow": {
     "slide_type": "fragment"
    }
   },
   "outputs": [],
   "source": [
    "def square(values):\n",
    "    output = np.empty(len(values))\n",
    "    for i, value in enumerate(values):\n",
    "        output[i] = value * value\n",
    "    return output"
   ]
  },
  {
   "cell_type": "code",
   "execution_count": 98,
   "id": "fd005272",
   "metadata": {
    "slideshow": {
     "slide_type": "subslide"
    }
   },
   "outputs": [
    {
     "name": "stdout",
     "output_type": "stream",
     "text": [
      "1 loop, best of 3: 270 ms per loop\n"
     ]
    }
   ],
   "source": [
    "values = np.arange(1_000_000)  # 1 million elements array\n",
    "%timeit square(values)"
   ]
  },
  {
   "cell_type": "markdown",
   "id": "801ee223",
   "metadata": {
    "slideshow": {
     "slide_type": "fragment"
    }
   },
   "source": [
    "Avec NumPy, il suffit d'appliquer l'opération désirée au tableau :"
   ]
  },
  {
   "cell_type": "code",
   "execution_count": 99,
   "id": "9fdeca39",
   "metadata": {
    "slideshow": {
     "slide_type": "fragment"
    }
   },
   "outputs": [
    {
     "name": "stdout",
     "output_type": "stream",
     "text": [
      "100 loops, best of 3: 2.84 ms per loop\n"
     ]
    }
   ],
   "source": [
    "%timeit values**2"
   ]
  },
  {
   "cell_type": "markdown",
   "id": "ee76341d",
   "metadata": {
    "slideshow": {
     "slide_type": "fragment"
    }
   },
   "source": [
    "Nous gagnons environ 2 ordres de grandeur par rapport à la même opération réalisée avec une boucle for !"
   ]
  },
  {
   "cell_type": "markdown",
   "id": "63cce25e",
   "metadata": {
    "slideshow": {
     "slide_type": "fragment"
    }
   },
   "source": [
    "Les opérations vectorisées en NumPy sont implémentées via les *ufuncs*. Ces *ufuncs* vont permettre de réaliser des opérations élément par élément très rapidement. Nous pouvons bien entendu utiliser les *ufuncs* entre 2 tableaux :"
   ]
  },
  {
   "cell_type": "code",
   "execution_count": 100,
   "id": "54795ae7",
   "metadata": {
    "slideshow": {
     "slide_type": "fragment"
    }
   },
   "outputs": [
    {
     "data": {
      "text/plain": [
       "array([0, 1, 4])"
      ]
     },
     "execution_count": 100,
     "metadata": {},
     "output_type": "execute_result"
    }
   ],
   "source": [
    "np.arange(3) * np.arange(3)"
   ]
  },
  {
   "cell_type": "markdown",
   "id": "3372fe04",
   "metadata": {
    "slideshow": {
     "slide_type": "subslide"
    }
   },
   "source": [
    "![image alt >](Images/numgrade.png)\n",
    "## Quelques fonctions universelles (ufuncs)"
   ]
  },
  {
   "cell_type": "markdown",
   "id": "a506cd65",
   "metadata": {
    "collapsed": true,
    "slideshow": {
     "slide_type": "fragment"
    }
   },
   "source": [
    "| Operator   |  *ufunc* correspondante  | Description     |\n",
    "|------------|--------------------------|-----------------|    \n",
    "| +          |  np.add                  | addition        |\n",
    "| -          |  np.subtract             | subtraction    |\n",
    "| -          |  np.negative             | negation        |\n",
    "| *          |  np.multiply             | multiplication  |\n",
    "| /          |  np.divide               | division        |\n",
    "| //         |  np.floor_divide         | floor division  |\n",
    "| \\*\\*       |  np.power                | exponentiation  |\n",
    "| %          |  np.mod                  | modulus         |\n",
    "| abs        |  np.absolute or np.abs   | absolute value  |"
   ]
  },
  {
   "cell_type": "markdown",
   "id": "60c8c558",
   "metadata": {
    "collapsed": true,
    "slideshow": {
     "slide_type": "fragment"
    }
   },
   "source": [
    "NumPy comprend les opérateurs Python. Par exemple np.add(a1, a2) est équivalent à a1 + a2."
   ]
  },
  {
   "cell_type": "markdown",
   "id": "a1458ce2",
   "metadata": {
    "slideshow": {
     "slide_type": "subslide"
    }
   },
   "source": [
    "![image alt >](Images/numgrade.png)\n",
    "Lorsque les opérateurs Python ne sont pas disponibles, nous utiliserons les *ufuncs* :"
   ]
  },
  {
   "cell_type": "markdown",
   "id": "97a713b1",
   "metadata": {
    "slideshow": {
     "slide_type": "fragment"
    }
   },
   "source": [
    "Fonctions trigonométriques\n",
    "\n",
    "|  *ufunc*   | Description     |\n",
    "|-------------------------|-----------------|    \n",
    "|  np.sin                 | sine        |\n",
    "|  np.cos                 | cosine    |\n",
    "|  np.tan                 | tangent        |\n",
    "|  np.arcsin              | arcsine  |\n",
    "|  np.arccos              | arccosine        |\n",
    "|  np.arctan              | arctangent  |"
   ]
  },
  {
   "cell_type": "markdown",
   "id": "8eab74fa",
   "metadata": {
    "slideshow": {
     "slide_type": "fragment"
    }
   },
   "source": [
    "Exposants et logarithmes\n",
    "\n",
    "|  *ufunc*   | Description     |\n",
    "|-------------------------|-----------------|    \n",
    "|  np.exp                | exponential        |\n",
    "|  np.power                 | 1st element raised to powers from 2nd element   |\n",
    "|  np.log                |  Natural logarithm       |\n",
    "|  np.log2              | Base-2 logarithm  |\n",
    "|  np.log10              | Base-10 logarithm        |"
   ]
  },
  {
   "cell_type": "markdown",
   "id": "fd903895",
   "metadata": {
    "collapsed": true,
    "slideshow": {
     "slide_type": "fragment"
    }
   },
   "source": [
    "NumPy possède un grand nombre de fonctions universelles, vous pouvez trouver la liste complète à cette adresse : [https://numpy.org/doc/stable/reference/ufuncs.html](https://numpy.org/doc/stable/reference/ufuncs.html)"
   ]
  },
  {
   "cell_type": "markdown",
   "id": "c96f4450",
   "metadata": {
    "slideshow": {
     "slide_type": "subslide"
    }
   },
   "source": [
    "![image alt >](Images/numgrade.png)\n",
    "\n",
    "### Exercices sur les fonctions universelles (*ufuncs*) (difficulté : ⭐⭐)"
   ]
  },
  {
   "cell_type": "markdown",
   "id": "108e85a6",
   "metadata": {},
   "source": [
    "**Objectifs pédagogiques** :\n",
    "\n",
    "- Apprendre à travailler \"en mode tableau\" et éviter l'utilisation des boucles for."
   ]
  },
  {
   "cell_type": "markdown",
   "id": "36e4af71",
   "metadata": {
    "slideshow": {
     "slide_type": "fragment"
    }
   },
   "source": [
    "Rappel : n'utilisez pas les boucles for !"
   ]
  },
  {
   "cell_type": "markdown",
   "id": "ebcf2dbb",
   "metadata": {
    "slideshow": {
     "slide_type": "fragment"
    }
   },
   "source": [
    "1) Écrire une fonction qui prend en paramètre un tableau NumPy 1-D et retourne un autre tableau NumPy 1-D qui contiendrait les différences entre les éléments voisins. Exemple :\n",
    "\n",
    "- arr = np.array([1, 2, 5, 0])\n",
    "\n",
    "- La fonction \"differences(arr)\" devra retourner : array([-1, -3, 5])\n",
    "\n",
    "\n",
    "2) Supposons que vous ayez 2 tableaux (même taille): un tableau contient les coordonnées y et l'autre les coordonnées x. Calculez les dérivées numériques dy/dx. Utilisez la dérivée au point central : (y1 - y0) / (x1 - x0)."
   ]
  },
  {
   "cell_type": "markdown",
   "id": "f0344aee",
   "metadata": {},
   "source": [
    "![image alt <](Images/numpy.jpg)\n",
    "![image alt >](Images/numgrade.png)"
   ]
  },
  {
   "cell_type": "markdown",
   "id": "1f4ee5e9",
   "metadata": {
    "slideshow": {
     "slide_type": "-"
    }
   },
   "source": [
    "# Extraire des informations de vos données"
   ]
  },
  {
   "cell_type": "markdown",
   "id": "31894b73",
   "metadata": {
    "slideshow": {
     "slide_type": "-"
    }
   },
   "source": [
    "Lorsque vous avez un jeu de données, une première étape sera assez souvent d'extraire des informations statistiques simples de vos données : moyenne, écart type, médiane... NumPy possède tout un jeu de fonctions pour ce type d'opérations."
   ]
  },
  {
   "cell_type": "code",
   "execution_count": 109,
   "id": "689b65ae",
   "metadata": {
    "slideshow": {
     "slide_type": "fragment"
    }
   },
   "outputs": [],
   "source": [
    "arr = np.random.random(100)"
   ]
  },
  {
   "cell_type": "markdown",
   "id": "053de580",
   "metadata": {
    "slideshow": {
     "slide_type": "fragment"
    }
   },
   "source": [
    "Somme de toutes les valeurs :"
   ]
  },
  {
   "cell_type": "code",
   "execution_count": 110,
   "id": "2e1ffe33",
   "metadata": {
    "scrolled": true,
    "slideshow": {
     "slide_type": "fragment"
    }
   },
   "outputs": [
    {
     "data": {
      "text/plain": [
       "50.882373674863096"
      ]
     },
     "execution_count": 110,
     "metadata": {},
     "output_type": "execute_result"
    }
   ],
   "source": [
    "arr.sum()    # np.sum(arr)"
   ]
  },
  {
   "cell_type": "markdown",
   "id": "74e777dd",
   "metadata": {
    "slideshow": {
     "slide_type": "subslide"
    }
   },
   "source": [
    "![image alt >](Images/numgrade.png)\n",
    "Extraction des valeurs minimum et maximum :"
   ]
  },
  {
   "cell_type": "code",
   "execution_count": 111,
   "id": "498cef42",
   "metadata": {
    "slideshow": {
     "slide_type": "fragment"
    }
   },
   "outputs": [
    {
     "name": "stdout",
     "output_type": "stream",
     "text": [
      "0.9908472605803893\n",
      "0.0009649300674712258\n"
     ]
    }
   ],
   "source": [
    "print(arr.max())  # np.max(arr)\n",
    "print(arr.min())  # np.min(arr)"
   ]
  },
  {
   "cell_type": "markdown",
   "id": "dd86f231",
   "metadata": {
    "slideshow": {
     "slide_type": "fragment"
    }
   },
   "source": [
    "NOTE : Python possède également ses propres fonctions *sum(), max(), min()*. Il faudra prendre garde de ne pas les utiliser sur les tableaux ! Cela retournera le résultat escompté mais au prix d'une perte d'efficacité en terme de temps de calcul."
   ]
  },
  {
   "cell_type": "markdown",
   "id": "2e98cb7a",
   "metadata": {
    "slideshow": {
     "slide_type": "subslide"
    }
   },
   "source": [
    "![image alt >](Images/numgrade.png)\n",
    "Pour les tableaux à plusieurs dimensions, par défaut *np.sum, np.max, np.min* retourneront le résultat pour le tableau complet mais il est tout à fait possible de spécifier l'axe (*axis*) selon lequel on souhaite réaliser l'opération :"
   ]
  },
  {
   "cell_type": "code",
   "execution_count": 112,
   "id": "6dd3ee4b",
   "metadata": {
    "slideshow": {
     "slide_type": "fragment"
    }
   },
   "outputs": [
    {
     "data": {
      "text/plain": [
       "array([[ 0,  1,  2,  3],\n",
       "       [ 4,  5,  6,  7],\n",
       "       [ 8,  9, 10, 11],\n",
       "       [12, 13, 14, 15]])"
      ]
     },
     "execution_count": 112,
     "metadata": {},
     "output_type": "execute_result"
    }
   ],
   "source": [
    "arr = np.arange(16).reshape(4, 4)\n",
    "arr"
   ]
  },
  {
   "cell_type": "code",
   "execution_count": 113,
   "id": "4663dc7f",
   "metadata": {
    "slideshow": {
     "slide_type": "fragment"
    }
   },
   "outputs": [
    {
     "data": {
      "text/plain": [
       "120"
      ]
     },
     "execution_count": 113,
     "metadata": {},
     "output_type": "execute_result"
    }
   ],
   "source": [
    "arr.sum()"
   ]
  },
  {
   "cell_type": "code",
   "execution_count": 114,
   "id": "ef7aacd6",
   "metadata": {
    "slideshow": {
     "slide_type": "-"
    }
   },
   "outputs": [
    {
     "data": {
      "text/plain": [
       "array([24, 28, 32, 36])"
      ]
     },
     "execution_count": 114,
     "metadata": {},
     "output_type": "execute_result"
    }
   ],
   "source": [
    "arr.sum(axis=0)  # sum for each column"
   ]
  },
  {
   "cell_type": "code",
   "execution_count": 115,
   "id": "43ea5046",
   "metadata": {
    "slideshow": {
     "slide_type": "-"
    }
   },
   "outputs": [
    {
     "data": {
      "text/plain": [
       "array([ 3,  7, 11, 15])"
      ]
     },
     "execution_count": 115,
     "metadata": {},
     "output_type": "execute_result"
    }
   ],
   "source": [
    "arr.max(axis=1)  # maximum for each row"
   ]
  },
  {
   "cell_type": "markdown",
   "id": "f505017d",
   "metadata": {
    "slideshow": {
     "slide_type": "-"
    }
   },
   "source": [
    "<div class=\"alert alert-block alert-info\">\n",
    "    <b>NOTE</b>\n",
    "    \n",
    "La façon dont l'option *axis* doit être mentionnée peut paraître déroutante. Ici *axis* spécifie l'axe selon laquelle l'opération sera réalisée. \n",
    "\n",
    "Ainsi, *axis = 0* signifie que l'opération se réalisera selon les lignes, donc nous obtiendrons un résultat pour chaque colonne.\n",
    "\n",
    "Au contraire *axis = 1* signifie que l'opération se réalisera selon les colonnes, donc nous obtiendrons un résultat pour chaque ligne.\n",
    "\n",
    "![](Images/numpy_axis.png)\n",
    "source : https://solothought.com/tutorial/python-numpy/\n",
    "    \n",
    "Pour aller plus loin sur cette notion d'\"axis\", vous pourrez trouver de nombreuses explications sur internet, vous trouverez également une très belle illustration sur ce site : [https://solothought.com/tutorial/python-numpy/](https://solothought.com/tutorial/python-numpy/) (section Axis).\n",
    "</div>"
   ]
  },
  {
   "cell_type": "markdown",
   "id": "0a6acd1d",
   "metadata": {
    "slideshow": {
     "slide_type": "subslide"
    }
   },
   "source": [
    "![image alt >](Images/numgrade.png)\n",
    "Il existe aussi des fonctions pour la médiane et les percentiles :"
   ]
  },
  {
   "cell_type": "code",
   "execution_count": 116,
   "id": "7a471fef",
   "metadata": {},
   "outputs": [
    {
     "data": {
      "text/plain": [
       "7.5"
      ]
     },
     "execution_count": 116,
     "metadata": {},
     "output_type": "execute_result"
    }
   ],
   "source": [
    "np.median(arr)"
   ]
  },
  {
   "cell_type": "code",
   "execution_count": 117,
   "id": "c8a545a4",
   "metadata": {
    "slideshow": {
     "slide_type": "fragment"
    }
   },
   "outputs": [
    {
     "data": {
      "text/plain": [
       "3.75"
      ]
     },
     "execution_count": 117,
     "metadata": {},
     "output_type": "execute_result"
    }
   ],
   "source": [
    "np.percentile(arr, 25)  # compute the 25th percentile of the data"
   ]
  },
  {
   "cell_type": "markdown",
   "id": "02201247",
   "metadata": {
    "slideshow": {
     "slide_type": "subslide"
    }
   },
   "source": [
    "![image alt >](Images/numgrade.png)\n",
    "Voici quelques autres fonctions qui peuvent être utiles :"
   ]
  },
  {
   "cell_type": "markdown",
   "id": "27fb3a07",
   "metadata": {},
   "source": [
    "|  Function   | Description         |\n",
    "|-------------|---------------------|    \n",
    "|  np.prod    | product of elements |\n",
    "|  np.cumsum| cumulative sum of the elements |\n",
    "|  np.var     | variance            |\n",
    "|  np.std     | écart-type            |\n",
    "|  np.ravel   | return a flattened array  |\n",
    "|  np.argmin  | index of minimum value  |\n",
    "|  np.argmax  | index of maximum value  |\n",
    "|  np.any     | Test whether any array element evaluates to True  (0 and False return False)  |\n",
    "|  np.all     | Test whether all array elements evaluate to True  (0 and False return False)  |"
   ]
  },
  {
   "cell_type": "markdown",
   "id": "a93e4b16",
   "metadata": {
    "slideshow": {
     "slide_type": "subslide"
    }
   },
   "source": [
    "![image alt >](Images/numgrade.png)\n",
    "### Exercices (difficulté : ⭐)"
   ]
  },
  {
   "cell_type": "markdown",
   "id": "7a5fe00e",
   "metadata": {},
   "source": [
    "**Objectifs pédagogiques**\n",
    "\n",
    "- Utiliser des fonctions simples sur des tableaux.\n",
    "\n",
    "- Comprendre pourquoi on doit utiliser les fonctions NumPy plutôt que les fonctions natives \"Python\" sur les tableaux.\n",
    "\n",
    "- Apprendre à utiliser l'option axis."
   ]
  },
  {
   "cell_type": "markdown",
   "id": "21de50d1",
   "metadata": {
    "slideshow": {
     "slide_type": "fragment"
    }
   },
   "source": [
    "**Enoncés**\n",
    "\n",
    "1. Testez les fonctions présentées dans le tableau précédent.\n",
    "\n",
    "2. Comparez les performances de np.sum() et sum() sur un tableau NumPy contenant 1 million d'éléments.\n",
    "\n",
    "3. Créez un tableau 10x5 avec des valeurs aléatoires puis calculez les valeurs moyennes et l'écart type (standard deviation) pour chaque ligne."
   ]
  },
  {
   "cell_type": "markdown",
   "id": "a481501f",
   "metadata": {
    "slideshow": {
     "slide_type": "slide"
    }
   },
   "source": [
    "![image alt <](Images/numpy.jpg)\n",
    "![image alt >](Images/numgrade.png)"
   ]
  },
  {
   "cell_type": "markdown",
   "id": "7c758aaa",
   "metadata": {
    "slideshow": {
     "slide_type": "-"
    }
   },
   "source": [
    "# Comparaison, masque et booléen"
   ]
  },
  {
   "cell_type": "markdown",
   "id": "8269475d",
   "metadata": {
    "slideshow": {
     "slide_type": "fragment"
    }
   },
   "source": [
    "Il est souvent utile d'extraire des données en fonction de certains critères. Les masques booléens (boolean masking) vont nous permettre de le faire."
   ]
  },
  {
   "cell_type": "markdown",
   "id": "e0ce8893",
   "metadata": {
    "slideshow": {
     "slide_type": "fragment"
    }
   },
   "source": [
    "## Comparaison"
   ]
  },
  {
   "cell_type": "markdown",
   "id": "e8d0cfc4",
   "metadata": {
    "slideshow": {
     "slide_type": "fragment"
    }
   },
   "source": [
    "D'autres *ufuncs* implémentées dans NumPy sont les opérateurs de comparaison. Ils retournent un tableau contenant des valeurs booléennes. Exemple :"
   ]
  },
  {
   "cell_type": "code",
   "execution_count": 118,
   "id": "d3bfb9cf",
   "metadata": {
    "slideshow": {
     "slide_type": "fragment"
    }
   },
   "outputs": [
    {
     "data": {
      "text/plain": [
       "array([0, 1, 2, 3, 4, 5, 6, 7, 8, 9])"
      ]
     },
     "execution_count": 118,
     "metadata": {},
     "output_type": "execute_result"
    }
   ],
   "source": [
    "arr = np.arange(10)\n",
    "arr"
   ]
  },
  {
   "cell_type": "code",
   "execution_count": 119,
   "id": "917e7138",
   "metadata": {
    "slideshow": {
     "slide_type": "-"
    }
   },
   "outputs": [
    {
     "data": {
      "text/plain": [
       "array([False, False, False, False, False, False,  True,  True,  True,\n",
       "        True])"
      ]
     },
     "execution_count": 119,
     "metadata": {},
     "output_type": "execute_result"
    }
   ],
   "source": [
    "arr > 5"
   ]
  },
  {
   "cell_type": "markdown",
   "id": "6cd3ee23",
   "metadata": {
    "slideshow": {
     "slide_type": "subslide"
    }
   },
   "source": [
    "![image alt >](Images/numgrade.png)\n",
    "Les opérateurs classiques de comparaison sont implémentés en tant que *ufuncs* dans NumPy :"
   ]
  },
  {
   "cell_type": "markdown",
   "id": "1341daf6",
   "metadata": {
    "slideshow": {
     "slide_type": "-"
    }
   },
   "source": [
    "| Operator   |  corresponding ufunc   |\n",
    "|------------|------------------------|\n",
    "| ==         | np.equal               |\n",
    "| !=         | np.not_equal           |\n",
    "| <          | np.less                |\n",
    "| <=         | np.less_equal          |\n",
    "| >          | np.greater             |\n",
    "| >=         | np.greater_equal       |\n"
   ]
  },
  {
   "cell_type": "markdown",
   "id": "8402f9c4",
   "metadata": {
    "slideshow": {
     "slide_type": "subslide"
    }
   },
   "source": [
    "![image alt >](Images/numgrade.png)\n",
    "### Utilisation des tableaux booléens"
   ]
  },
  {
   "cell_type": "markdown",
   "id": "787a45dc",
   "metadata": {
    "slideshow": {
     "slide_type": "fragment"
    }
   },
   "source": [
    "Déterminons le nombre de valeurs plus grandes qu'un certain seuil :"
   ]
  },
  {
   "cell_type": "code",
   "execution_count": 2,
   "id": "afc42959",
   "metadata": {
    "slideshow": {
     "slide_type": "fragment"
    }
   },
   "outputs": [
    {
     "data": {
      "text/plain": [
       "array([0, 1, 2, 3, 4, 5, 6, 7, 8, 9])"
      ]
     },
     "execution_count": 2,
     "metadata": {},
     "output_type": "execute_result"
    }
   ],
   "source": [
    "arr = np.arange(10)\n",
    "arr"
   ]
  },
  {
   "cell_type": "code",
   "execution_count": 121,
   "id": "4c3b22f4",
   "metadata": {
    "slideshow": {
     "slide_type": "-"
    }
   },
   "outputs": [
    {
     "data": {
      "text/plain": [
       "4"
      ]
     },
     "execution_count": 121,
     "metadata": {},
     "output_type": "execute_result"
    }
   ],
   "source": [
    "threshold = 5\n",
    "np.sum(arr > threshold)"
   ]
  },
  {
   "cell_type": "markdown",
   "id": "8ba289ea",
   "metadata": {
    "slideshow": {
     "slide_type": "-"
    }
   },
   "source": [
    "Nous trouvons que 4 éléments sont plus grands que 5."
   ]
  },
  {
   "cell_type": "markdown",
   "id": "7382b461",
   "metadata": {
    "slideshow": {
     "slide_type": "subslide"
    }
   },
   "source": [
    "![image alt >](Images/numgrade.png)\n",
    "## Opérateurs booléens"
   ]
  },
  {
   "cell_type": "markdown",
   "id": "6f0352c9",
   "metadata": {
    "slideshow": {
     "slide_type": "fragment"
    }
   },
   "source": [
    "Il est tout à fait possible de combiner les opérateurs logiques Python : &, |, ^ et ~ (comme pour les opérateurs précédents, ils sont également implémentés dans NumPy) : "
   ]
  },
  {
   "cell_type": "markdown",
   "id": "945919d9",
   "metadata": {
    "slideshow": {
     "slide_type": "fragment"
    }
   },
   "source": [
    "| Operator   |  corresponding ufunc   |\n",
    "|------------|------------------------|\n",
    "|  &         | np.bitwise_and         |\n",
    "|  &#124;    | np.bitwise_or          |\n",
    "|  ^         | np.bitwise_xor         |\n",
    "|  ~         | np.bitwise_not         |"
   ]
  },
  {
   "cell_type": "markdown",
   "id": "e77a2c57",
   "metadata": {
    "slideshow": {
     "slide_type": "fragment"
    }
   },
   "source": [
    "Par exemple, vous voulez connaître le nombre d'éléments plus grand qu'un seuil maximum ou plus petit qu'un seuil minimum :"
   ]
  },
  {
   "cell_type": "code",
   "execution_count": 122,
   "id": "53a49397",
   "metadata": {},
   "outputs": [
    {
     "data": {
      "text/plain": [
       "array([0, 1, 2, 3, 4, 5, 6, 7, 8, 9])"
      ]
     },
     "execution_count": 122,
     "metadata": {},
     "output_type": "execute_result"
    }
   ],
   "source": [
    "arr"
   ]
  },
  {
   "cell_type": "code",
   "execution_count": 3,
   "id": "f77c8d03",
   "metadata": {
    "slideshow": {
     "slide_type": "fragment"
    }
   },
   "outputs": [
    {
     "data": {
      "text/plain": [
       "3"
      ]
     },
     "execution_count": 3,
     "metadata": {},
     "output_type": "execute_result"
    }
   ],
   "source": [
    "max_threshold = 8\n",
    "min_threshold = 2\n",
    "np.sum((arr > max_threshold) | (arr < min_threshold))"
   ]
  },
  {
   "cell_type": "markdown",
   "id": "8b919a21",
   "metadata": {
    "slideshow": {
     "slide_type": "fragment"
    }
   },
   "source": [
    "<div class=\"alert alert-block alert-info\">\n",
    "    <b>NOTE</b>\n",
    "    \n",
    "Les parenthèses autour des comparaisons sont ici indispensables. Sans les parenthèses, (arr > max_threshold | arr < min_threshold) serait interpréter comme (arr > (max_threshold | arr) < min_threshold).\n",
    "\n",
    "</div>"
   ]
  },
  {
   "cell_type": "markdown",
   "id": "e3460fc0",
   "metadata": {
    "slideshow": {
     "slide_type": "subslide"
    }
   },
   "source": [
    "![image alt >](Images/numgrade.png)\n",
    "## Masques"
   ]
  },
  {
   "cell_type": "markdown",
   "id": "44244ca1",
   "metadata": {
    "slideshow": {
     "slide_type": "fragment"
    }
   },
   "source": [
    "Pour sélectionner un sous-ensemble, il est aussi possible d'utiliser un tableau de booléens comme masque :"
   ]
  },
  {
   "cell_type": "code",
   "execution_count": 2,
   "id": "9d0038b4",
   "metadata": {
    "slideshow": {
     "slide_type": "fragment"
    }
   },
   "outputs": [
    {
     "data": {
      "text/plain": [
       "array([[10, 10, 16, 10, 16],\n",
       "       [16, 13, 10, 10, 17],\n",
       "       [19, 17, 10, 10, 13],\n",
       "       [11, 16, 13, 14, 10]])"
      ]
     },
     "execution_count": 2,
     "metadata": {},
     "output_type": "execute_result"
    }
   ],
   "source": [
    "arr = np.random.randint(10, 20, (4, 5))\n",
    "arr"
   ]
  },
  {
   "cell_type": "markdown",
   "id": "d61280db",
   "metadata": {
    "slideshow": {
     "slide_type": "fragment"
    }
   },
   "source": [
    "Le tableau de booléens pour les éléments plus grands que 15 serait donc :"
   ]
  },
  {
   "cell_type": "code",
   "execution_count": 3,
   "id": "508fb478",
   "metadata": {
    "slideshow": {
     "slide_type": "fragment"
    }
   },
   "outputs": [
    {
     "data": {
      "text/plain": [
       "array([[False, False,  True, False,  True],\n",
       "       [ True, False, False, False,  True],\n",
       "       [ True,  True, False, False, False],\n",
       "       [False,  True, False, False, False]])"
      ]
     },
     "execution_count": 3,
     "metadata": {},
     "output_type": "execute_result"
    }
   ],
   "source": [
    "arr > 15"
   ]
  },
  {
   "cell_type": "markdown",
   "id": "46f692ad",
   "metadata": {
    "slideshow": {
     "slide_type": "subslide"
    }
   },
   "source": [
    "![image alt >](Images/numgrade.png)\n",
    "Nous pouvons alors utiliser le tableau de booléens comme masque :"
   ]
  },
  {
   "cell_type": "code",
   "execution_count": 4,
   "id": "b7173a17",
   "metadata": {
    "slideshow": {
     "slide_type": "fragment"
    }
   },
   "outputs": [
    {
     "data": {
      "text/plain": [
       "array([16, 16, 16, 17, 19, 17, 16])"
      ]
     },
     "execution_count": 4,
     "metadata": {},
     "output_type": "execute_result"
    }
   ],
   "source": [
    "arr[arr > 15]"
   ]
  },
  {
   "cell_type": "markdown",
   "id": "fae5a7e7",
   "metadata": {
    "slideshow": {
     "slide_type": "fragment"
    }
   },
   "source": [
    "Le résultat est un tableau 1-D contenant tous les éléments plus grands que 15."
   ]
  },
  {
   "cell_type": "markdown",
   "id": "98a91cb0",
   "metadata": {
    "slideshow": {
     "slide_type": "fragment"
    }
   },
   "source": [
    "Bien entendu, vous pouvez combiner les masques avec les opérateurs logiques :"
   ]
  },
  {
   "cell_type": "code",
   "execution_count": 5,
   "id": "9d7781e9",
   "metadata": {
    "scrolled": true,
    "slideshow": {
     "slide_type": "fragment"
    }
   },
   "outputs": [
    {
     "data": {
      "text/plain": [
       "array([13, 13, 11, 13, 14])"
      ]
     },
     "execution_count": 5,
     "metadata": {},
     "output_type": "execute_result"
    }
   ],
   "source": [
    "arr[(arr>10) & (arr<16)]   # Don't forget the parentheses"
   ]
  },
  {
   "cell_type": "markdown",
   "id": "e2cfb163",
   "metadata": {
    "slideshow": {
     "slide_type": "subslide"
    }
   },
   "source": [
    "![image alt >](Images/numgrade.png)\n",
    "### Exercices (difficulté : ⭐⭐)"
   ]
  },
  {
   "cell_type": "markdown",
   "id": "ab2a6a73",
   "metadata": {},
   "source": [
    "**Objectifs pédagogiques**\n",
    "\n",
    "- Utiliser des fonctions NumPy.\n",
    "\n",
    "- Travailler avec des tableaux de booléens.\n",
    "\n",
    "- Utiliser les masques booléens.\n",
    "\n",
    "- Travailler avec l'option axis."
   ]
  },
  {
   "cell_type": "markdown",
   "id": "cfa0b68e",
   "metadata": {
    "slideshow": {
     "slide_type": "fragment"
    }
   },
   "source": [
    "**Enoncés**\n",
    "\n",
    "1. Créez le tableau [0, 1, 2, 3, 4, 5, 6, 7, 8, 9] : \n",
    "\n",
    "    - comptez le nombre d'éléments ayant une valeur plus grande que 6.\n",
    "\n",
    "    - calculez la somme des nombres qui sont supérieurs à 6.\n",
    "\n",
    "2. Avec np.random.randint(), créez un tableau 10x5 avec des entiers entre 0 et 10 (10 exclu).\n",
    "\n",
    "3. Comptez le nombre d'éléments plus grands que 5 pour chaque ligne.\n",
    "\n",
    "4. Pour chaque colonne, vérifiez s'il y a des valeurs plus grandes que 8 (le résultat est un tableau de taille 5 avec des True / False).\n",
    "\n",
    "5. Vérifiez que toutes les valeurs sont inférieures à 10 (le résultat est un seul booléen, True normalement !).\n",
    "\n",
    "6. Comptez le nombre d'éléments plus grands que 4 et plus petits que 6.\n",
    "\n",
    "7. Comptez le nombre d'éléments plus grands que 8 ou plus petits que 2.\n",
    "\n",
    "8. Extrayez les éléments plus grands que 3 et plus petits que 7.\n",
    "\n",
    "9. Conservez dans le tableau 2-D les éléments plus grands que 3 et plus petits que 7 et remplacez les autres valeurs par 0 (une solution peut être d'utiliser la fonction np.where()).\n",
    "\n",
    "10. Pour chaque ligne, calculez la somme des éléments plus grands que 3 et plus petits que 7."
   ]
  },
  {
   "cell_type": "markdown",
   "id": "20116896",
   "metadata": {
    "slideshow": {
     "slide_type": "slide"
    }
   },
   "source": [
    "![image alt <](Images/numpy.jpg)\n",
    "![image alt >](Images/numgrade.png)"
   ]
  },
  {
   "cell_type": "markdown",
   "id": "a0d6ba4a",
   "metadata": {
    "slideshow": {
     "slide_type": "-"
    }
   },
   "source": [
    "# Charger et sauvegarder les tableaux"
   ]
  },
  {
   "cell_type": "markdown",
   "id": "8042682c",
   "metadata": {
    "slideshow": {
     "slide_type": "-"
    }
   },
   "source": [
    "NumPy offre la possibilité de sauvegarder les tableaux NumPy sur le disque dur (pour un accès futur, pour transmettre à votre collègue...)."
   ]
  },
  {
   "cell_type": "code",
   "execution_count": null,
   "id": "02ec746d",
   "metadata": {
    "slideshow": {
     "slide_type": "-"
    }
   },
   "outputs": [],
   "source": [
    "arr = np.array([1, 2, 3])\n",
    "np.save('test', arr)"
   ]
  },
  {
   "cell_type": "markdown",
   "id": "38deacf4",
   "metadata": {
    "slideshow": {
     "slide_type": "fragment"
    }
   },
   "source": [
    "La commande précédente a sauvegardé un fichier \"test.npy\" dans le répertoire local. Vous pouvez ouvrir ce fichier avec la commande *np.load* :"
   ]
  },
  {
   "cell_type": "code",
   "execution_count": 121,
   "id": "11f2ff8a",
   "metadata": {
    "collapsed": true,
    "slideshow": {
     "slide_type": "fragment"
    }
   },
   "outputs": [],
   "source": [
    "array_from_disk = np.load('test.npy')"
   ]
  },
  {
   "cell_type": "code",
   "execution_count": 122,
   "id": "152f84bd",
   "metadata": {
    "slideshow": {
     "slide_type": "-"
    }
   },
   "outputs": [
    {
     "data": {
      "text/plain": [
       "array([1, 2, 3])"
      ]
     },
     "execution_count": 122,
     "metadata": {},
     "output_type": "execute_result"
    }
   ],
   "source": [
    "array_from_disk"
   ]
  },
  {
   "cell_type": "markdown",
   "id": "4ce59f49",
   "metadata": {
    "slideshow": {
     "slide_type": "subslide"
    }
   },
   "source": [
    "![image alt >](Images/numgrade.png)\n",
    "Avec NumPy, vous pouvez également lire les données d'un fichier texte (il faudra que chaque ligne possède le même nombres d'éléments). Imaginons que nous ayons un fichier texte contenant les coordonnées d'atomes, le contenu du fichier pourrait par exemple ressembler à ceci :\n",
    "\n",
    "% atom - x - y - z\n",
    "\n",
    "N      29.357 -35.310 100.674\n",
    "\n",
    "CA     28.535 -36.521 100.362\n",
    "\n",
    "..."
   ]
  },
  {
   "cell_type": "markdown",
   "id": "35d93a32",
   "metadata": {
    "slideshow": {
     "slide_type": "fragment"
    }
   },
   "source": [
    "Pour récupérer les coordonnées (les données numériques) dans un tableau NumPy, nous devrons pour cet exemple exclure la 1ère ligne et la 1ère colonne :"
   ]
  },
  {
   "cell_type": "code",
   "execution_count": 123,
   "id": "e452346f",
   "metadata": {
    "slideshow": {
     "slide_type": "-"
    }
   },
   "outputs": [
    {
     "data": {
      "text/plain": [
       "array([[  29.357,  -35.31 ,  100.674],\n",
       "       [  28.535,  -36.521,  100.362],\n",
       "       [  27.058,  -36.151,  100.225],\n",
       "       ..., \n",
       "       [   4.152,  -37.789,  110.628],\n",
       "       [   2.624,  -37.837,  110.523],\n",
       "       [   1.94 ,  -37.965,  111.844]])"
      ]
     },
     "execution_count": 123,
     "metadata": {},
     "output_type": "execute_result"
    }
   ],
   "source": [
    "coordinates = np.loadtxt('coordinates.txt', skiprows=1, usecols=(1, 2, 3))\n",
    "coordinates"
   ]
  },
  {
   "cell_type": "markdown",
   "id": "e5bdd2b3",
   "metadata": {
    "slideshow": {
     "slide_type": "-"
    }
   },
   "source": [
    "Les données sont chargées dans un tableau, vous pouvez maintenant commencer à exploiter les données en utilisant les opérations que l'on a vues jusqu'à maintenant !"
   ]
  },
  {
   "cell_type": "markdown",
   "id": "a8255ca3",
   "metadata": {},
   "source": [
    "<div class=\"alert alert-block alert-info\">\n",
    "    <b>NOTE</b>\n",
    "    \n",
    "Si vous avez besoin de plus de flexibilité pour le chargement de fichiers textes avec NumPy, en particulier la gestion des données manquantes, je vous invite à explorer la fonction [np.genfromtxt()](https://numpy.org/devdocs/user/basics.io.genfromtxt.html).\n",
    "    \n",
    "</div>"
   ]
  },
  {
   "cell_type": "markdown",
   "id": "0324b1f2",
   "metadata": {
    "slideshow": {
     "slide_type": "subslide"
    }
   },
   "source": [
    "![image alt >](Images/numgrade.png)\n",
    "\n",
    "### Exercices (difficulté : ⭐⭐)"
   ]
  },
  {
   "cell_type": "markdown",
   "id": "5f90accb",
   "metadata": {},
   "source": [
    "**Objectifs pédagogiques**\n",
    "\n",
    "- Charger des données à partir d'un fichier texte.\n",
    "\n",
    "- Réaliser des calculs à partir des données chargées.\n",
    "\n",
    "- Utiliser le broadcasting pour réaliser les calculs."
   ]
  },
  {
   "cell_type": "markdown",
   "id": "0ff16aab",
   "metadata": {},
   "source": [
    "**Enoncés**"
   ]
  },
  {
   "cell_type": "markdown",
   "id": "c293fb93",
   "metadata": {},
   "source": [
    "1. Chargez dans un tableau NumPy le fichier *coordinates.txt*.\n",
    "\n",
    "2. Calculez les distances entre le 1er atome (1ère ligne) et les autres atomes (lignes suivantes).\n",
    "\n",
    "3. Calculez les distances entre les atomes successifs (distance atome 1 - atome 2, distance atome 2 - atome 3...).\n",
    "\n",
    "$d_{12} = \\sqrt{(x_1-x_2)^2 + (y_1-y_2)^2 + (z_1-z_2)^2}$"
   ]
  },
  {
   "cell_type": "markdown",
   "id": "f217bcff",
   "metadata": {
    "slideshow": {
     "slide_type": "subslide"
    }
   },
   "source": [
    "![image alt >](Images/numgrade.png)\n",
    "Si vous avez besoin de collaborer avec votre collègue qui (malheureusement) n'utilise pas NumPy, vous pourrez sauvegarder et transmettre vos données dans un fichier texte :"
   ]
  },
  {
   "cell_type": "code",
   "execution_count": 124,
   "id": "1a403070",
   "metadata": {
    "collapsed": true,
    "slideshow": {
     "slide_type": "fragment"
    }
   },
   "outputs": [],
   "source": [
    "np.savetxt('new_coordinates.txt', coordinates, header=\"X Y Z\", fmt=\"%8.3f\")"
   ]
  },
  {
   "cell_type": "markdown",
   "id": "b12003a2",
   "metadata": {
    "slideshow": {
     "slide_type": "-"
    }
   },
   "source": [
    "Dans le répertoire courant, il y a maintenant un fichier \"new_coordinates.txt\" avec l'entête \"# X Y Z\" et les données dans le format \"8.3f\" (bloc de 8 caractères de long avec 3 chiffres significatifs après la virgule (decimal point))."
   ]
  },
  {
   "cell_type": "markdown",
   "id": "01fab250",
   "metadata": {
    "slideshow": {
     "slide_type": "slide"
    }
   },
   "source": [
    "![image alt >](Images/numgrade.png)\n",
    "\n",
    "![image alt <](Images/numpy.jpg)"
   ]
  },
  {
   "cell_type": "markdown",
   "id": "963874b5",
   "metadata": {},
   "source": [
    "# Conclusion \n",
    "\n",
    "    \n",
    " - NumPy permet de travailler avec des tableaux multidimensionnels,\n",
    " \n",
    " - NumPy intègre de nombreuses opérations (manipulation et calcul) et s'interface facilement avec d'autres librairies scientifiques de l'univers Python,\n",
    " \n",
    " - NumPy permet d'atteindre des performances proches de celles proposées par des langages compilés.\n",
    "\n",
    "\n",
    "Limitation : NumPy effectue les calculs avec des tableaux stockés en mémoire (RAM) en utilisant le CPU.\n",
    "\n",
    "Pour les données volumineuses ou pour profiter de la puissance de calcul des différentes avancées technologiques (multiprocessing, calcul distribué, GPU, TPU...), de nombreuses librairies émergent (Dask, CuPy, xarray...).\n",
    "\n",
    "Et pour ces librairies, NumPy propose un cadre (adopté par plusieurs de ces librairies) qui permet de s'interfacer facilement avec ces nouvelles librairies. \n",
    "\n",
    "![](Images/numpy_array_librairies.png)"
   ]
  },
  {
   "cell_type": "markdown",
   "id": "53431b1f",
   "metadata": {
    "slideshow": {
     "slide_type": "subslide"
    }
   },
   "source": [
    "![image alt >](Images/numgrade.png)\n",
    "\n",
    "Ainsi un code écrit avec NumPy pourra sans trop d'effort être modifié pour utiliser ces autres librairies :\n",
    "\n",
    "![figure3 Array programming with NumPy. Nature 585, 357–362 (2020)](Images/fig3_numpy_api_and_protocol.png)\n",
    "\n",
    "\n",
    "Article scientifique : Harris, C.R., Millman, K.J., van der Walt, S.J. et al. Array programming with NumPy. Nature 585, 357–362 (2020). https://doi.org/10.1038/s41586-020-2649-2"
   ]
  }
 ],
 "metadata": {
  "anaconda-cloud": {},
  "celltoolbar": "Slideshow",
  "kernelspec": {
   "display_name": "Python 3 (ipykernel)",
   "language": "python",
   "name": "python3"
  },
  "language_info": {
   "codemirror_mode": {
    "name": "ipython",
    "version": 3
   },
   "file_extension": ".py",
   "mimetype": "text/x-python",
   "name": "python",
   "nbconvert_exporter": "python",
   "pygments_lexer": "ipython3",
   "version": "3.11.12"
  },
  "livereveal": {
   "autolaunch": false,
   "scroll": true
  }
 },
 "nbformat": 4,
 "nbformat_minor": 5
}

{
 "cells": [
  {
   "cell_type": "markdown",
   "metadata": {
    "slideshow": {
     "slide_type": "slide"
    }
   },
   "source": [
    "# Plotly\n",
    "\n",
    "#### Librairie pour graphiques interactifs\n",
    "\n",
    "![image alt <](Images/numgrade-bigger.jpg)\n",
    "![image alt >](Images/Plotly-logo.png)"
   ]
  },
  {
   "cell_type": "markdown",
   "metadata": {
    "slideshow": {
     "slide_type": "slide"
    }
   },
   "source": [
    "![image alt >](Images/numgrade.png)\n",
    "\n",
    "## Introduction\n",
    "\n",
    "Plotly, c'est :\n",
    "\n",
    " - une librairie pour créer des graphiques et des cartes interactifs (+ de 40 types de graphiques),\n",
    " \n",
    " - une librairie développée pour plusieurs langages de programmation : Python, R, Julia, Javascript, matlab, etc.\n",
    " \n",
    " - open-source (licence MIT),\n",
    " \n",
    " - gratuit,\n",
    " \n",
    " - une librairie qui a été créé par l'entreprise plotly (possibilité de mettre en ligne les plots sur leurs serveurs),\n",
    " \n",
    " - une utilisation non connectée aux serveurs plotly,\n",
    " \n",
    " - la possibilté de mettre les plots dans des Dashboards avec Dash (qu'il faudra installer :  https://dash.plot.ly/installation). Dash est également gratuit et open-source."
   ]
  },
  {
   "cell_type": "markdown",
   "metadata": {},
   "source": [
    "\"plotly.py\" s'appuie sur \"plotly.js\" pour permettre la création de plots web interactifs.\n",
    "\n",
    "Pour profiter de l'interactivité, on pourra ouvrir les plots dans les Jupyter notebooks. Il y a également la possibilité de sauvegarder les plots dans des fichiers HTML, ou de construire des applications web / dashboard avec Dash.\n",
    "\n",
    "Pour les applications \"non-web\" (Spyder, PyCharm...), plotly propose une integration via la bibliothèque [Kaleido](https://medium.com/plotly/introducing-kaleido-b03c4b7b1d81). Il permet également l'export d'images statiques (png, jpeg, svg, pdf - https://plotly.com/python/static-image-export/) ou interactives (html - https://plotly.com/python/interactive-html-export/) "
   ]
  },
  {
   "cell_type": "markdown",
   "metadata": {},
   "source": [
    "Il existe un forum pour la communauté plotly : https://community.plotly.com/"
   ]
  },
  {
   "cell_type": "markdown",
   "metadata": {
    "slideshow": {
     "slide_type": "slide"
    }
   },
   "source": [
    "![image alt >](Images/numgrade.png)\n",
    "\n",
    "## Installation\n",
    "\n",
    "Plotly ne fait pas partie de la bibliothèque standard, il est donc nécessaire de l'installer avec par exemple conda ou pip."
   ]
  },
  {
   "cell_type": "markdown",
   "metadata": {},
   "source": [
    "$ conda install -c conda-forge plotly"
   ]
  },
  {
   "cell_type": "markdown",
   "metadata": {},
   "source": [
    "$ pip install plotly"
   ]
  },
  {
   "cell_type": "markdown",
   "metadata": {},
   "source": [
    "Après l'installation, vous n'avez plus qu'à l'importer dans vos scripts :"
   ]
  },
  {
   "cell_type": "code",
   "execution_count": null,
   "metadata": {},
   "outputs": [],
   "source": [
    "import plotly"
   ]
  },
  {
   "cell_type": "code",
   "execution_count": null,
   "metadata": {},
   "outputs": [],
   "source": [
    "plotly.__version__"
   ]
  },
  {
   "cell_type": "markdown",
   "metadata": {
    "slideshow": {
     "slide_type": "slide"
    }
   },
   "source": [
    "![image alt >](Images/numgrade.png)\n",
    "\n",
    "## Export d'image statique \n",
    "\n",
    "plotly supporte l'exportation d'images statiques, en utilisant  :\n",
    "\n",
    "- le paquetage kaleido (recommandé, supporté à partir de la version 4.9 de plotly), \n",
    "\n",
    "- l'utilitaire de ligne de commande orca (cette méthode n'est plus recommandée)."
   ]
  },
  {
   "cell_type": "markdown",
   "metadata": {
    "slideshow": {
     "slide_type": "fragment"
    }
   },
   "source": [
    "### Kaleido\n",
    "\n",
    "Kaleido est maintenant l'approche d'exportation d'images recommandée parce qu'elle est plus facile à installer et plus largement compatible.\n",
    "\n",
    "Le paquet kaleido n'a aucune dépendance et peut être installé à l'aide de conda ou pip :\n",
    "\n",
    "$ conda install -c conda-forge python-kaleido \n",
    "\n",
    "$ pip install -U kaleido \n",
    "\n",
    "https://github.com/plotly/Kaleido\n",
    "\n",
    "\n",
    "Pour les utilisateurs de windows, si l'installation précédente ne fonctionne pas, essayez :\n",
    "\n",
    "$ conda install -c conda-forge python-kaleido==0.1.0\n",
    "\n",
    "$ pip install kaleido==0.1.*\n",
    "\n",
    "\n",
    "Une fois l'installation réalisée vous pouvez tracer votre figure puis l'enregistrer avec par exemple la commande suivante :\n",
    "\n",
    "fig.write_image(\"data/fig1.png\")\n",
    "\n",
    "Vous pouvez enregistrer votre figure dans de nombreux formats : png, jpeg, webp, svg, pdf, eps.\n",
    "\n",
    "\n",
    "Nous ferons la démonstration dès que nous aurons créé notre première figure."
   ]
  },
  {
   "cell_type": "markdown",
   "metadata": {
    "slideshow": {
     "slide_type": "slide"
    }
   },
   "source": [
    "![image alt >](Images/numgrade.png)\n",
    "\n",
    "## Les sous modules de plotly\n",
    "\n",
    "plotly est constitué de plusieurs sous modules :\n",
    "\n",
    "- [plotly.express](https://plotly.com/python-api-reference/plotly.express.html#px) : interface de haut niveau pour la visualisation de données\n",
    "\n",
    "- [plotly.graph_objects](https://plotly.com/python-api-reference/plotly.graph_objects.html#graph-objects) : interface de bas niveau pour les figures, les tracés et la mise en page\n",
    "\n",
    "- [plotly.subplots](https://plotly.com/python-api-reference/plotly.subplots.html#subplots) : fonction d'aide pour la mise en page de figures multiplots\n",
    "\n",
    "- [plotly.figure_factory](https://plotly.com/python-api-reference/plotly.figure_factory.html#ff): méthodes d'aide pour la construction de graphiques complexes spécifiques\n",
    "\n",
    "- [plotly.io](https://plotly.com/python-api-reference/plotly.io.html#io) : interface de bas niveau pour l'affichage, la lecture et l'écriture de figures\n",
    "\n",
    "- [plotly.colors](https://plotly.com/python-api-reference/generated/plotly.colors.html#module-plotly.colors) : échelles de couleurs et fonctions utilitaires\n",
    "\n",
    "- [plotly.data](https://plotly.com/python-api-reference/generated/plotly.data.html#module-plotly.data) : ensembles de données intégrés à des fins de démonstration, d'éducation et de test\n",
    "\n",
    "Liste des fonctions : https://plotly.com/python-api-reference/"
   ]
  },
  {
   "cell_type": "markdown",
   "metadata": {
    "slideshow": {
     "slide_type": "slide"
    }
   },
   "source": [
    "![image alt >](Images/numgrade.png)\n",
    "\n",
    "## Plotly Express"
   ]
  },
  {
   "cell_type": "markdown",
   "metadata": {},
   "source": [
    "Depuis la version 4 (07/2019), Plotly Express a été introduit : une API haut niveau pour créer des figures de manière simple et rapide avec un nombre de lignes de code très réduit (par rapport au mode \"normal\"). C'est cette API que nous présentons ici.\n",
    "\n",
    "Plotly Express donne accès à une [trentaine de fonctions](https://plotly.com/python-api-reference/plotly.express.html) pour créer différents types de figures."
   ]
  },
  {
   "cell_type": "markdown",
   "metadata": {},
   "source": [
    "L'import standard de Plotly Express :"
   ]
  },
  {
   "cell_type": "code",
   "execution_count": null,
   "metadata": {},
   "outputs": [],
   "source": [
    "import plotly.express as px"
   ]
  },
  {
   "cell_type": "markdown",
   "metadata": {},
   "source": [
    "Liste des fonctions disponibles :"
   ]
  },
  {
   "cell_type": "code",
   "execution_count": null,
   "metadata": {},
   "outputs": [],
   "source": [
    "print([plot_method for plot_method in dir(px) if not plot_method.startswith('__')])"
   ]
  },
  {
   "cell_type": "markdown",
   "metadata": {},
   "source": [
    "Plotly Express possède deux sous-modules intéressants :\n",
    "\n",
    "- plotly.express.colors : pour les couleurs,\n",
    "\n",
    "- plotly.express.data : ensembles de données intégrées à des fins de démonstration, d'éducation et de test. Cela donne accès à de nombreux jeux de données pour réaliser des graphiques. "
   ]
  },
  {
   "cell_type": "code",
   "execution_count": null,
   "metadata": {},
   "outputs": [],
   "source": [
    "dir(plotly.express.data)"
   ]
  },
  {
   "cell_type": "markdown",
   "metadata": {
    "slideshow": {
     "slide_type": "subslide"
    }
   },
   "source": [
    "![image alt >](Images/numgrade.png)\n",
    "\n",
    "### Line plot"
   ]
  },
  {
   "cell_type": "markdown",
   "metadata": {},
   "source": [
    "Récupérons des données proposées par plotly :"
   ]
  },
  {
   "cell_type": "code",
   "execution_count": null,
   "metadata": {
    "scrolled": true
   },
   "outputs": [],
   "source": [
    "df = px.data.gapminder()\n",
    "df.head()"
   ]
  },
  {
   "cell_type": "markdown",
   "metadata": {},
   "source": [
    "Ces données sont sous la forme de DataFrames pandas."
   ]
  },
  {
   "cell_type": "code",
   "execution_count": null,
   "metadata": {},
   "outputs": [],
   "source": [
    "type(df)"
   ]
  },
  {
   "cell_type": "markdown",
   "metadata": {},
   "source": [
    "Nous pouvons donc appliquer les opérations vues avec pandas."
   ]
  },
  {
   "cell_type": "code",
   "execution_count": null,
   "metadata": {},
   "outputs": [],
   "source": [
    "df_france = df[df['country'] == 'France']\n",
    "print(df_france.shape)\n",
    "df_france.head(2)"
   ]
  },
  {
   "cell_type": "markdown",
   "metadata": {
    "slideshow": {
     "slide_type": "subslide"
    }
   },
   "source": [
    "![image alt >](Images/numgrade.png)\n",
    "\n",
    "Pour tracer un graphique linéaire on utilisera la fonction line qui prend comme paramètre le DataFrame, les noms de colonnes pour les paramètres x et y."
   ]
  },
  {
   "cell_type": "code",
   "execution_count": null,
   "metadata": {
    "slideshow": {
     "slide_type": "-"
    }
   },
   "outputs": [],
   "source": [
    "fig = px.line(df_france, x='year', y='pop', title='Population in France')\n",
    "fig.show() # pour afficher la figure"
   ]
  },
  {
   "cell_type": "markdown",
   "metadata": {},
   "source": [
    "Et nativement, nous avons la possibilité de passer la souris au dessus de la courbe et les données seront indiquées."
   ]
  },
  {
   "cell_type": "markdown",
   "metadata": {
    "slideshow": {
     "slide_type": "subslide"
    }
   },
   "source": [
    "![image alt >](Images/numgrade.png)\n",
    "\n",
    "Pour sauvegarder notre figure (si Kaleido est bien installé), il suffit d'appeler la méthode save à partir de l'objet figure et de passer le nom de fichier avec l'extension souhaitée : "
   ]
  },
  {
   "cell_type": "code",
   "execution_count": null,
   "metadata": {},
   "outputs": [],
   "source": [
    "fig.write_image(\"data/fig3.pdf\")"
   ]
  },
  {
   "cell_type": "markdown",
   "metadata": {},
   "source": [
    "Pour sauvegarder une image interactive, vous pouvez faire :"
   ]
  },
  {
   "cell_type": "code",
   "execution_count": null,
   "metadata": {},
   "outputs": [],
   "source": [
    "fig.write_html(\"data/fig3.html\")"
   ]
  },
  {
   "cell_type": "markdown",
   "metadata": {},
   "source": [
    "px.line a de nombreux paramètres optionnels, vous pouvez par exemple :\n",
    "\n",
    "- définir la taille de votre figure en pixel avec les paramètres width et height,\n",
    "\n",
    "- ajouter les marqueurs de points en passant marker=True,\n",
    "\n",
    "- modifier le nom des axes avec le paramètre labels. Il prend comme valeur un dictionnaire avec comme clé le nom de la colonne et comme valeur le nom à afficher.\n",
    "\n",
    "Nous verrons des exemples plus loin."
   ]
  },
  {
   "cell_type": "markdown",
   "metadata": {
    "slideshow": {
     "slide_type": "subslide"
    }
   },
   "source": [
    "![image alt >](Images/numgrade.png)\n",
    "\n",
    "#### Tracer plusieurs courbes avec le paramètre color"
   ]
  },
  {
   "cell_type": "code",
   "execution_count": null,
   "metadata": {
    "slideshow": {
     "slide_type": "fragment"
    }
   },
   "outputs": [],
   "source": [
    "df_couple = df[(df['country'] == 'France') | (df['country'] == 'Germany')]\n",
    "#df_couple = px.data.gapminder().query(\"country in ['France', 'Germany']\")\n",
    "df_couple['country'].value_counts()"
   ]
  },
  {
   "cell_type": "code",
   "execution_count": null,
   "metadata": {},
   "outputs": [],
   "source": [
    "fig = px.line(\n",
    "    df_couple, \n",
    "    x='year', \n",
    "    y='pop', \n",
    "    color='country', \n",
    "    title='Population in France and Germany', \n",
    "    labels={'pop':'population'},  # rename the label pop with population (hover data)\n",
    ")\n",
    "fig.show()"
   ]
  },
  {
   "cell_type": "markdown",
   "metadata": {},
   "source": [
    "\n",
    "D'autres paramètres possibles :\n",
    "\n",
    "- line_group : permet aussi d'avoir 2 courbes mais d'une même couleur,\n",
    "\n",
    "- line_dash : comme color mais c'est le style du tracé qui change et non la couleur,\n",
    "\n",
    "- symbol : ce sont les marqueurs de lignes qui diffèrent."
   ]
  },
  {
   "cell_type": "markdown",
   "metadata": {
    "slideshow": {
     "slide_type": "subslide"
    }
   },
   "source": [
    "![image alt >](Images/numgrade.png)\n",
    "\n",
    "#### Modifications des couleurs et symboles par défaut\n",
    "\n",
    "Vous pouvez modifier les couleurs, styles de tracés et les symboles avec les paramètres : \n",
    "- color_discrete_sequence : vous passez une liste de couleurs dans l'ordre souhaité\n",
    "\n",
    "- color_discrete_map : permet de spécifier une couleur selon une valeur. Vous passez un dictionnaire avec comme clé la valeur dans une colonne (du DataFrame) et comme valeur la couleur voulue.\n",
    "\n",
    "- line_dash_sequence : une liste contenant une des valeurs suivantes : 'solid', 'dot', 'dash', 'longdash', 'dashdot', 'longdashdot'.\n",
    "\n",
    "- line_dash_map : fonctionne avec le paramètre *line_dash* pour lequel on spécifie une colonne et on donnera au paramètre line_dash_map un dictionnaire dans lequel on donnera en clés des valeurs de la colonne spécifiée pour line_dash. On associera à chaque clé une des valeurs suivantes : 'solid', 'dot', 'dash', 'longdash', 'dashdot', 'longdashdot'.\n",
    "\n",
    "- symbol_sequence / symbol et symbol_map : même principe que line_dash_sequence et line_dash_map. Le choix des symboles est très important :  [0, '0', 'circle', 100, '100', 'circle-open', 200, '200', 'circle-dot', 300, '300', 'circle-open-dot', 1, '1', 'square', 101, '101', 'square-open', 201, '201', 'square-dot', 301, '301', 'square-open-dot', 2, '2', ...]"
   ]
  },
  {
   "cell_type": "markdown",
   "metadata": {},
   "source": [
    "Note : vous pouvez retrouver la liste complète des symboles en exécutant le code suivant :"
   ]
  },
  {
   "cell_type": "code",
   "execution_count": null,
   "metadata": {},
   "outputs": [],
   "source": [
    "from plotly.validators.scatter.marker import SymbolValidator\n",
    "\n",
    "\n",
    "raw_symbols = SymbolValidator().values\n",
    "print(raw_symbols)"
   ]
  },
  {
   "cell_type": "markdown",
   "metadata": {},
   "source": [
    "Un exemple avec le paramètre color_discrete_sequence :"
   ]
  },
  {
   "cell_type": "code",
   "execution_count": null,
   "metadata": {},
   "outputs": [],
   "source": [
    "fig = px.line(\n",
    "    df_couple, \n",
    "    x='year',\n",
    "    y='pop', \n",
    "    color='country', \n",
    "    title='Population in France and Germany',\n",
    "    color_discrete_sequence=['orange', 'purple'],\n",
    ")\n",
    "fig.show()"
   ]
  },
  {
   "cell_type": "markdown",
   "metadata": {},
   "source": [
    "Un exemple avec les paramètres line_dash et line_dash_map :"
   ]
  },
  {
   "cell_type": "code",
   "execution_count": null,
   "metadata": {},
   "outputs": [],
   "source": [
    "fig = px.line(\n",
    "    df_couple, \n",
    "    x='year',\n",
    "    y='pop', \n",
    "    color='country', \n",
    "    title='Population in France and Germany',\n",
    "    line_dash='country',\n",
    "    line_dash_map={'Germany': 'dash', 'France': 'dot'},\n",
    ")\n",
    "fig.show()"
   ]
  },
  {
   "cell_type": "markdown",
   "metadata": {
    "slideshow": {
     "slide_type": "subslide"
    }
   },
   "source": [
    "![image alt >](Images/numgrade.png)\n",
    "\n",
    "#### Modification de l'ordre dans la légende\n",
    "category_orders : ce paramètre permet de modifier l'ordre d'apparition des noms dans la légende. \n",
    "\n",
    "Il prend comme valeur un dictionnaire avec pour clé le nom de la colonne et comme valeur la liste des valeurs de la colonne dans l'odre souhaité"
   ]
  },
  {
   "cell_type": "code",
   "execution_count": null,
   "metadata": {},
   "outputs": [],
   "source": [
    "df_bis = df.copy()\n",
    "df_couple = df_bis[(df_bis['country'] == 'France') | (df_bis['country'] == 'Germany')]\n",
    "fig = px.line(\n",
    "    df_couple, \n",
    "    x='year', \n",
    "    y='pop', \n",
    "    color='country',\n",
    "    title='Population in France and Germany',\n",
    "    category_orders={'country': ['Germany', 'France']},\n",
    ")\n",
    "fig.show()"
   ]
  },
  {
   "cell_type": "markdown",
   "metadata": {
    "slideshow": {
     "slide_type": "subslide"
    }
   },
   "source": [
    "![image alt >](Images/numgrade.png)\n",
    "\n",
    "#### Ajout d'informations à \"hover\"\n",
    "\n",
    "Paramètres :\n",
    "- hover_data : liste avec les noms de colonne dont on veut afficher la valeur.\n",
    "- hover_name : pour mettre en gras tout en haut de la fenêtre hover la valeur d'une colonne\n"
   ]
  },
  {
   "cell_type": "code",
   "execution_count": null,
   "metadata": {},
   "outputs": [],
   "source": [
    "fig = px.line(\n",
    "    df_couple, \n",
    "    x='year', \n",
    "    y='pop', \n",
    "    color='country', \n",
    "    title='Population in France and Germany',\n",
    "    hover_data=['continent'],  # adding information for hover, \n",
    "    hover_name='year',\n",
    ")  \n",
    "fig.show()"
   ]
  },
  {
   "cell_type": "markdown",
   "metadata": {
    "slideshow": {
     "slide_type": "subslide"
    }
   },
   "source": [
    "![image alt >](Images/numgrade.png)\n",
    "\n",
    "#### Ajout d'informations sur les courbes\n",
    "\n",
    "Paramètre text : prend le nom d'une colonne"
   ]
  },
  {
   "cell_type": "code",
   "execution_count": null,
   "metadata": {},
   "outputs": [],
   "source": [
    "fig = px.line(\n",
    "    df_couple, \n",
    "    x='year', \n",
    "    y='pop', \n",
    "    color='country', \n",
    "    title='Population in France and Germany',\n",
    "    hover_data=['continent'],  # adding information for hover, \n",
    "    text=\"lifeExp\"\n",
    ")  \n",
    "fig.show()"
   ]
  },
  {
   "cell_type": "markdown",
   "metadata": {
    "slideshow": {
     "slide_type": "slide"
    }
   },
   "source": [
    "![image alt >](Images/numgrade.png)\n",
    "\n",
    "### Plusieurs plots"
   ]
  },
  {
   "cell_type": "markdown",
   "metadata": {},
   "source": [
    "facet_row : permet de créer des plots sur plusieurs lignes\n",
    "\n",
    "facet_col : permet de créer des plots sur plusieurs colonnes\n",
    "\n",
    "Les tracés seront regroupés dans chaque sous-graphique en fonction des données de la colonne passées à facet_row / facet_col\n",
    "    \n",
    "facet_row_spacing : espace entre les lignes entre 0 et 1 (0.03 par défaut)\n",
    "\n",
    "facet_col_spacing : espace entre les colonnes entre 0 et 1 (0.02 par défaut)"
   ]
  },
  {
   "cell_type": "code",
   "execution_count": null,
   "metadata": {},
   "outputs": [],
   "source": [
    "df_couple = df[\n",
    "    (df['country'] == 'France') \n",
    "    | (df['country'] == 'Germany') \n",
    "    | (df['country'] == 'Australia')\n",
    "]\n",
    "fig = px.line(\n",
    "    df_couple, \n",
    "    x='year', \n",
    "    y='pop', \n",
    "    color='country',\n",
    "    title='Population in Australia, France and Germany',\n",
    "    facet_row='continent'\n",
    ")\n",
    "fig.show()"
   ]
  },
  {
   "cell_type": "code",
   "execution_count": null,
   "metadata": {},
   "outputs": [],
   "source": [
    "fig = px.line(\n",
    "    df_couple, \n",
    "    x='year', \n",
    "    y='pop', \n",
    "    color='country',\n",
    "    title='Population in Australia, France and Germany',\n",
    "    facet_col='continent'\n",
    ")\n",
    "fig.show()"
   ]
  },
  {
   "cell_type": "markdown",
   "metadata": {},
   "source": [
    "NOTE :\n",
    "    \n",
    "Vous pouvez utilisez à la fois les options facet_col et facet_row pour créer un grille de graphiques sur plusieurs colonnes et plusieurs lignes."
   ]
  },
  {
   "cell_type": "markdown",
   "metadata": {
    "slideshow": {
     "slide_type": "slide"
    }
   },
   "source": [
    "![image alt >](Images/numgrade.png)\n",
    "\n",
    "### Ajouter des barres d'erreurs \n",
    "\n",
    "error_x : barre d'erreur le long de l'axe x, nom d'une colonne \n",
    "\n",
    "error_y : barre d'erreur le long de l'axe x, nom d'une colonne "
   ]
  },
  {
   "cell_type": "code",
   "execution_count": null,
   "metadata": {},
   "outputs": [],
   "source": [
    "import numpy as  np\n",
    "\n",
    "df_bis = df.copy()\n",
    "#ajout d'une colonne avec les erreurs\n",
    "df_bis['error_pop'] = np.random.randint(1_000_000, 4_000_000, size=len(df_bis))\n",
    "df_bis.head()"
   ]
  },
  {
   "cell_type": "code",
   "execution_count": null,
   "metadata": {},
   "outputs": [],
   "source": [
    "df_couple = df_bis[(df_bis['country'] == 'France') | (df_bis['country'] == 'Australia')]\n",
    "fig = px.line(\n",
    "    df_couple, \n",
    "    x='year', \n",
    "    y='pop', \n",
    "    color='country',\n",
    "    title='Population in Australia and France',\n",
    "    facet_row='continent', \n",
    "    error_y='error_pop'\n",
    ")\n",
    "fig.show()"
   ]
  },
  {
   "cell_type": "markdown",
   "metadata": {
    "slideshow": {
     "slide_type": "subslide"
    }
   },
   "source": [
    "![image alt >](Images/numgrade.png)\n",
    "\n",
    "Vous pouvez tracer les barres d'erreur dans l'autre direction avec le paramètre error_x :"
   ]
  },
  {
   "cell_type": "code",
   "execution_count": null,
   "metadata": {},
   "outputs": [],
   "source": [
    "df_couple = df_bis[(df_bis['country'] == 'France') | (df_bis['country'] == 'Australia')]\n",
    "fig = px.line(\n",
    "    df_couple, \n",
    "    x='pop', \n",
    "    y='year', \n",
    "    color='country',\n",
    "    title='Population in Australia and France',\n",
    "    facet_row='continent', \n",
    "    error_x='error_pop'\n",
    ")\n",
    "fig.show()"
   ]
  },
  {
   "cell_type": "markdown",
   "metadata": {},
   "source": [
    "Remarque :\n",
    "\n",
    "Si vos valeurs d'erreurs ne sont pas symétriques, vous pouvez stocker les valeurs positives et négatives dans deux  colonnes différentes et utiliser les paramètres : error_x_minus / error_y_minus pour les valeurs négatives et error_x / error_y pour les valeurs positives."
   ]
  },
  {
   "cell_type": "markdown",
   "metadata": {
    "slideshow": {
     "slide_type": "slide"
    }
   },
   "source": [
    "![image alt >](Images/numgrade.png)\n",
    "\n",
    "### Modifier le style de la figure avec template"
   ]
  },
  {
   "cell_type": "code",
   "execution_count": null,
   "metadata": {},
   "outputs": [],
   "source": [
    "df_couple = df_bis[(df_bis['country'] == 'France') | (df_bis['country'] == 'Australia')]\n",
    "fig = px.line(\n",
    "    df_couple, \n",
    "    x='pop', \n",
    "    y='year', \n",
    "    color='country',\n",
    "    title='Population in Australia and France',\n",
    "    facet_row='continent', \n",
    "    error_x='error_pop', \n",
    "    template=\"plotly_dark\"\n",
    ")\n",
    "fig.show()"
   ]
  },
  {
   "cell_type": "markdown",
   "metadata": {},
   "source": [
    "Vous pouvez trouver les différents styles possibles dans plotly.io :"
   ]
  },
  {
   "cell_type": "code",
   "execution_count": null,
   "metadata": {},
   "outputs": [],
   "source": [
    "import plotly.io as pio\n",
    "\n",
    "\n",
    "pio.templates"
   ]
  },
  {
   "cell_type": "markdown",
   "metadata": {},
   "source": [
    "Notez que vous pouvez définir un style par défaut pour vos futurs tracés via l'attribut pio.templates.default :"
   ]
  },
  {
   "cell_type": "code",
   "execution_count": null,
   "metadata": {},
   "outputs": [],
   "source": [
    "pio.templates.default = \"plotly_white\"\n",
    "\n",
    "df_couple = df_bis[(df_bis['country'] == 'France') | (df_bis['country'] == 'Australia')]\n",
    "fig = px.line(\n",
    "    df_couple, \n",
    "    x='pop', \n",
    "    y='year', \n",
    "    color='country',\n",
    "    title='Population in Australia and France',\n",
    "    facet_row='continent', \n",
    "    error_x='error_pop'\n",
    ")\n",
    "fig.show()"
   ]
  },
  {
   "cell_type": "markdown",
   "metadata": {
    "slideshow": {
     "slide_type": "slide"
    }
   },
   "source": [
    "![image alt >](Images/numgrade.png)\n",
    "\n",
    "### Graphique linéaire 3D\n",
    "\n",
    "Vous avez également la possibilité de tracer des graphiques linéaires en 3D avec la fonction line_3D."
   ]
  },
  {
   "cell_type": "code",
   "execution_count": null,
   "metadata": {},
   "outputs": [],
   "source": [
    "pio.templates.default = \"plotly\"\n",
    "\n",
    "df = px.data.gapminder().query(\"continent == 'Europe' and country.str.startswith('S')\")\n",
    "fig = px.line_3d(df, x=\"gdpPercap\", y=\"pop\", z=\"year\", color='country')\n",
    "fig.show()"
   ]
  },
  {
   "cell_type": "markdown",
   "metadata": {
    "slideshow": {
     "slide_type": "slide"
    }
   },
   "source": [
    "![image alt >](Images/numgrade.png)\n",
    "\n",
    "### Graphique en aires\n",
    "\n",
    "Pour que l'aire sous la courbe soit visible vous pouvez remplacer px.line() par px.area().\n",
    "\n",
    "Dans le cas où il y a plusieurs tracés sur un même graphique, les aires se superposent (augmentation des valeurs en y). Cela peut permettre par exemple de voir la somme de deux populations."
   ]
  },
  {
   "cell_type": "markdown",
   "metadata": {},
   "source": [
    "Comparer la version avec les lignes et avec les aires (les échelles sont différentes) :"
   ]
  },
  {
   "cell_type": "code",
   "execution_count": null,
   "metadata": {},
   "outputs": [],
   "source": [
    "df = px.data.gapminder()\n",
    "df_couple = df[\n",
    "    (df['country'] == 'France') \n",
    "    | (df['country'] == 'Germany') \n",
    "    | (df['country'] == 'Australia')\n",
    "]\n",
    "fig = px.line(\n",
    "    df_couple, \n",
    "    x='year', \n",
    "    y='pop', \n",
    "    color='country',\n",
    "    title='Population in Australia, France and Germany',\n",
    "    facet_row='continent'\n",
    ")\n",
    "fig.show()"
   ]
  },
  {
   "cell_type": "code",
   "execution_count": null,
   "metadata": {},
   "outputs": [],
   "source": [
    "df = px.data.gapminder()\n",
    "df_couple = df[\n",
    "    (df['country'] == 'France') \n",
    "    | (df['country'] == 'Germany') \n",
    "    | (df['country'] == 'Australia')\n",
    "]\n",
    "fig = px.area(\n",
    "    df_couple, \n",
    "    x='year', \n",
    "    y='pop', \n",
    "    color='country',\n",
    "    title='Population in Australia, France and Germany',\n",
    "    facet_row='continent'\n",
    ")\n",
    "fig.show()"
   ]
  },
  {
   "cell_type": "markdown",
   "metadata": {
    "slideshow": {
     "slide_type": "subslide"
    }
   },
   "source": [
    "![image alt >](Images/numgrade.png)\n",
    "\n",
    "Le paramètre pattern_shape permet d'ajouter un motif, et vous pouvez ajouter des marqueurs selon une colonne avec le paramètre symbol."
   ]
  },
  {
   "cell_type": "code",
   "execution_count": null,
   "metadata": {},
   "outputs": [],
   "source": [
    "fig = px.area(\n",
    "    df_couple, \n",
    "    x='year', \n",
    "    y='pop', \n",
    "    color='country',\n",
    "    title='Population in Australia, France and Germany',\n",
    "    facet_row='continent', \n",
    "    pattern_shape='country',\n",
    "    symbol='continent'\n",
    ")\n",
    "fig.show()"
   ]
  },
  {
   "cell_type": "markdown",
   "metadata": {
    "slideshow": {
     "slide_type": "subslide"
    }
   },
   "source": [
    "![image alt >](Images/numgrade.png)\n",
    "#### Exercices\n",
    "\n",
    "**Objectifs pédagogiques**\n",
    "\n",
    "- Sélectionner et trier des données\n",
    "- Tracer des graphiques linéaires avec plotly\n",
    "- Utiliser des options pour améliorer le rendu\n",
    "\n",
    "##### Exercice 1 (difficulté : ⭐)\n",
    "\n",
    "1. A partir des données experiment (px.data.experiment()), tracer l'expérience 1 en fonction de l'index en séparant les courbes de contrôles des autres et en séparant dans 2 sous-graphiques séparés les espèces mâles et les espèces femelles. \n",
    "2. Ajouter un titre, des noms pour les axes x et y.\n",
    "3. Modifier le titre de la légende en remplaçant groupe par genre. \n",
    "4. Définir manuellement les couleurs. \n",
    "\n",
    "##### Exercice 2  (difficulté : ⭐⭐)\n",
    "                \n",
    "1. A partir du jeu de px.data.tips(), classer par ordre croissant le dataframe en fonction des additions. \n",
    "2. Tracer les pourboires en fonction de l'addition pour les samedis et les dimanches selon que la personne soit fumeuse ou non. Les courbes doivent se différencier par leur style, leur couleur et leur marqueur. \n",
    "3. Définir manuellement les marqueurs et le style du tracé. "
   ]
  },
  {
   "cell_type": "markdown",
   "metadata": {
    "slideshow": {
     "slide_type": "slide"
    }
   },
   "source": [
    "![image alt >](Images/numgrade.png)\n",
    "\n",
    "### Scatter plot"
   ]
  },
  {
   "cell_type": "markdown",
   "metadata": {},
   "source": [
    "Vous pouvez tracer des graphiques composés de nuages de point avec la fonction :\n",
    "\n",
    "- scatter pour des plot en 2D\n",
    "\n",
    "- scatter_3d pour des plots en 3D\n",
    "\n",
    "Beaucoup des paramètres optionnels vus précédemment fonctionnent.\n",
    "\n",
    "En plus de ces paramètres, le paramètre size permet que la taille des points dépendent de la valeur d'une colonne.\n",
    "\n",
    "size_max est le paramètre qui vous permet de définir la taille maximale. Par défaut, il vaut 20."
   ]
  },
  {
   "cell_type": "code",
   "execution_count": null,
   "metadata": {},
   "outputs": [],
   "source": [
    "df = px.data.iris()\n",
    "print(df.columns)\n",
    "\n",
    "figure = px.scatter_3d(\n",
    "    df, \n",
    "    x='sepal_length', \n",
    "    y='sepal_width', \n",
    "    z='petal_length',\n",
    "    color='species', \n",
    "    size='petal_width', \n",
    "    size_max=30 # by default size_max=20\n",
    ") \n",
    "figure.show()"
   ]
  },
  {
   "cell_type": "markdown",
   "metadata": {
    "slideshow": {
     "slide_type": "subslide"
    }
   },
   "source": [
    "![image alt >](Images/numgrade.png)\n",
    "\n",
    "Un autre paramètre utile est le paramètre opacity qui permet de gérer la transparence (entre 0 : transparent et 1 : opaque)"
   ]
  },
  {
   "cell_type": "code",
   "execution_count": null,
   "metadata": {},
   "outputs": [],
   "source": [
    "df = px.data.iris()\n",
    "print(df.columns)\n",
    "figure = px.scatter(\n",
    "    df, \n",
    "    x='sepal_length', \n",
    "    y='sepal_width',\n",
    "    color='petal_width', \n",
    "    symbol='species', \n",
    "    size='petal_length',\n",
    "    size_max = 10, \n",
    "    opacity=0.7, \n",
    "    symbol_sequence=['circle', 'square', 'x'] \n",
    ")\n",
    "figure.show()"
   ]
  },
  {
   "cell_type": "markdown",
   "metadata": {},
   "source": [
    "Lorsque color fait appel à une échelle continue de couleurs vous pouvez modifier l'échelle de couleur avec le paramètre color_continuous_scale.\n",
    "\n",
    "Pour afficher la liste des colorbar possible :\n",
    "- print(dir(px.colors.sequential))\n",
    "- print(dir(px.colors.diverging))\n",
    "- print(dir(px.colors.cyclical))\n",
    "\n",
    "Astuce : si vous ajouter \\_r à la fin du nom de la séquence de couleur choisie, elle sera dans l'ordre inverse. "
   ]
  },
  {
   "cell_type": "code",
   "execution_count": null,
   "metadata": {},
   "outputs": [],
   "source": [
    "print(dir(px.colors.sequential))\n",
    "print(dir(px.colors.diverging))\n",
    "print(dir(px.colors.cyclical))"
   ]
  },
  {
   "cell_type": "code",
   "execution_count": null,
   "metadata": {},
   "outputs": [],
   "source": [
    "df = px.data.iris()\n",
    "print(df.columns)\n",
    "figure = px.scatter(\n",
    "    df, \n",
    "    x='sepal_length', \n",
    "    y='sepal_width',\n",
    "    color='petal_width', \n",
    "    symbol='species', \n",
    "    size='petal_length',\n",
    "    size_max = 10, \n",
    "    opacity=0.7, \n",
    "    symbol_sequence=['circle', 'square', 'x'], \n",
    "    color_continuous_scale='Aggrnyl'\n",
    ")\n",
    "figure.show()\n",
    "#probleme de légende"
   ]
  },
  {
   "cell_type": "markdown",
   "metadata": {},
   "source": [
    "On note sur les deux figures précédentes un problème de légende. La légende liée aux symboles et celle liée aux couleurs se superposent.\n",
    "\n",
    "Pour régler ce problème, il faut mettre à jour la mise en page. Vous avez de nombreuses options disponibles que vous pouvez trouver sur ces pages :\n",
    "\n",
    "https://plotly.com/python/reference/layout/\n",
    "\n",
    "https://plotly.com/python/reference/layout/coloraxis/"
   ]
  },
  {
   "cell_type": "markdown",
   "metadata": {
    "slideshow": {
     "slide_type": "subslide"
    }
   },
   "source": [
    "![image alt >](Images/numgrade.png)\n",
    "\n",
    "Intéressons-nous donc à la position de la légende et de la barre de couleur :"
   ]
  },
  {
   "cell_type": "code",
   "execution_count": null,
   "metadata": {},
   "outputs": [],
   "source": [
    "# Move the legend on the left\n",
    "df = px.data.iris()\n",
    "figure = px.scatter(\n",
    "    df, \n",
    "    x='sepal_length', \n",
    "    y='sepal_width',\n",
    "    color='petal_width', \n",
    "    symbol='species', \n",
    "    size='petal_length',\n",
    "    size_max=10, \n",
    "    opacity=0.7, \n",
    "    symbol_sequence=['circle', 'square', 'x'], \n",
    "    color_continuous_scale='Aggrnyl'\n",
    ")\n",
    "figure.update_layout(legend=dict(x=-0.4))\n",
    "figure.show()"
   ]
  },
  {
   "cell_type": "code",
   "execution_count": null,
   "metadata": {},
   "outputs": [],
   "source": [
    "# Move the legend and the color bar on the left\n",
    "df = px.data.iris()\n",
    "figure = px.scatter(\n",
    "    df, \n",
    "    x='sepal_length', \n",
    "    y='sepal_width',\n",
    "    color='petal_width', \n",
    "    symbol='species', \n",
    "    size='petal_length',\n",
    "    size_max=10, \n",
    "    opacity=0.7, \n",
    "    symbol_sequence=['circle', 'square', 'x'], \n",
    "    color_continuous_scale='Aggrnyl'\n",
    ")\n",
    "figure.update_layout(legend=dict(x=-0.4, y=1.2))\n",
    "figure.update_coloraxes(colorbar_x=-0.4, colorbar_y=0.4)\n",
    "figure.show()"
   ]
  },
  {
   "cell_type": "markdown",
   "metadata": {},
   "source": [
    "NOTE sur la légende :\n",
    "\n",
    "Il existe de nombreuses autres options pour customiser la légende. Voir https://plotly.com/python/legend/"
   ]
  },
  {
   "cell_type": "markdown",
   "metadata": {
    "slideshow": {
     "slide_type": "subslide"
    }
   },
   "source": [
    "![image alt >](Images/numgrade.png)\n",
    "\n",
    "#### Exercices (difficulté : &#11088;)\n",
    "\n",
    "**Objectifs pédagogiques**\n",
    "\n",
    "- Tracer des nuages de points dans un graphique 2D avec plotly\n",
    "- Supprimer les valeurs nulles dans un DataFrame\n",
    "- Utiliser des options pour améliorer le rendu\n",
    "- Tracer des nuages de points dans un graphique 3D avec plotly\n",
    "\n",
    "**Enoncés** \n",
    "                \n",
    "1. Depuis la librairie seaborn, charger le jeu de donnée \"penguins\" : sns.load_dataset(\"penguins\").\n",
    "\n",
    "2. Tracer un graphique en nuage de points avec bill_depth_mm en abscisse et bill_length_mm en ordonnée.\n",
    "\n",
    "3. Améliorer le visuel en modifiant le style du tracé, ajouter un titre, modifier le nom des axes.\n",
    "\n",
    "4. Différencier sur le graphique les espèces et les îles auxquelles appartiennent chaque specimen et ajouter de la transparence.\n",
    "\n",
    "5. Supprimer les lignes contenant des NaN.\n",
    "\n",
    "6. Séparer sur deux graphiques distincts les mâles et les femelles.\n",
    "\n",
    "7. Ajouter les informations de la colonne body_mass_g en jouant sur la taille des points.\n",
    "\n",
    "8. Afin d'avoir encore plus d'informations, tracer dans un graphique en 3 dimensions les colonnes bill_depth_mm, bill_length_mm et flipper_length_mm.\n",
    "\n",
    "9. Bonus (difficulté : &#11088;&#11088;) : explorer la fonction px.scatter_matrix() afin de tracer chaque colonne en fonction d'une autre colonne."
   ]
  },
  {
   "cell_type": "markdown",
   "metadata": {
    "slideshow": {
     "slide_type": "slide"
    }
   },
   "source": [
    "![image alt >](Images/numgrade.png)\n",
    "\n",
    "### Bar Plot\n",
    "\n",
    "La fonction vous px.bar permet de tracer des graphiques sous forme de barres."
   ]
  },
  {
   "cell_type": "code",
   "execution_count": null,
   "metadata": {},
   "outputs": [],
   "source": [
    "df = px.data.election()\n",
    "df.head()"
   ]
  },
  {
   "cell_type": "code",
   "execution_count": null,
   "metadata": {},
   "outputs": [],
   "source": [
    "figure = px.bar(df, x='winner')\n",
    "figure.show()"
   ]
  },
  {
   "cell_type": "markdown",
   "metadata": {},
   "source": [
    "Dans l'exemple précédent : dans la colonne winner trois valeurs sont possibles : Joly, Coderre, Bergeron. Count correspond au nombre de lignes pour chaque valeur."
   ]
  },
  {
   "cell_type": "code",
   "execution_count": null,
   "metadata": {},
   "outputs": [],
   "source": [
    "df['winner'].value_counts()"
   ]
  },
  {
   "cell_type": "markdown",
   "metadata": {
    "slideshow": {
     "slide_type": "subslide"
    }
   },
   "source": [
    "![image alt >](Images/numgrade.png)\n",
    "\n",
    "Vous pouvez aussi tracer une colonne selon une autre colonne. Prenons des autres données :"
   ]
  },
  {
   "cell_type": "code",
   "execution_count": null,
   "metadata": {},
   "outputs": [],
   "source": [
    "df = px.data.medals_wide()\n",
    "df"
   ]
  },
  {
   "cell_type": "code",
   "execution_count": null,
   "metadata": {},
   "outputs": [],
   "source": [
    "df['total'] = df.gold + df.silver + df.bronze\n",
    "df"
   ]
  },
  {
   "cell_type": "code",
   "execution_count": null,
   "metadata": {},
   "outputs": [],
   "source": [
    "figure = px.bar(df, x='nation', y='total')\n",
    "figure.show()"
   ]
  },
  {
   "cell_type": "markdown",
   "metadata": {},
   "source": [
    "Vous pouvez utiliser le paramètre color pour ajouter de l'information"
   ]
  },
  {
   "cell_type": "code",
   "execution_count": null,
   "metadata": {},
   "outputs": [],
   "source": [
    "df_long = px.data.medals_long()\n",
    "df_long\n"
   ]
  },
  {
   "cell_type": "code",
   "execution_count": null,
   "metadata": {},
   "outputs": [],
   "source": [
    "figure = px.bar(df_long, x='medal', y='count', color='nation')\n",
    "figure.show()"
   ]
  },
  {
   "cell_type": "markdown",
   "metadata": {
    "slideshow": {
     "slide_type": "subslide"
    }
   },
   "source": [
    "![image alt >](Images/numgrade.png)\n",
    "\n",
    "Beaucoup de paramètres vus précédemment peuvent également être appliqués. "
   ]
  },
  {
   "cell_type": "code",
   "execution_count": null,
   "metadata": {},
   "outputs": [],
   "source": [
    "figure = px.bar(\n",
    "    df, \n",
    "    x='nation', \n",
    "    y='total', \n",
    "    color='nation', \n",
    "    text=\"total\",\n",
    "    hover_data=['gold', 'silver', 'bronze'], \n",
    "    title='medals'\n",
    ")\n",
    "figure.show()"
   ]
  },
  {
   "cell_type": "markdown",
   "metadata": {},
   "source": [
    "#### D'autres exemples de l'utilisation du paramètre color\n"
   ]
  },
  {
   "cell_type": "code",
   "execution_count": null,
   "metadata": {},
   "outputs": [],
   "source": [
    "df = px.data.tips()\n",
    "df.head()"
   ]
  },
  {
   "cell_type": "code",
   "execution_count": null,
   "metadata": {},
   "outputs": [],
   "source": [
    "figure = px.bar(df, x='day', y='total_bill', color='time')\n",
    "figure.show()"
   ]
  },
  {
   "cell_type": "code",
   "execution_count": null,
   "metadata": {},
   "outputs": [],
   "source": [
    "df = px.data.gapminder().query('country == \"France\"')\n",
    "df.tail()"
   ]
  },
  {
   "cell_type": "code",
   "execution_count": null,
   "metadata": {},
   "outputs": [],
   "source": [
    "figure = px.bar(df, x='year', y='pop', color='lifeExp')\n",
    "figure.show()"
   ]
  },
  {
   "cell_type": "markdown",
   "metadata": {},
   "source": [
    "#### Quelques paramètres supplémentaires\n",
    "\n",
    "- orientation : vous permet de définir l'orientaiton des barre : 'v' ou 'h'\n",
    "\n",
    "- text_auto : Si vous passez la valeur True, les valeurs x ou y seront affichées sous forme de texte, en fonction de l'orientation. Vous pouvez également passer une chaîne de caractères qui définira le nombre de chiffre après la virgule, par exemple f'.2f'\n",
    "\n",
    "- color_continuous_scale : comme vu précedemment permet de modifier le choix de la séquence de couleur"
   ]
  },
  {
   "cell_type": "code",
   "execution_count": null,
   "metadata": {},
   "outputs": [],
   "source": [
    "figure = px.bar(\n",
    "    df, \n",
    "    x='pop', \n",
    "    y='year', \n",
    "    color='lifeExp', \n",
    "    orientation='h', \n",
    "    text_auto=True,\n",
    "    color_continuous_scale='Aggrnyl_r'\n",
    ")\n",
    "figure.show()"
   ]
  },
  {
   "cell_type": "code",
   "execution_count": null,
   "metadata": {},
   "outputs": [],
   "source": [
    "df.head()"
   ]
  },
  {
   "cell_type": "markdown",
   "metadata": {},
   "source": [
    "- pattern_shape : à la place d'attribuer des couleurs, vous appliquez un motif selon la colonne choisie :"
   ]
  },
  {
   "cell_type": "code",
   "execution_count": null,
   "metadata": {},
   "outputs": [],
   "source": [
    "# pattern_shape\n",
    "figure = px.bar(\n",
    "    df, \n",
    "    x='pop', \n",
    "    y='lifeExp',\n",
    "    orientation='h',  \n",
    "    pattern_shape='year'\n",
    ")\n",
    "figure.show()\n",
    "\n",
    "# Attention, s'il y a trop de valeurs différentes, les motifs se répètent. "
   ]
  },
  {
   "cell_type": "markdown",
   "metadata": {
    "slideshow": {
     "slide_type": "subslide"
    }
   },
   "source": [
    "![image alt >](Images/numgrade.png)\n",
    "\n",
    "color_continuous_midpoint : la valeur est la valeur médiane de la colorbar souhaité. Il est recommandé de définir cette valeur lorsque l'on utilise des échelles de couleurs divergentes.\n",
    "\n",
    "Comparez les 2 exemples :"
   ]
  },
  {
   "cell_type": "code",
   "execution_count": null,
   "metadata": {},
   "outputs": [],
   "source": [
    " # Without color_continuous_midpoint.\n",
    "figure = px.bar(\n",
    "    df, \n",
    "    x='lifeExp', \n",
    "    y='year', \n",
    "    color='pop',\n",
    "    orientation='h',\n",
    "    color_continuous_scale='BrBG'\n",
    ")\n",
    "figure.show()"
   ]
  },
  {
   "cell_type": "code",
   "execution_count": null,
   "metadata": {},
   "outputs": [],
   "source": [
    "# With color_continuous_midpoint.\n",
    "figure = px.bar(\n",
    "    df, \n",
    "    x='lifeExp', \n",
    "    y='year', \n",
    "    color='pop',\n",
    "    orientation='h', \n",
    "    color_continuous_midpoint=df['pop'].mean(),\n",
    "    color_continuous_scale='BrBG'\n",
    ")\n",
    "figure.show()"
   ]
  },
  {
   "cell_type": "markdown",
   "metadata": {
    "slideshow": {
     "slide_type": "subslide"
    }
   },
   "source": [
    "![image alt >](Images/numgrade.png)\n",
    "\n",
    "barmode : 'group', 'overlay' ou 'relative', par défaut relative. En mode 'relative', les barres sont empilées au-dessus de zéro pour les valeurs positives et au-dessous de zéro pour les valeurs négatives. En mode \"superposition\", les barres sont dessinées les unes sur les autres. En mode \"groupe\", les barres sont placées les unes à côté des autres."
   ]
  },
  {
   "cell_type": "markdown",
   "metadata": {},
   "source": [
    "Voici un exemple précédent sans le mode \"group\" :"
   ]
  },
  {
   "cell_type": "code",
   "execution_count": null,
   "metadata": {},
   "outputs": [],
   "source": [
    "df = px.data.tips()\n",
    "figure = px.bar(df, x='day', y='total_bill', color='time')\n",
    "figure.show()"
   ]
  },
  {
   "cell_type": "markdown",
   "metadata": {},
   "source": [
    "Le même exemple avec le mode \"group\" :"
   ]
  },
  {
   "cell_type": "code",
   "execution_count": null,
   "metadata": {},
   "outputs": [],
   "source": [
    "df = px.data.tips()\n",
    "df.head()\n",
    "figure = px.bar(df, x='day', y='total_bill', color='time', barmode='group')\n",
    "figure.show()"
   ]
  },
  {
   "cell_type": "markdown",
   "metadata": {
    "slideshow": {
     "slide_type": "slide"
    }
   },
   "source": [
    "![image alt >](Images/numgrade.png)\n",
    "\n",
    "### Histogram"
   ]
  },
  {
   "cell_type": "code",
   "execution_count": null,
   "metadata": {},
   "outputs": [],
   "source": [
    "df = px.data.tips()\n",
    "fig = px.histogram(df, x=\"total_bill\")\n",
    "fig.show()"
   ]
  },
  {
   "cell_type": "markdown",
   "metadata": {
    "slideshow": {
     "slide_type": "subslide"
    }
   },
   "source": [
    "![image alt >](Images/numgrade.png)\n",
    "\n",
    "Beaucoup de paramètres optionnels vus précédemment fonctionnent. "
   ]
  },
  {
   "cell_type": "code",
   "execution_count": null,
   "metadata": {},
   "outputs": [],
   "source": [
    "df = px.data.tips()\n",
    "fig = px.histogram(\n",
    "    df, \n",
    "    x=\"total_bill\", \n",
    "    color=\"sex\",\n",
    "    title='Distribution des additions',\n",
    "    labels={'total_bill': \"Montant de l'addition\"},\n",
    "    template='plotly_dark', \n",
    "    pattern_shape='smoker',\n",
    "    color_discrete_sequence=['purple', 'orange']\n",
    ")\n",
    "fig.show()"
   ]
  },
  {
   "cell_type": "markdown",
   "metadata": {},
   "source": [
    "Vous pouvez préciser une colonne pour les données en ordonnées :"
   ]
  },
  {
   "cell_type": "code",
   "execution_count": null,
   "metadata": {},
   "outputs": [],
   "source": [
    "df = px.data.tips()\n",
    "fig = px.histogram(\n",
    "    df, \n",
    "    x=\"total_bill\", \n",
    "    y='tip',\n",
    "    color=\"sex\",\n",
    "    title='Distribution des additions'\n",
    ")\n",
    "fig.show()"
   ]
  },
  {
   "cell_type": "markdown",
   "metadata": {
    "slideshow": {
     "slide_type": "subslide"
    }
   },
   "source": [
    "![image alt >](Images/numgrade.png)\n",
    "\n",
    "#### Quelques paramètres spécifiques"
   ]
  },
  {
   "cell_type": "markdown",
   "metadata": {},
   "source": [
    "Voici quelques paramètres supplémentaires : \n",
    "\n",
    "- nbins : Entier positif pour définir le nombre maximal de bins.\n",
    "\n",
    "- cumulative : Si True, les valeurs de l'histogramme sont cumulées.\n",
    "\n",
    "- barnorm : L'une des options suivantes : \"fraction\" ou \"pourcentage\". Si 'fraction', la valeur de chaque barre est divisée par la somme de toutes les valeurs. Le \"pourcentage\" est identique, mais il est multiplié par 100 pour afficher les pourcentages. "
   ]
  },
  {
   "cell_type": "code",
   "execution_count": null,
   "metadata": {},
   "outputs": [],
   "source": [
    "df = px.data.tips()\n",
    "fig = px.histogram(\n",
    "    df, \n",
    "    x=\"total_bill\", \n",
    "    color=\"sex\",\n",
    "    title='Distribution des additions',\n",
    "    labels={'total_bill': \"Montant de l'addition\"},\n",
    "    template='plotly_dark', \n",
    "    pattern_shape='smoker',\n",
    "    color_discrete_sequence=['purple', 'orange'],\n",
    "    cumulative=True,\n",
    "    nbins=20\n",
    ")\n",
    "fig.show()"
   ]
  },
  {
   "cell_type": "code",
   "execution_count": null,
   "metadata": {},
   "outputs": [],
   "source": [
    "df = px.data.tips()\n",
    "fig = px.histogram(\n",
    "    df, \n",
    "    x=\"total_bill\", \n",
    "    color=\"sex\",\n",
    "    title='Distribution des additions',\n",
    "    labels={'total_bill': \"Montant de l'addition\"},\n",
    "    template='plotly_dark', \n",
    "    pattern_shape='smoker',\n",
    "    color_discrete_sequence=['purple', 'orange'],\n",
    "    barnorm='percent'\n",
    ")\n",
    "fig.show()"
   ]
  },
  {
   "cell_type": "markdown",
   "metadata": {
    "slideshow": {
     "slide_type": "slide"
    }
   },
   "source": [
    "![image alt >](Images/numgrade.png)\n",
    "\n",
    "### Autres graphiques\n",
    "\n",
    "De nombreux autres types de graphiques sont accessibles dans plotly, n'hésitez pas à consulter la documentation : https://plotly.com/python-api-reference/index.html\n",
    "- Diagrammes circulaires : px.pie()\n",
    "- Boites à moustache et dérivées : px.box(), px.violin(), px.strip()\n",
    "- Time line : px.timeline()\n",
    "- Des diagrammes en boîtes : px.treemap(), px.sunburst(), px.icicle()\n",
    "- Des diagrammes de lignes/boîtes parallèles : px.parallel_coordinates(), px.parallel_categories().\n",
    "-  Graphique de Fonction de distribution cumulative empirique : empirical Cumulative Distribution Function (ECDF) : px.ecdf()\n",
    "- Des diagrammes en entonnoir : px.funnel(), px.funnel_area()."
   ]
  },
  {
   "cell_type": "markdown",
   "metadata": {
    "slideshow": {
     "slide_type": "subslide"
    }
   },
   "source": [
    "![image alt >](Images/numgrade.png)\n",
    "\n",
    "#### Exercices\n",
    "\n",
    "**Objectifs pédagogiques**\n",
    "\n",
    "- Choisir le bon type de graphique\n",
    "- Trier les données d'un DataFrame\n",
    "- Utiliser des options pour améliorer le graphique\n",
    "\n",
    "##### Exercice 1 (difficulté : ⭐)\n",
    "                    \n",
    "On souhaite représenter le nombre de passager du Titanic selon la classe dans laquelle ils voyagent et différencier les voyageurs ayant survécus de ceux qui ont péris.\n",
    "\n",
    "**Enoncé détaillé** :\n",
    "                \n",
    "1. Depuis la librairie seaborn, charger le jeu de donnée \"titanic\" : sns.load_dataset(\"titanic\").\n",
    "\n",
    "2. Représenter le nombre de passager selon la classe. \n",
    "\n",
    "3. Bonus : faire en sorte que les classes soient représentées dans l'ordre de la première à la troisième.\n",
    "\n",
    "4. Ajouter l'information de la colonne alive.\n",
    "\n",
    "5. Améliorer le rendu : ajouter un titre, modifier le noms des axes, modifier le style du tracé, etc. "
   ]
  },
  {
   "cell_type": "markdown",
   "metadata": {
    "slideshow": {
     "slide_type": "fragment"
    }
   },
   "source": [
    "##### Exercice 2 (difficulté : ⭐⭐)\n",
    "\n",
    "A partir du jeu de donnée taxis provenant de seaborn (import seaborn as sns puis  sns.load_dataset(\"taxis\")), tracez le graphique suivant :\n",
    "\n",
    "![](Images/exo_hist.png)\n",
    "\n",
    "**Enoncé détaillé** :\n",
    "\n",
    "1. Depuis la librairie seaborn, charger le jeux de donnée taxis avec la commande : df = sns.load_dataset(\"taxis\").\n",
    "\n",
    "2. Tracer un histogramme des pourboires (tip) selon l'addition totale (total).\n",
    "\n",
    "3. Par défaut, la somme des pourboires est calculée. Modifier ce comportement grâce à l'option histfunc. Tracer la moyenne (average) et non plus la somme des pourboires.\n",
    "\n",
    "4. Ajouter les informations concernant les colonnes pickup_borough et color ainsi qu'un titre."
   ]
  },
  {
   "cell_type": "markdown",
   "metadata": {
    "slideshow": {
     "slide_type": "-"
    }
   },
   "source": [
    "##### Exercice 3 (optionnel - difficulté : ⭐⭐⭐)\n",
    "\n",
    "1. A partir du jeu de données px.data.tips(), tracer un diagramme circulaire représentant le % de tips selon les jours de la semaine. \n",
    "2. Transformer le diagramme circulaire en donut.\n",
    "3. Faire deux diagrammes afin de séparer les données des fumeurs et des non-fumeurs.\n",
    "4. Faire apparaître les statistiques des pourboires sous forme de boîte à moustache en séparant les fumeurs des non-fumeurs et en séparant les jours de la semaine. "
   ]
  },
  {
   "cell_type": "markdown",
   "metadata": {
    "slideshow": {
     "slide_type": "slide"
    }
   },
   "source": [
    "![image alt >](Images/numgrade.png)\n",
    "\n",
    "### Les cartes avec plotly"
   ]
  },
  {
   "cell_type": "markdown",
   "metadata": {},
   "source": [
    "Pour tracer vos graphiques linéaires et nuages de points sur une carte, vous pouvez utiliser l'une des fonctions suivantes :\n",
    "\n",
    "- px.line_map() / px.scatter_map()\n",
    "\n",
    "- px.line_geo() / px.scatter_geo()\n",
    "\n",
    "- px.line_mapbox() / px.scatter_mapbox() : fonctions que nous ne présenterons pas car elles vont être supprimés dans une prochaine version."
   ]
  },
  {
   "cell_type": "markdown",
   "metadata": {},
   "source": [
    "Les fonctions en *\\_map combinent plotly et les cartes openstreetmap. "
   ]
  },
  {
   "cell_type": "code",
   "execution_count": null,
   "metadata": {},
   "outputs": [],
   "source": [
    "import pandas as pd\n",
    "\n",
    "# Import data from USGS\n",
    "data = pd.read_csv('https://earthquake.usgs.gov/earthquakes/feed/v1.0/summary/all_month.csv')\n",
    "\n",
    "\n",
    "# Drop rows with missing or invalid values in the 'mag' column\n",
    "data = data.dropna(subset=['mag'])\n",
    "data = data[data.mag >= 0]\n",
    "\n",
    "\n",
    "data.head()"
   ]
  },
  {
   "cell_type": "markdown",
   "metadata": {},
   "source": [
    "Pour utiliser les fonctions *_map et *_geo : les paramètres obligatoires sont le DataFrame, la latitude et la longitude. "
   ]
  },
  {
   "cell_type": "code",
   "execution_count": null,
   "metadata": {},
   "outputs": [],
   "source": [
    "# Create scatter map\n",
    "fig = px.scatter_map(\n",
    "    data, \n",
    "    lat='latitude', \n",
    "    lon='longitude', \n",
    "    color='mag',\n",
    "    hover_name='place', #size='mag',\n",
    "    title='Earthquakes Around the World'\n",
    ")\n",
    "fig.show()"
   ]
  },
  {
   "cell_type": "markdown",
   "metadata": {},
   "source": [
    "Beaucoup de paramètres déjà évoqués fonctionnent. A ceux là s'ajoutent :\n",
    "- zoom : qui doit être un entier entre 0 et 20 (8 par défaut)\n",
    "- center : permet de définir le centre de la carte, il prend un dictionnaire avec comme clé 'lat' et 'lon' et comme valeurs les  coordonnées souhaitées."
   ]
  },
  {
   "cell_type": "code",
   "execution_count": null,
   "metadata": {},
   "outputs": [],
   "source": [
    "# Create scatter map\n",
    "fig = px.scatter_map(\n",
    "    data, \n",
    "    lat='latitude', \n",
    "    lon='longitude', \n",
    "    color='mag',\n",
    "    hover_name='place', \n",
    "    zoom=2,\n",
    "    center={'lat':30, 'lon':110},\n",
    "    title='Earthquakes Around the World'\n",
    ")\n",
    "fig.show()"
   ]
  },
  {
   "cell_type": "markdown",
   "metadata": {
    "slideshow": {
     "slide_type": "subslide"
    }
   },
   "source": [
    "![image alt >](Images/numgrade.png)\n",
    "\n",
    "Les fonctions px.line_geo() / px.scatter_geo() fonctionnent de manière assez similaire à px.line_map et px.scatter_map mais ne comportent pas l'option zoom. En revanche, l'option scope permet de spécifier la zone à afficher. Les valeurs possibles sont 'world', 'usa', 'europe', 'asia', 'africa', 'north america', or 'south america'."
   ]
  },
  {
   "cell_type": "code",
   "execution_count": null,
   "metadata": {},
   "outputs": [],
   "source": [
    "# Create scatter map\n",
    "fig = px.scatter_geo(\n",
    "    data, \n",
    "    lat='latitude', \n",
    "    lon='longitude', \n",
    "    color='mag',\n",
    "    hover_name='place',\n",
    "    title='Earthquakes Around the World')\n",
    "fig.show()"
   ]
  },
  {
   "cell_type": "code",
   "execution_count": null,
   "metadata": {
    "scrolled": true
   },
   "outputs": [],
   "source": [
    "# Create scatter map\n",
    "fig = px.scatter_geo(\n",
    "    data, \n",
    "    lat='latitude', \n",
    "    lon='longitude', \n",
    "    color='mag',\n",
    "    hover_name='place',\n",
    "    title='Earthquakes Around the World', \n",
    "    scope='asia'\n",
    ")\n",
    "fig.show()"
   ]
  },
  {
   "cell_type": "markdown",
   "metadata": {},
   "source": [
    "Vous pouvez modifier la projection avec le paramètre projection.  Les valeurs possibles sont : 'equirectangular', 'mercator', 'orthographic', 'natural earth', 'kavrayskiy7', 'miller', 'robinson', 'eckert4', 'azimuthal equal area', 'azimuthal equidistant', 'conic equal area', 'conic conformal', 'conic equidistant', 'gnomonic', 'stereographic', 'mollweide', 'hammer', 'transverse mercator', 'albers usa', 'winkel tripel', 'aitoff', ou 'sinusoidal'."
   ]
  },
  {
   "cell_type": "code",
   "execution_count": null,
   "metadata": {},
   "outputs": [],
   "source": [
    "# Create scatter map\n",
    "fig = px.scatter_geo(\n",
    "    data, \n",
    "    lat='latitude', \n",
    "    lon='longitude', \n",
    "    color='mag',\n",
    "    hover_name='place',\n",
    "    title='Earthquakes Around the World', \n",
    "    projection='orthographic'\n",
    ")\n",
    "fig.show()"
   ]
  },
  {
   "cell_type": "markdown",
   "metadata": {
    "slideshow": {
     "slide_type": "subslide"
    }
   },
   "source": [
    "![image alt >](Images/numgrade.png)\n",
    "\n",
    "Si vous n'avez pas la latitude et la longitude d'autres paramètres peuvent être utilisés pour pouvoir tracer une carte.\n",
    "\n",
    "Si l'une de vos colonnes correspond aux noms des pays vous pouvez utiliser les deux paramètres suivants :\n",
    "\n",
    "- locations : avec le nom de la colonne qui contient les pays\n",
    "\n",
    "- location_mode : avec comme valeur 'country names'\n",
    "\n",
    "Si vous n'avez pas les noms des pays, mais les codes iso les valeurs à passer au paramètres seront :\n",
    "\n",
    "- le nom de la colonne pour locations\n",
    "\n",
    "- 'ISO-3' pour le paramètre location_mode\n",
    "\n",
    "Une dernière possibilité correspond aux noms des états américains. Dans ce cas, vous passez le nom de la colonne qui les contient et vous passez \"USA-states\" au paramètre locationmode."
   ]
  },
  {
   "cell_type": "code",
   "execution_count": null,
   "metadata": {},
   "outputs": [],
   "source": [
    "df = px.data.gapminder().query(\"year == 2007\")\n",
    "df.head()"
   ]
  },
  {
   "cell_type": "code",
   "execution_count": null,
   "metadata": {
    "scrolled": true
   },
   "outputs": [],
   "source": [
    "fig = px.line_geo(\n",
    "    df, \n",
    "    locations=\"country\",\n",
    "    locationmode=\"country names\",\n",
    "    color=\"continent\"\n",
    ")\n",
    "fig.show()"
   ]
  },
  {
   "cell_type": "code",
   "execution_count": null,
   "metadata": {},
   "outputs": [],
   "source": [
    "fig = px.line_geo(\n",
    "    df, \n",
    "    locations=\"iso_alpha\",\n",
    "    locationmode=\"ISO-3\",\n",
    "    color=\"continent\"\n",
    ")\n",
    "fig.show()"
   ]
  },
  {
   "cell_type": "markdown",
   "metadata": {},
   "source": [
    "Le paramètre fitbounds permet de mettre des limites à la cartes, les valeurs possibles sont False (par défaut), locations ou geojson."
   ]
  },
  {
   "cell_type": "code",
   "execution_count": null,
   "metadata": {},
   "outputs": [],
   "source": [
    "fig = px.line_geo(\n",
    "    df, \n",
    "    locations=\"iso_alpha\",\n",
    "    locationmode=\"ISO-3\",\n",
    "    color=\"continent\", \n",
    "    fitbounds=\"locations\"\n",
    ")\n",
    "fig.show()"
   ]
  },
  {
   "cell_type": "markdown",
   "metadata": {
    "slideshow": {
     "slide_type": "subslide"
    }
   },
   "source": [
    " ![image alt >](Images/numgrade.png)\n",
    " \n",
    " ## Choropleth map\n",
    " \n",
    " Deux fonctions permettent de faire ce type de cartes :\n",
    " - px.choropleth()\n",
    " - px.choropleth_map()"
   ]
  },
  {
   "cell_type": "markdown",
   "metadata": {},
   "source": [
    "#### Quelles sont les différences entre ces deux fonctions ?\n",
    "\n",
    "Pour la fonction choropleth() vous pouvez tracer votre carte avec au choix la latitude et la longitude ou avec un geojson ou bien encore avec une colonne comportant des nom de pays, des états américains ou des codes ISO, tandis que pour la fonction choropleth_map(), seule l'utilisation des geojson est possible. \n",
    "\n",
    "Les paramètres facet_row et facet_col, qui permettent de faire des subplots, ne sont disponibles qu'avec la fonction choropleth(). De même, le paramètre projection n'est disponible qu'avec la fonction chloropleth().\n",
    "\n",
    "Pour sélectionner une région précise à afficher, choropleth() aura le paramètre scope, tandis que  choropleth_map() pourra être sur une région plus précise grâce au paramètre zoom.\n",
    "\n",
    "choropleth_map() possède les paramètres opacity et map_style que n'a pas choropleth()."
   ]
  },
  {
   "cell_type": "code",
   "execution_count": null,
   "metadata": {},
   "outputs": [],
   "source": [
    "df = px.data.gapminder().query(\"year==2007\")\n",
    "fig = px.choropleth(\n",
    "    df, \n",
    "    locations=\"iso_alpha\",\n",
    "    color=\"lifeExp\", \n",
    "    color_continuous_scale=px.colors.sequential.Plasma)\n",
    "fig.show()"
   ]
  },
  {
   "cell_type": "markdown",
   "metadata": {},
   "source": [
    "#### Exercices sur les cartes\n",
    "\n",
    "**Objectifs pédagogiques**\n",
    "\n",
    "- Ouvrir un fichier csv avec pandas\n",
    "- Tracer une carte avec plotly\n",
    "- Utiliser des options pour améliorer la carte\n",
    "\n",
    "##### Exercice 1 (difficulté : &#11088;&#11088;)\n",
    "                    \n",
    "A partir du fichier csv station_meteo.csv, tracez sur une carte avec un fond de carte open street map, la localisation des stations météorologiques françaises en métropole, en faisant ressortir leur altitude. Votre carte doit posséder un titre, être centrée et zoomée sur la France et l'information ID doit apparaître lorsque votre souris passe sur un des points. La barre de couleur doit être \"turbid\" et le titre de la légende \"Altitude (m)\".\n",
    "\n",
    "**Enoncé détaillé** :\n",
    "                \n",
    "1. Ouvrir avec pandas le fichier csv station_meteo.csv. Attention au séparateur de colonnes.\n",
    "\n",
    "2. Utiliser la fonction scatter_map pour représenter sous forme de points les stations météorologiques.\n",
    "\n",
    "3. La couleur des points doit dépendre de l'altitude de chaque station.\n",
    "\n",
    "4. Centrer la carte et zoomer sur la France.\n",
    "\n",
    "5. Modifier la couleur des points en utilisant le jeu de couleur \"turbid\".\n",
    "\n",
    "6. Améliorer le rendu : ajouter un titre et changer le nom de la légende (Altitude -> Altitude(m)).\n",
    "\n",
    "7. Faire apparaître l'information ID lorsque la souris passe sur un des points.\n",
    "\n",
    "##### Exercice 2 (optionnel - difficulté : &#11088;&#11088;)\n",
    "\n",
    "1. Faire la même chose que pour l'exercice précédent mais en utilisant la fonction scatter_geo. \n",
    "\n",
    "2. Centrer la carte sur l'Europe.\n",
    "\n",
    "3. Jouer sur le type de projection."
   ]
  }
 ],
 "metadata": {
  "anaconda-cloud": {},
  "celltoolbar": "Slideshow",
  "kernelspec": {
   "display_name": "Python 3 (ipykernel)",
   "language": "python",
   "name": "python3"
  },
  "language_info": {
   "codemirror_mode": {
    "name": "ipython",
    "version": 3
   },
   "file_extension": ".py",
   "mimetype": "text/x-python",
   "name": "python",
   "nbconvert_exporter": "python",
   "pygments_lexer": "ipython3",
   "version": "3.11.12"
  },
  "livereveal": {
   "autolaunch": false,
   "scroll": true
  },
  "widgets": {
   "state": {},
   "version": "2.0.10"
  }
 },
 "nbformat": 4,
 "nbformat_minor": 4
}
